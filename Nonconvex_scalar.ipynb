{
 "cells": [
  {
   "cell_type": "markdown",
   "metadata": {},
   "source": [
    "# Nonconvex scalar Conservation Laws and the Osher Solution\n",
    "\n",
    "This chapter presents the implementation of Osher's general solution to the scalar nonlinear Riemann problem that is valid also for non-convex fluxes, using the formula from <cite data-cite=\"osher1984\"><a href=\"riemann.html#osher1984\">(Osher 1984)</a></cite>:\n",
    "\n",
    "$$\n",
    "Q(\\xi) = \\begin{cases} \n",
    "    \\text{argmin}_{q_l \\leq q \\leq q_r} [f(q) - \\xi q]& \\text{if} ~q_l\\leq q_r,\\\\\n",
    "    \\text{argmax}_{q_r \\leq q \\leq q_l} [f(q) - \\xi q]& \\text{if} ~q_r\\leq q_l.\\\\\n",
    "\\end{cases}\n",
    "$$\n",
    "\n",
    "See also Section 16.1 of <cite data-cite=\"fvmhp\"><a href=\"riemann.html#fvmhp\">(LeVeque 2002)</a></cite>.\n",
    "\n"
   ]
  },
  {
   "cell_type": "markdown",
   "metadata": {},
   "source": [
    "*[Add some more general discussion of non-convex fluxes.]*"
   ]
  },
  {
   "cell_type": "markdown",
   "metadata": {},
   "source": [
    "## Define a function returning the  Osher solution\n",
    "\n",
    "We first define a function that can be used for any flux function $f(q)$ and left and right states. It returns the the single-valued Riemann solution consisting of shocks and rarefaction waves, and also returned the possibly multi-valued solution that would be obtained by tracing characteristics without regard to shock formation.\n",
    "\n",
    "You can jump over the next few code cells if you just want to explore some examples of nonconvex problems."
   ]
  },
  {
   "cell_type": "code",
   "execution_count": null,
   "metadata": {
    "collapsed": false,
    "tags": [
     "hide"
    ]
   },
   "outputs": [],
   "source": [
    "%matplotlib inline\n",
    "from __future__ import print_function\n",
    "import numpy as np\n",
    "import matplotlib.pyplot as plt\n",
    "from IPython.display import display\n",
    "from ipywidgets import widgets, fixed\n",
    "from ipywidgets import interact\n",
    "from utils import riemann_tools\n",
    "import numpy as np"
   ]
  },
  {
   "cell_type": "markdown",
   "metadata": {},
   "source": [
    "The next cell defines a function that evaluates the Osher solution, and returns that function."
   ]
  },
  {
   "cell_type": "code",
   "execution_count": null,
   "metadata": {},
   "outputs": [],
   "source": [
    "def osher_solution(f, q_left, q_right, n=1000):\n",
    "    \"\"\"\n",
    "    Compute the Riemann solution to a scalar conservation law.\n",
    "    \n",
    "    Compute the similarity solution Q(x/t) and also the \n",
    "    (possibly multi-valued) solution determined by tracing \n",
    "    characteristics.\n",
    "    \n",
    "    Input:\n",
    "      f = flux function (possibly nonconvex)\n",
    "      q_left, q_right = Riemann data\n",
    "      \n",
    "    Returns:\n",
    "      qtilde = function of xi = x/t giving the Riemann solution\n",
    "    \"\"\"\n",
    "\n",
    "    from numpy import linspace,empty,argmin,argmax\n",
    "    \n",
    "    q_min = min(q_left, q_right)\n",
    "    q_max = max(q_left, q_right)\n",
    "    qv = linspace(q_min, q_max, n)\n",
    "    \n",
    "    # define the function qtilde as in (16.7)\n",
    "    if q_left <= q_right:\n",
    "        def qtilde(xi):\n",
    "            Q = empty(xi.shape, dtype=float)\n",
    "            for j,xij in enumerate(xi):\n",
    "                i = argmin(f(qv) - xij*qv)\n",
    "                Q[j] = qv[i]\n",
    "            return Q\n",
    "    else:\n",
    "        def qtilde(xi):\n",
    "            Q = empty(xi.shape, dtype=float)\n",
    "            for j,xij in enumerate(xi):\n",
    "                i = argmax(f(qv) - xij*qv)\n",
    "                Q[j] = qv[i]\n",
    "            return Q\n",
    "    \n",
    "    return qtilde"
   ]
  },
  {
   "cell_type": "markdown",
   "metadata": {},
   "source": [
    "Using the function `osher_solution` we define a function `nonconvex_solutions` that evaluates this solution at a set of `xi = x/t` values.  It also computes the possibly multi-valued solution that would be obtained by tracing characteristics, for plotting purposes.  An additional function `make_plot_function` returns a plotting function for use in interactive widgets below.  "
   ]
  },
  {
   "cell_type": "code",
   "execution_count": null,
   "metadata": {
    "tags": [
     "hide"
    ]
   },
   "outputs": [],
   "source": [
    "def nonconvex_solutions(f, q_left, q_right, xi_left=None, xi_right=None):\n",
    "    \"\"\"\n",
    "    Compute the Riemann solution to a scalar conservation law.\n",
    "    \n",
    "    Compute the similarity solution Q(x/t) and also the \n",
    "    (possibly multi-valued) solution determined by tracing \n",
    "    characteristics.\n",
    "    \n",
    "    Input:\n",
    "      f = flux function (possibly nonconvex)\n",
    "      q_left, q_right = Riemann data\n",
    "      xi_left, xi_right = optional left and right limits for xi = x/t\n",
    "               in similarity solution.\n",
    "               If not specified, chosen based on the characteristic speeds.\n",
    "    \n",
    "    Returns:\n",
    "      xi = array of values between xi_left and xi_right\n",
    "      q  = array of corresponding q(xi) values (xi = x/t)\n",
    "      q_char = array of values of q between q_left and q_right\n",
    "      xi_char = xi value for each q_char for use in plotting the\n",
    "              (possibly multi-valued) solution where each q value\n",
    "              propagates at speed f'(q).\n",
    "    \"\"\"\n",
    "    \n",
    "    from numpy import linspace,empty,argmin,argmax,diff,hstack\n",
    "    \n",
    "    qtilde = osher_solution(f, q_left, q_right)\n",
    "    \n",
    "    q_min = min(q_left, q_right)\n",
    "    q_max = max(q_left, q_right)\n",
    "    qv = linspace(q_min, q_max, 1000)\n",
    "    \n",
    "     \n",
    "    xi = linspace(xi_left, xi_right, 1000)\n",
    "    q = qtilde(xi)\n",
    "    \n",
    "    # The rest is just for plotting purposes:\n",
    "    fv = f(qv)\n",
    "    dfdq = diff(fv) / (qv[1] - qv[0])\n",
    "    dfdq_min = dfdq.min()\n",
    "    dfdq_max = dfdq.max()\n",
    "    dfdq_range = dfdq_max - dfdq_min\n",
    "    \n",
    "    #print(\"Mininum characteristic velocity: %g\" % dfdq_min)\n",
    "    #print(\"Maximum characteristic velocity: %g\" % dfdq_max)\n",
    "    \n",
    "    if xi_left is None: \n",
    "        xi_left = min(0,dfdq_min) - 0.1*dfdq_range\n",
    "    if xi_right is None: \n",
    "        xi_right = max(0,dfdq_max) + 0.1*dfdq_range\n",
    "        \n",
    "    q_char = hstack((q_min, 0.5*(qv[:-1] + qv[1:]), q_max))\n",
    "    \n",
    "    if q_left <= q_right:\n",
    "        xi_min = xi_left\n",
    "        xi_max = xi_right\n",
    "    else:\n",
    "        xi_min = xi_right\n",
    "        xi_max = xi_left\n",
    "   \n",
    "    xi_char = hstack((xi_min, dfdq, xi_max))\n",
    "    \n",
    "    return xi, q, q_char, xi_char\n",
    "    "
   ]
  },
  {
   "cell_type": "code",
   "execution_count": null,
   "metadata": {},
   "outputs": [],
   "source": [
    "def plot_waves(f,q_left, q_right, xi_left, xi_right, n=1000, axes=None, t=0.2):\n",
    "    qtilde = osher_solution(f, q_left, q_right, 3*n)\n",
    "    xi = np.linspace(-2, 2, n)\n",
    "    qvals = qtilde(xi)\n",
    "    fvals = f(qvals)\n",
    "    dxi = xi[1]-xi[0]\n",
    "    smoothness = riemann_tools.detect_smoothness(qvals,dxi,dmax=10)\n",
    "    values, ranges = riemann_tools.intervals(smoothness)\n",
    "    wave_types, speeds = riemann_tools.make_waves(values, ranges, xi)\n",
    "    riemann_tools.plot_waves(None,speeds,None,wave_types,ax=axes,t_pointer=False,t=t)"
   ]
  },
  {
   "cell_type": "markdown",
   "metadata": {
    "tags": [
     "hide"
    ]
   },
   "source": [
    "We also define a function that creates a `plot_function` useful in creating plots of the solutions below."
   ]
  },
  {
   "cell_type": "code",
   "execution_count": null,
   "metadata": {
    "tags": [
     "hide"
    ]
   },
   "outputs": [],
   "source": [
    "def make_plot_function(f, q_left, q_right, xi_left, xi_right):\n",
    "    \n",
    "    xi, qxi, q_char, xi_char = nonconvex_solutions(f, q_left, q_right, \n",
    "                                              xi_left, xi_right)\n",
    "    def plot_function(t=0.2, fig=0):\n",
    "        \"\"\"\n",
    "        Create plot at time t.\n",
    "        Nonzero fig is used only by jsanimate_widgets when\n",
    "        converting to html files.\n",
    "        \"\"\"\n",
    "        if fig==0: \n",
    "            plt.figure(figsize=(14,6))\n",
    "            \n",
    "        # plot solution q(x,t):\n",
    "        plt.subplot(1,3,1)\n",
    "        # from characteristic-based solution:\n",
    "        plt.plot(xi_char*t,q_char,'k--') \n",
    "\n",
    "        # single-valued solution, extended full domain:\n",
    "        xi_plot = np.hstack((xi_left,xi*t,xi_right))\n",
    "        q_plot = np.hstack((q_left,qxi,q_right))\n",
    "        plt.plot(xi_plot, q_plot, 'k', linewidth=2)\n",
    "        plt.title('Solution q(x,t) at t = %4.2f' % t)\n",
    "        plt.xlabel('x')\n",
    "\n",
    "        plt.xlim(xi_left,xi_right)\n",
    "        \n",
    "        # plot flux function and convex hull:\n",
    "        plt.subplot(1,3,3)\n",
    "        q_plot = np.linspace(q_left, q_right, 1000)\n",
    "        f_plot = f(q_plot)\n",
    "        plt.plot(q_plot, f_plot, 'k--', label='f(q)')\n",
    "        plt.plot(qxi, f(qxi),'k', label='Convex hull')\n",
    "        plt.plot([q_left,q_right],[f(q_left),f(q_right)],'bo')\n",
    "        plt.title('Flux function')\n",
    "        plt.xlabel('q')\n",
    "        plt.legend()\n",
    "\n",
    "        ax = plt.subplot(1,3,2)\n",
    "        plot_waves(f,q_left,q_right,xi_left,xi_right,n=1000,axes=ax,t=t)\n",
    "        ax.set_xlim(xi_left,xi_right)\n",
    "        \n",
    "        if fig==0: plt.show()\n",
    "        return None\n",
    "    return plot_function"
   ]
  },
  {
   "cell_type": "markdown",
   "metadata": {},
   "source": [
    "## Traffic flow\n",
    "\n",
    "First try a convex flux, such as $f(q) = q(1-q)$ from traffic flow (with $q$ now representing the density $\\rho$ that was used in [Traffic_flow.ipynb](Traffic_flow.ipynb))."
   ]
  },
  {
   "cell_type": "code",
   "execution_count": null,
   "metadata": {},
   "outputs": [],
   "source": [
    "f = lambda q: q*(1-q)\n",
    "\n",
    "plt.figure(figsize=(12,5))\n",
    "plt.subplot(121)\n",
    "\n",
    "q_left = 0.6;  q_right = 0.1\n",
    "xi, qxi, q_char, xi_char = nonconvex_solutions(f, q_left, q_right, -1.5,1.5)\n",
    "plt.plot(xi_char, q_char,'r')\n",
    "plt.plot(xi, qxi, 'k', linewidth=2)\n",
    "plt.ylim(0.,0.7)\n",
    "plt.title('Rarefaction solution')\n",
    "\n",
    "plt.subplot(122)\n",
    "\n",
    "q_left = 0.1;  q_right = 0.6\n",
    "xi, qxi, q_char, xi_char = nonconvex_solutions(f, q_left, q_right, -1.5,1.5)\n",
    "plt.plot(xi_char, q_char,'k--')\n",
    "plt.plot(xi, qxi, 'k', linewidth=2)\n",
    "plt.ylim(0.,0.7)\n",
    "plt.title('Shock solution');"
   ]
  },
  {
   "cell_type": "markdown",
   "metadata": {},
   "source": [
    "The plot on the left above shows a case where the solution is a rarefaction wave that can be computed by tracing characteristics.  On the right we see the case for which tracing characteristics would give an multivalued solution (as a dashed line) whereas the correct Riemann solution consists of a shock wave (solid line)."
   ]
  },
  {
   "cell_type": "markdown",
   "metadata": {},
   "source": [
    "## Buckley-Leverett Equation\n",
    "\n",
    "The Buckley-Leverett equation for two-phase flow is described in Section 16.1.1 of <cite data-cite=\"fvmhp\"><a href=\"riemann.html#fvmhp\">(LeVeque 2002)</a></cite>.  It has the non-convex flux function\n",
    "\n",
    "$$ \n",
    "f(q) = \\frac{q^2}{q^2 + a(1-q)^2}\n",
    "$$\n",
    "where $a$ is some constant, $q=1$ corresponds to pure water and $q=0$ to pure oil, in a saturated porous medium. \n",
    "\n",
    "Consider the Riemann problem for water intruding into oil, with $q_l=1$ and $q_r=0$."
   ]
  },
  {
   "cell_type": "code",
   "execution_count": null,
   "metadata": {},
   "outputs": [],
   "source": [
    "a = 0.5\n",
    "f_buckley_leverett = lambda q: q**2 / (q**2 + a*(1-q)**2)\n",
    "\n",
    "q_left = 1.\n",
    "q_right = 0."
   ]
  },
  {
   "cell_type": "markdown",
   "metadata": {},
   "source": [
    "### Plot the flux and its derivative"
   ]
  },
  {
   "cell_type": "code",
   "execution_count": null,
   "metadata": {
    "collapsed": false,
    "tags": [
     "hide"
    ]
   },
   "outputs": [],
   "source": [
    "qvals = np.linspace(q_right, q_left, 200)\n",
    "fvals = f_buckley_leverett(qvals)\n",
    "dfdq = np.diff(fvals) / (qvals[1]-qvals[0])  # approximate df/dq\n",
    "qmid = 0.5*(qvals[:-1] + qvals[1:])   # midpoints for plotting dfdq\n",
    "\n",
    "plt.figure(figsize=(12,4))\n",
    "plt.subplot(131)\n",
    "plt.plot(qvals,fvals)\n",
    "plt.xlabel('q')\n",
    "plt.ylabel('f(q)')\n",
    "plt.title('flux function f(q)')\n",
    "\n",
    "plt.subplot(132)\n",
    "plt.plot(qmid, dfdq)\n",
    "plt.xlabel('q')\n",
    "plt.ylabel('df/dq')\n",
    "plt.title('characteristic speed df/dq')\n",
    "\n",
    "plt.subplot(133)\n",
    "plt.plot(dfdq, qmid)\n",
    "plt.xlabel('df/dq')\n",
    "plt.ylabel('q')\n",
    "plt.title('q vs. df/dq')\n",
    "\n",
    "plt.subplots_adjust(left=0.)\n",
    "plt.tight_layout()"
   ]
  },
  {
   "cell_type": "markdown",
   "metadata": {},
   "source": [
    "Note that the third plot above shows $q$ on the vertical axis and $df/dq$ on the horizontal axis (it's the middle figure turned sideways).  You can think of this as showing the characteristic velocity for each point on a jump discontinuity from $q=0$ to $q=1$, and hence a triple valued solution of the Riemann problem at $t=1$ when each $q$ value has propagated this far.  \n",
    "\n",
    "Below we show this together with the correct solution to the Riemann problem, with a shock wave inserted (as computed using the Osher solution defined above).  Note that for this non-convex flux function the Riemann solution consists partly of a rarefaction wave together with a shock wave.\n",
    "\n",
    "In the plot on the right, we also show the flux function $f(q)$ as a red curve and the upper boundary of the convex hull of the set of points below the graph for $q_r \\leq q \\leq q_l$.  Note that the convex hull boundary follows the flux function for the set of $q$ values corresponding to the rarefaction wave and then jumps from $q\\approx 0.6$ to $q=0$, corresponding to the shock wave.  See Section 16.1 of <cite data-cite=\"fvmhp\"><a href=\"riemann.html#fvmhp\">(LeVeque 2002)</a></cite> for more discussion of this construction of the Riemann solution."
   ]
  },
  {
   "cell_type": "code",
   "execution_count": null,
   "metadata": {},
   "outputs": [],
   "source": [
    "q_left = 1.\n",
    "q_right = 0.\n",
    "plot_function = make_plot_function(f_buckley_leverett, \n",
    "                 q_left, q_right, xi_left=-2, xi_right=2)\n",
    "\n",
    "interact(plot_function, \n",
    "         t=widgets.FloatSlider(value=0,min=0,max=.9),\n",
    "         fig=fixed(0));"
   ]
  },
  {
   "cell_type": "markdown",
   "metadata": {},
   "source": [
    "## Sinusoidal flux\n",
    "\n",
    "As another test, the flux function $f(q) = \\sin(q)$ is used in Example 16.1 of <cite data-cite=\"fvmhp\"><a href=\"riemann.html#fvmhp\">(LeVeque 2002)</a></cite> to produce the Figure 16.4 in that book."
   ]
  },
  {
   "cell_type": "code",
   "execution_count": null,
   "metadata": {
    "collapsed": false
   },
   "outputs": [],
   "source": [
    "f_sin = lambda q: np.sin(q)\n",
    "\n",
    "q_left = np.pi/4.\n",
    "q_right = 15*np.pi/4.\n",
    "\n",
    "plot_function = make_plot_function(f_sin, q_left, q_right, -1.5, 1.5)\n",
    "\n",
    "interact(plot_function, \n",
    "         t=widgets.FloatSlider(value=0.,min=0.,max=.9),\n",
    "         fig=fixed(0));"
   ]
  },
  {
   "cell_type": "markdown",
   "metadata": {},
   "source": [
    "In the figure above, note that the shocks in the Riemann solution correspond to linear segments of the lower boundary of the convex hull of the set of points that lie above the flux function $f(q)$.  This is because we chose $q_l < q_r$ in this example.\n",
    "\n",
    "If we switch the states so that $q_l > q_r$, then as in the Buckley-Leverett example above, the Riemann solution corresponds to the upper boundary of the convex hull of the set of points that lie below the flux function:"
   ]
  },
  {
   "cell_type": "code",
   "execution_count": null,
   "metadata": {
    "collapsed": false
   },
   "outputs": [],
   "source": [
    "f_sin = lambda q: np.sin(q)\n",
    "\n",
    "q_left = 15*np.pi/4.\n",
    "q_right = np.pi/4.\n",
    "\n",
    "plot_function = make_plot_function(f_sin, q_left, q_right, -1.5, 1.5)\n",
    "\n",
    "interact(plot_function, \n",
    "         t=widgets.FloatSlider(value=0.,min=0.,max=.9),\n",
    "         fig=fixed(0));"
   ]
  },
  {
   "cell_type": "markdown",
   "metadata": {},
   "source": [
    "## Yet another example\n",
    "\n",
    "Here's another example where the flux function $f(q) = q\\sin(q)$ is even more oscillatory over the region $q_l \\leq q \\leq q_r$.  Note the collection of shock and rarefaction waves that result from this."
   ]
  },
  {
   "cell_type": "code",
   "execution_count": null,
   "metadata": {},
   "outputs": [],
   "source": [
    "f = lambda q: q*np.sin(q)\n",
    "q_left = 2.\n",
    "q_right = 22.\n",
    "\n",
    "plot_function = make_plot_function(f, q_left, q_right, -25,20)\n",
    "\n",
    "interact(plot_function, \n",
    "         t=widgets.FloatSlider(value=0.,min=0.,max=.9),\n",
    "         fig=fixed(0));"
   ]
  },
  {
   "cell_type": "code",
   "execution_count": null,
   "metadata": {},
   "outputs": [],
   "source": [
    "plot_waves(f_sin,q_left,q_right,-5,5,n=100)"
   ]
  },
  {
   "cell_type": "markdown",
   "metadata": {},
   "source": [
    "What does the Riemann solution look like if you switch the left and right states in this example?\n",
    "\n",
    "Experiment with other flux functions in this notebook!"
   ]
  }
 ],
 "metadata": {
  "kernelspec": {
   "display_name": "Python 2",
   "language": "python",
   "name": "python2"
  },
  "language_info": {
   "codemirror_mode": {
    "name": "ipython",
    "version": 3
   },
   "file_extension": ".py",
   "mimetype": "text/x-python",
   "name": "python",
   "nbconvert_exporter": "python",
   "pygments_lexer": "ipython3",
   "version": "3.5.2"
  }
 },
 "nbformat": 4,
 "nbformat_minor": 1
}
