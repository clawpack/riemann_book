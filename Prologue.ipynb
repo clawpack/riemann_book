{
 "cells": [
  {
   "cell_type": "markdown",
   "metadata": {
    "deletable": true,
    "editable": true
   },
   "source": [
    "# Hyperbolic PDEs\n",
    "This book is about Riemann problems and their solution.  The Riemann problem and its solution capture the essence of any hyperbolic PDE model, and hyperbolic PDEs model waves.  Many important hyperbolic PDE models can be written as a system of conservation laws:\n",
    "\n",
    "\\begin{align} \\label{prologue:multiDconslaw}\n",
    "    q_t + \\nabla \\cdot F(q) & = 0.\n",
    "\\end{align}\n",
    "\n",
    "Here $q(x,t)$ is a vector of conserved quantities (e.g. mass, momentum, energy) and each component of $F(q)$ is the corresponding flux.  In practice (and in most of this book) we focus on one-dimensional problems, for which (\\ref{prologue:multiDconslaw}) can be written\n",
    "\n",
    "\\begin{align} \\label{prologue:conslaw}\n",
    "    q_t + f(q)_x & = 0.\n",
    "\\end{align}\n",
    "\n",
    "Some examples of physical problems that can be modeled with hyperbolic PDEs (and are included as examples in this book) are:\n",
    "\n",
    "- Sound waves\n",
    "- Surface water waves\n",
    "- Traffic flow\n",
    "- Gas dynamics\n",
    "\n",
    "## Hyperbolicity\n",
    "\n",
    "A common property of these wave models is that *information travels at finite speed*.  This is a defining feature of hyperbolic problems, and it is related to a specific mathematical property.\n",
    "\n",
    "If the flux in \\eqref{prologue:conslaw} is a linear function $f(q)= Aq$ for some matrix $A$, then we have\n",
    "\n",
    "\\begin{align} \\label{prologue:linconslaw}\n",
    "    q_t + A q_x & = 0,\n",
    "\\end{align}\n",
    "\n",
    "and we say that \\eqref{prologue:linconslaw} is hyperbolic if $A$ is diagonalizable with real eigenvalues."
   ]
  },
  {
   "cell_type": "markdown",
   "metadata": {
    "deletable": true,
    "editable": true
   },
   "source": [
    "# The Riemann problem\n",
    "The Riemann problem consists of the system of PDEs (\\ref{prologue:conslaw}) together with two initial states (one to the left and the other to the right).  We let $x=0$ denote the interface between these two states:\n",
    "\n",
    "\\begin{align} \\label{prologue:riemann_data}\n",
    "    q(x,t=0) & = \\begin{cases} q_l & \\text{ for } x<0 \\\\\n",
    "                               q_r & \\text{ for } x>0. \\end{cases}\n",
    "\\end{align}\n",
    "\n",
    "The Riemann problem is of fundamental importance for several reasons:\n",
    "\n",
    "1. The solutions of nonlinear wave problems spontaneously develop discontinuities.  Locally near a discontinuity the solution looks and behaves like the solution of the Riemann problem.\n",
    "2. For a broad class of systems, the solution of the Riemann problem is a *similarity solution*.  Specifically, the solution $q(x,t)$ in fact depends only on the single parameter $x/t$.  This solution can often be computed analytically.\n",
    "3. Understanding Riemann solutions is a fundamental tool in analyzing the mathematical structure of solutions, and interpreting physical phenomena.\n",
    "4. Solution of the Riemann problem is at the heart of many successful numerical methods for solving hyperbolic PDEs.  Numerical methods typically make use of *approximate Riemann solvers*, which are often computationally cheaper than an exact solver."
   ]
  },
  {
   "cell_type": "markdown",
   "metadata": {
    "collapsed": false,
    "deletable": true,
    "editable": true
   },
   "source": [
    "# A linear example: acoustic waves\n",
    "\n",
    "Acoustic waves in one dimension can be modeled by the system of PDEs\n",
    "\n",
    "\\begin{align} \\label{prologue:acoustics}\n",
    "    p_t + K u_x & = 0 \\\\\n",
    "    u_t + \\frac{1}{\\rho} p_x & = 0,\n",
    "\\end{align}\n",
    "\n",
    "where $p$ represents the deviation from ambient pressure, $u$ is velocity, $K$ is the bulk modulus and $\\rho$ is the density of the medium.  This first-order system is equivalent to the familiar wave equation $u_{tt} = c^2 u_{xx}$ with $c = \\sqrt{K/\\rho}$; recall that $c$ represents the speed of propagation of waves in the wave equation.  Coming back to the first-order form \\eqref{prologue:acoustics}, we can write it in the canonical form \\eqref{prologue:linconslaw} by setting\n",
    "\n",
    "\\begin{align}\n",
    "    q & = \\begin{bmatrix} p \\\\ u \\end{bmatrix} &\n",
    "    A & = \\begin{bmatrix} 0 & K \\\\ 1/\\rho & 0 \\end{bmatrix}.\n",
    "\\end{align}\n",
    "\n",
    "The eigenvalues of $A$ are $\\pm \\sqrt{K/\\rho} = \\pm c$; it is true in general that the speed of propagation of waves in \\eqref{prologue:linconslaw} is given by the eigenvalues of $A$, and this hints at the importance of the hyperbolicity condition (that $A$ be diagonalizable with real eigenvalues)."
   ]
  },
  {
   "cell_type": "markdown",
   "metadata": {
    "deletable": true,
    "editable": true
   },
   "source": [
    "### The Riemann problem for acoustics\n",
    "The Riemann problem consists of \\eqref{prologue:acoustics} together with initial data\n",
    "\n",
    "\\begin{align}\n",
    "    (p_0,u_0) & = \\begin{cases} (p_l, u_l) & \\text{ for } x<0 \\\\\n",
    "                                (p_r, u_r) & \\text{ for } x>0. \\end{cases}\n",
    "\\end{align}\n",
    "The solution of the Riemann problem for this simple linear system consists of two jumps, one proportional to each of the eigenvectors of $A$, and each moving with velocity equal to the corresponding eigenvalue of $A$.  Between these two jumps lies a middle state different from the left and right states; we can think of solving the Riemann problem by finding the intersection (in the $p-u$ plane) of lines passing through the left and right states that are each parallel to the appropriate eigenvector of A."
   ]
  },
  {
   "cell_type": "code",
   "execution_count": null,
   "metadata": {
    "collapsed": false,
    "deletable": true,
    "editable": true
   },
   "outputs": [],
   "source": [
    "from IPython.core.display import display, HTML\n",
    "app = open('phase_plane_acoustics_small.html','r').read()\n",
    "display(HTML(app))"
   ]
  },
  {
   "cell_type": "markdown",
   "metadata": {
    "deletable": true,
    "editable": true
   },
   "source": [
    "# A nonlinear example: shallow water waves"
   ]
  },
  {
   "cell_type": "code",
   "execution_count": null,
   "metadata": {
    "collapsed": false,
    "deletable": true,
    "editable": true
   },
   "outputs": [],
   "source": []
  }
 ],
 "metadata": {
  "kernelspec": {
   "display_name": "Python 2",
   "language": "python",
   "name": "python2"
  },
  "language_info": {
   "codemirror_mode": {
    "name": "ipython",
    "version": 2
   },
   "file_extension": ".py",
   "mimetype": "text/x-python",
   "name": "python",
   "nbconvert_exporter": "python",
   "pygments_lexer": "ipython2",
   "version": "2.7.13"
  }
 },
 "nbformat": 4,
 "nbformat_minor": 2
}
