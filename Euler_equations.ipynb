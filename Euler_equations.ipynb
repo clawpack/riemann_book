{
 "cells": [
  {
   "cell_type": "markdown",
   "metadata": {},
   "source": [
    "This is the first of two notebooks on the Euler equations.  In this notebook, we discuss the equations and the structure of the exact solution to the Riemann problem.  In the next notebook, we investigate approximate Riemann solvers."
   ]
  },
  {
   "cell_type": "markdown",
   "metadata": {},
   "source": [
    "# Table of contents\n",
    "\n",
    "- [Fluid dynamics](#Fluid-dynamics)\n",
    "- [The Euler equations](#The-Euler-equations)\n",
    "- [Hyperbolic structure](#Hyperbolic-structure-of-the-Euler-equations)\n",
    "- [Exact solution of the Riemann problem](#Exact-solution-of-the-Riemann-problem)\n",
    "- [Plot particle trajectories](#Plot-particle-trajectories)\n",
    "- [Plot Riemann solution with advected colors](#Plot-Riemann-solution-with-advected-colors)\n",
    "- [Interactive Riemann solver](#Interactive-Riemann-solver)\n",
    "- [Riemann problems with vacuum](#Riemann-problems-with-vacuum)"
   ]
  },
  {
   "cell_type": "markdown",
   "metadata": {},
   "source": [
    "# Fluid dynamics"
   ]
  },
  {
   "cell_type": "markdown",
   "metadata": {},
   "source": [
    "In this chapter we study the system of hyperbolic PDEs that governs the motions of fluids in the absence of viscosity.  These consist of conservation laws for **mass, momentum**, and **energy**.  Together, they are referred to as the **compressible Euler equations**, or simply the Euler equations.  Our discussion here is fairly brief; for much more detail see <cite data-cite=\"toro2013riemann\"><a href=\"riemann.html#toro2013riemann\">(Toro, 2013)<a></cite>."
   ]
  },
  {
   "cell_type": "markdown",
   "metadata": {},
   "source": [
    "### Mass conservation"
   ]
  },
  {
   "cell_type": "markdown",
   "metadata": {},
   "source": [
    "We will use $\\rho(x,t)$ to denote the fluid density and $u(x,t)$ for its velocity.  Then the equation for conservation of mass is just the **continuity equation**:\n",
    "\n",
    "$$\\rho_t + (\\rho u)_x = 0.$$"
   ]
  },
  {
   "cell_type": "markdown",
   "metadata": {},
   "source": [
    "### Momentum conservation"
   ]
  },
  {
   "cell_type": "markdown",
   "metadata": {},
   "source": [
    "The momentum is given by the product of density and velocity, $\\rho u$.  The momentum flux has two components.  First, the momentum is transported in the same way that the density is; this flux is given by the momentum times the density: $\\rho u^2$.\n",
    "\n",
    "To understand the second term in the momentum flux, we must realize that a fluid is made up of many tiny molecules.  The density and velocity we are modeling are average values over some small region of space.  The individual molecules in that region are not all moving with exactly velocity $u$; that's just their average.  Each molecule also has some additional random velocity component.  These random velocities are what accounts for the **pressure** of the fluid, which we'll denote by $p$.  These velocity components also lead to a net flux of momentum.  Thus the momentum conservation equation is\n",
    "\n",
    "$$(\\rho u)_t + (\\rho u^2 + p)_x = 0.$$"
   ]
  },
  {
   "cell_type": "markdown",
   "metadata": {},
   "source": [
    "### Energy conservation"
   ]
  },
  {
   "cell_type": "markdown",
   "metadata": {},
   "source": [
    "The energy has two components: internal energy $\\rho e$ and kinetic energy $\\rho u^2/2$:\n",
    "\n",
    "$$E = \\rho e + \\frac{1}{2}\\rho u^2.$$\n",
    "\n",
    "Like the momentum flux, the energy flux involves both bulk transport ($Eu$) and transport due to pressure ($pu$):\n",
    "\n",
    "$$E_t + (u(E+p)) = 0.$$"
   ]
  },
  {
   "cell_type": "markdown",
   "metadata": {},
   "source": [
    "### Equation of state"
   ]
  },
  {
   "cell_type": "markdown",
   "metadata": {},
   "source": [
    "You may have noticed that we have 4 unknowns (density, momentum, energy, and pressure) but only 3 conservation laws.  We need one more relation to close the system.  That relation, known as the equation of state, expresses how the pressure is related to the other quantities.  We'll focus on the case of a polytropic ideal gas, for which\n",
    "\n",
    "$$p = \\rho e (\\gamma-1).$$\n",
    "\n",
    "Here $\\gamma$ is the ratio of specific heats, which for air is approximately 1.4."
   ]
  },
  {
   "cell_type": "markdown",
   "metadata": {},
   "source": [
    "## The Euler equations"
   ]
  },
  {
   "cell_type": "markdown",
   "metadata": {},
   "source": [
    "We can write the three conservation laws as a single system $q_t + f(q)_x = 0$ by defining\n",
    "\n",
    "\\begin{align}\n",
    "q & = \\begin{pmatrix} \\rho \\\\ \\rho u \\\\ E\\end{pmatrix}, & \n",
    "f(q) & = \\begin{pmatrix} \\rho u \\\\ \\rho u^2 + p \\\\ u(E+p)\\end{pmatrix}.\n",
    "\\end{align}"
   ]
  },
  {
   "cell_type": "markdown",
   "metadata": {},
   "source": [
    "In three dimensions, the equations are similar.  We have two additional velocity components $v, w$, and their corresponding fluxes.  Additionally, we have to account for fluxes in the $y$ and $z$ directions.  We can write the full system as\n",
    "\n",
    "$$ q_t + f(q)_x + g(q)_y + h(q)_z = 0$$\n",
    "\n",
    "with\n",
    "\n",
    "\\begin{align}\n",
    "q & = \\begin{pmatrix} \\rho \\\\ \\rho u \\\\ \\rho v \\\\ \\rho w \\\\ E\\end{pmatrix}, &\n",
    "f(q) & = \\begin{pmatrix} \\rho u \\\\ \\rho u^2 + p \\\\ \\rho u v \\\\ \\rho u w \\\\ u(E+p)\\end{pmatrix} &\n",
    "g(q) & = \\begin{pmatrix} \\rho v \\\\ \\rho uv \\\\ \\rho v^2 + p \\\\ \\rho v w \\\\ v(E+p)\\end{pmatrix} &\n",
    "h(q) & = \\begin{pmatrix} \\rho w \\\\ \\rho uw \\\\ \\rho vw \\\\ \\rho w^2 + p \\\\ w(E+p)\\end{pmatrix}.\n",
    "\\end{align}"
   ]
  },
  {
   "cell_type": "markdown",
   "metadata": {},
   "source": [
    "## Hyperbolic structure of the 1D Euler equations\n",
    "\n",
    "In our discussion of the structure of these equations, it is convenient to work with the primitive variables $(\\rho, u, p)$ rather than the conserved variables.  In quasilinear form, we have\n",
    "\n",
    "\\begin{align}\n",
    "\\begin{bmatrix} \\rho \\\\ u \\\\ p \\end{bmatrix}_t \n",
    "+ \\begin{bmatrix} u & \\rho & 0 \\\\ 0 & u & 1/\\rho \\\\ 0 & \\gamma \\rho & u \\end{bmatrix} \\begin{bmatrix} \\rho \\\\ u \\\\ p \\end{bmatrix}_x & = 0.\n",
    "\\end{align}"
   ]
  },
  {
   "cell_type": "markdown",
   "metadata": {},
   "source": [
    "### Characteristic velocities\n",
    "In primitive variables, the eigenvalues of the flux Jacobian for the 1D Euler equations are:\n",
    "\n",
    "\\begin{align}\n",
    "\\lambda_1 & = u-c & \\lambda_2 & = u & \\lambda_3 & = u+c\n",
    "\\end{align}\n",
    "\n",
    "Here $c$ is the sound speed:\n",
    "\n",
    "$$ c = \\sqrt{\\frac{\\gamma p}{\\rho}}.$$\n",
    "\n",
    "The eigenvectors of the flux Jacobian are (again in primitive variables):\n",
    "\n",
    "\\begin{align}\n",
    "r_1 & = \\begin{bmatrix} -\\rho/c \\\\ 1 \\\\ - \\rho c \\end{bmatrix} &\n",
    "r_2 & = \\begin{bmatrix} 1 \\\\ 0 \\\\ 0 \\end{bmatrix} &\n",
    "r_3 & = \\begin{bmatrix}  \\rho/c \\\\ 1 \\\\ \\rho c \\end{bmatrix}.\n",
    "\\end{align}\n",
    "\n",
    "Notice that the second characteristic speed, $\\lambda_2$, depends only on $u$ and that $u$ does not change as we move in the direction of $r_2$.  In other words, the 2-characteristic velocity is constant on 2-integral curves.  We say this characteristic field is **linearly degenerate**; it admits neither shocks nor rarefactions.  In a simple 2-wave, all characteristics are parallel.  A jump in this family carries a change only in the density, and is referred to as a **contact discontinuity**.\n",
    "\n",
    "The other two fields have characteristic velocities that **do** vary along the corresponding integral curves; thus the 1-wave and the 3-wave in any Riemann solution will be either a shock or a rarefaction.  We say these characteristic fields are **genuinely nonlinear**.\n",
    "\n",
    "Mathematically, the $p$th field is linearly degenerate if\n",
    "\n",
    "$$\\nabla \\lambda_p(q) \\cdot r_p(q) = 0$$\n",
    "\n",
    "and genuinely nonlinear if\n",
    "\n",
    "$$\\nabla \\lambda_p(q) \\cdot r_p(q) \\ne 0.$$"
   ]
  },
  {
   "cell_type": "markdown",
   "metadata": {},
   "source": [
    "### Riemann invariants\n",
    "\n",
    "Since the Euler equations have three components, we expect each integral curve (a 1D set in 3D space) to be defined by two Riemann invariants.  These are:\n",
    "\n",
    "\\begin{align}\n",
    "1 & : s, u+\\frac{2c}{\\gamma-1} \\\\\n",
    "2 & : u, p \\\\\n",
    "3 & : s, u-\\frac{2c}{\\gamma-1}.\n",
    "\\end{align}\n",
    "\n",
    "Here $s$ is the **specific entropy**:\n",
    "\n",
    "$$ s = c_v \\log(p/\\rho^\\gamma) + C.$$\n",
    "\n",
    "The level sets of these Riemann invariants are two-dimensional surfaces; the intersection of two appropriate level sets defines an integral curve.\n",
    "\n",
    "### Integral curves\n",
    "The 2-integral curves, of course, are simply lines of constant pressure and velocity (with varying density).  Since the field is linearly degenerate, these coincide with the Hugoniot loci.\n",
    "We can determine the form of the 1- and 3-integral curves using the Riemann invariants above.  For a curve passing through $(\\rho_0,u_0,p_0)$, we find\n",
    "\n",
    "\\begin{align}\n",
    "    u(p) & = u_0 \\pm \\frac{2c_0}{\\gamma-1}\\left(1-(p/p_0)^{(\\gamma-1)/(2\\gamma)}\\right).\n",
    "\\end{align}\n",
    "Here the plus sign is for 1-waves and the minus sign is for 3-waves.\n",
    "\n",
    "Below we plot the projection of some integral curves on the $p-u$ plane.\n",
    "\n",
    "**To do**: Discuss how $\\rho$ fits into this, or plot 3D integral curves."
   ]
  },
  {
   "cell_type": "code",
   "execution_count": null,
   "metadata": {
    "collapsed": false
   },
   "outputs": [],
   "source": [
    "%matplotlib inline\n",
    "from exact_solvers import Euler\n",
    "import matplotlib.pyplot as plt\n",
    "import numpy as np\n",
    "from ipywidgets import widgets\n",
    "from clawpack import riemann\n",
    "from utils import riemann_tools\n",
    "import matplotlib\n",
    "matplotlib.rcParams.update({'font.size': 12})\n",
    "from collections import namedtuple\n",
    "Primitive_State = namedtuple('State', Euler.primitive_variables)\n",
    "gamma = 1.4"
   ]
  },
  {
   "cell_type": "code",
   "execution_count": null,
   "metadata": {},
   "outputs": [],
   "source": [
    "from ipywidgets import interact                   # for interactive widgets\n",
    "#from utils.snapshot_widgets import interact      # for static figure that can be viewed online"
   ]
  },
  {
   "cell_type": "code",
   "execution_count": null,
   "metadata": {},
   "outputs": [],
   "source": [
    "def plot_integral_curves(plot_1=True,plot_3=False,gamma=1.4,rho_0=1.):\n",
    "    N = 400\n",
    "    p = np.linspace(0.,5,N)\n",
    "    p_0 = 1.\n",
    "    uu = np.linspace(-3,3,15)\n",
    "    c_0 = np.sqrt(gamma*p_0/rho_0)\n",
    "    if plot_1:\n",
    "        for u_0 in uu:\n",
    "            u = u_0 + (2*c_0)/(gamma-1.)* \\\n",
    "                (1.-(p/p_0)**((gamma-1)/(2*gamma)))\n",
    "            plt.plot(p,u,color='coral')\n",
    "    if plot_3:\n",
    "        for u_0 in uu:\n",
    "            u = u_0 - (2*c_0)/(gamma-1.)* \\\n",
    "                (1.-(p/p_0)**((gamma-1)/(2*gamma)))\n",
    "            plt.plot(p,u,color='maroon')\n",
    "    plt.xlabel('p'); plt.ylabel('u')\n",
    "    plt.show()\n",
    "interact(plot_integral_curves,\n",
    "         gamma=widgets.FloatSlider(min=1.1,max=3,value=1.4));"
   ]
  },
  {
   "cell_type": "markdown",
   "metadata": {},
   "source": [
    "## The structure of centered rarefaction waves"
   ]
  },
  {
   "cell_type": "markdown",
   "metadata": {},
   "source": [
    "## Rankine-Hugoniot jump conditions\n",
    "\n",
    "The Hugoniot loci for 1- and 3-shocks are\n",
    "\\begin{align}\n",
    "    u(p) & = u_0 \\pm \\frac{2c_0}{\\sqrt{2\\gamma(\\gamma-1)}} \n",
    "        \\left(\\frac{1-p/p_0}{\\sqrt{1+\\beta p/p_0}}\\right), \\\\\n",
    "\\end{align}\n",
    "where $\\beta = (\\gamma+1)/(\\gamma-1)$.\n",
    "Here the plus sign is for 1-shocks and the minus sign is for 3-shocks.\n",
    "\n",
    "**To do**: Discuss how $\\rho$ varies, and maybe plot 3D integral curves."
   ]
  },
  {
   "cell_type": "code",
   "execution_count": null,
   "metadata": {},
   "outputs": [],
   "source": [
    "def plot_hugoniot_loci(plot_1=True,plot_3=False,gamma=1.4,rho_0=1.):\n",
    "    N = 400\n",
    "    p = np.linspace(1.e-3,5,N)\n",
    "    p_0 = 1.\n",
    "    uu = np.linspace(-3,3,15)\n",
    "    c_0 = np.sqrt(gamma*p_0/rho_0)\n",
    "    beta = (gamma+1.)/(gamma-1.)\n",
    "    if plot_1:\n",
    "        for u_0 in uu:\n",
    "            u_1 = u_0 + (2*c_0)/np.sqrt(2*gamma*(gamma-1.))* \\\n",
    "                (1.-p/p_0)/(np.sqrt(1+beta*p/p_0))\n",
    "            plt.plot(p,u_1,color='coral')\n",
    "    if plot_3:\n",
    "        for u_0 in uu:\n",
    "            u_1 = u_0 - (2*c_0)/np.sqrt(2*gamma*(gamma-1.))* \\\n",
    "                (1.-p/p_0)/(np.sqrt(1+beta*p/p_0))\n",
    "            plt.plot(p,u_1,color='maroon')\n",
    "    plt.xlabel('p'); plt.ylabel('u')\n",
    "    plt.show()\n",
    "interact(plot_hugoniot_loci,\n",
    "         gamma=widgets.FloatSlider(min=1.1,max=3,value=1.4));"
   ]
  },
  {
   "cell_type": "markdown",
   "metadata": {},
   "source": [
    "### Entropy condition"
   ]
  },
  {
   "cell_type": "markdown",
   "metadata": {},
   "source": [
    "## Exact solution of the Riemann problem\n",
    "Executing the cell below loads some subroutines that find the exact solution of the Riemann problem.  In brief, the Riemann solution is found as follows:\n",
    "\n",
    "1. Define a piecewise function giving the middle state velocity $u_m$ that can be connected to the left state by an entropy-satisfying shock or rarefaction, as a function of the middle-state pressure $p_m$.\n",
    "2. Define a piecewise function giving the middle state velocity $u_m$ that can be connected to the right state by an entropy-satisfying shock or rarefaction, as a function of the middle-state pressure $p_m$.\n",
    "3. Use an iterative solver to find the intersection of the two functions defined above.\n",
    "4. Use the Riemann invariants to find the intermediate state densities and the solution structure inside any rarefaction waves."
   ]
  },
  {
   "cell_type": "markdown",
   "metadata": {},
   "source": [
    "Execute the cell below (after removing `#`) to bring the Euler solver into the notebook with syntax highlighting, or you can examine it by looking at this file: [exact_solvers/Euler.py](exact_solvers/Euler.py)"
   ]
  },
  {
   "cell_type": "code",
   "execution_count": null,
   "metadata": {
    "collapsed": false
   },
   "outputs": [],
   "source": [
    "#%load exact_solvers/Euler.py"
   ]
  },
  {
   "cell_type": "markdown",
   "metadata": {},
   "source": [
    "### Examples of Riemann solutions"
   ]
  },
  {
   "cell_type": "markdown",
   "metadata": {},
   "source": [
    "### Problem 1: Sod shock tube\n",
    "\n",
    "First we consider the classic shock tube problem, with high density and pressure on the left, low density and pressure on the right.  Both sides are initially at rest.  The solution includes a rarefaction, a contact, and a shock."
   ]
  },
  {
   "cell_type": "code",
   "execution_count": null,
   "metadata": {
    "collapsed": false
   },
   "outputs": [],
   "source": [
    "def riemann_solution(left_state, right_state):\n",
    "    q_left  = Euler.primitive_to_conservative(*left_state)\n",
    "    q_right = Euler.primitive_to_conservative(*right_state)\n",
    "\n",
    "    ex_states, ex_speeds, reval, wave_types = Euler.exact_riemann_solution(q_left ,q_right, gamma)\n",
    "    \n",
    "    plot_function = riemann_tools.make_plot_function(ex_states, ex_speeds, reval, wave_types,\n",
    "                                                     layout='vertical', \n",
    "                                                     variable_names=Euler.primitive_variables,\n",
    "                                                     plot_chars=[Euler.lambda1,Euler.lambda2,Euler.lambda3],\n",
    "                                                     derived_variables=Euler.cons_to_prim)\n",
    "\n",
    "    interact(plot_function, t=widgets.FloatSlider(value=0.1,min=0,max=.9),\n",
    "             which_char=widgets.Dropdown(options=[None,1,2,3],description='Show characteristics'))"
   ]
  },
  {
   "cell_type": "code",
   "execution_count": null,
   "metadata": {},
   "outputs": [],
   "source": [
    "left_state  = Primitive_State(Density = 3.,\n",
    "                              Velocity = 0.,\n",
    "                              Pressure = 3.)\n",
    "right_state = Primitive_State(Density = 1.,\n",
    "                              Velocity = 0.,\n",
    "                              Pressure = 1.)\n",
    "\n",
    "riemann_solution(left_state,right_state)"
   ]
  },
  {
   "cell_type": "markdown",
   "metadata": {},
   "source": [
    "Here is a plot of the solution in the phase plane, showing the integral curve connecting the left and middle states, and the Hugoniot locus connecting the middle and right states."
   ]
  },
  {
   "cell_type": "code",
   "execution_count": null,
   "metadata": {},
   "outputs": [],
   "source": [
    "Euler.phase_plane_plot(left_state, right_state)"
   ]
  },
  {
   "cell_type": "markdown",
   "metadata": {},
   "source": [
    "### Problem 2: Symmetric expansion\n",
    "\n",
    "Next we consider the case of equal densities and pressures, and equal and opposite velocities, with the initial states moving away from each other.  The result is two rarefaction waves (the contact has zero strength)."
   ]
  },
  {
   "cell_type": "code",
   "execution_count": null,
   "metadata": {},
   "outputs": [],
   "source": [
    "left_state  = Primitive_State(Density = 1.,\n",
    "                              Velocity = -3.,\n",
    "                              Pressure = 1.)\n",
    "right_state = Primitive_State(Density = 1.,\n",
    "                              Velocity = 3.,\n",
    "                              Pressure = 1.)\n",
    "\n",
    "riemann_solution(left_state,right_state);"
   ]
  },
  {
   "cell_type": "code",
   "execution_count": null,
   "metadata": {
    "scrolled": false
   },
   "outputs": [],
   "source": [
    "Euler.phase_plane_plot(left_state, right_state)"
   ]
  },
  {
   "cell_type": "markdown",
   "metadata": {},
   "source": [
    "### Problem 3: Colliding flows\n",
    "\n",
    "Next, consider the case in which the left and right states are moving toward eachother.  This leads to a pair of shocks, with a high-density, high-pressure state in between."
   ]
  },
  {
   "cell_type": "code",
   "execution_count": null,
   "metadata": {},
   "outputs": [],
   "source": [
    "left_state  = Primitive_State(Density = 1.,\n",
    "                              Velocity = 3.,\n",
    "                              Pressure = 1.)\n",
    "right_state = Primitive_State(Density = 1.,\n",
    "                              Velocity = -3.,\n",
    "                              Pressure = 1.)\n",
    "\n",
    "riemann_solution(left_state,right_state)"
   ]
  },
  {
   "cell_type": "code",
   "execution_count": null,
   "metadata": {},
   "outputs": [],
   "source": [
    "Euler.phase_plane_plot(left_state, right_state)"
   ]
  },
  {
   "cell_type": "markdown",
   "metadata": {},
   "source": [
    "## Plot particle trajectories\n",
    "\n",
    "In the next plot of the Riemann solution in the $x$-$t$ plane, we also plot the trajectories of a set of particles initially distributed along the $x$ axis at $t=0$, with the spacing inversely proportional to the density.  The evolution of the distance between particles gives an indication of how the density changes."
   ]
  },
  {
   "cell_type": "code",
   "execution_count": null,
   "metadata": {},
   "outputs": [],
   "source": [
    "left_state  = Primitive_State(Density = 3.,\n",
    "                              Velocity = 0.,\n",
    "                              Pressure = 3.)\n",
    "right_state = Primitive_State(Density = 1.,\n",
    "                              Velocity = 0.,\n",
    "                              Pressure = 1.)\n",
    "\n",
    "q_left  = Euler.primitive_to_conservative(*left_state)\n",
    "q_right = Euler.primitive_to_conservative(*right_state)\n",
    "\n",
    "ex_states, ex_speeds, reval, wave_types = Euler.exact_riemann_solution(q_left ,q_right, gamma)\n",
    "\n",
    "def reval_rho_u(x): \n",
    "    q = reval(x)\n",
    "    rho = q[0]\n",
    "    u = q[1]/q[0]\n",
    "    rho_u = np.vstack((rho,u))\n",
    "    return rho_u\n",
    "\n",
    "# Specify density of trajectories to left and right:\n",
    "rho_l = q_left[0] / 10.\n",
    "rho_r = q_right[0] / 10.\n",
    "x_traj, t_traj, xmax = riemann_tools.compute_riemann_trajectories(ex_states, ex_speeds, reval_rho_u, wave_types,\n",
    "                              i_vel=1, rho_left=rho_l, rho_right=rho_r)\n",
    "riemann_tools.plot_riemann_trajectories(x_traj, t_traj, ex_speeds, wave_types)\n",
    "                                        "
   ]
  },
  {
   "cell_type": "markdown",
   "metadata": {},
   "source": [
    "Recall that the evolution of the distance between particles gives an indication of how the density changes.  Note that it increases across the shock wave and decreases through the rarefaction wave, and that in general there is a jump in density across the contact discontinuity."
   ]
  },
  {
   "cell_type": "markdown",
   "metadata": {},
   "source": [
    "## Plot Riemann solution with advected colors\n",
    "\n",
    "The next cell defines a function to plot the Riemann solution with the density plot also showing an advected color to help visualize the flow better. The fluid to the left of $x=0$ initially is colored red and to the right of $x=0$ is colored blue, with stripes of different shades of these colors to help visualize the motion of the fluids."
   ]
  },
  {
   "cell_type": "code",
   "execution_count": null,
   "metadata": {
    "collapsed": false
   },
   "outputs": [],
   "source": [
    "def plot_exact_riemann_solution_stripes(rho_l=3.,u_l=0.,p_l=3.,rho_r=1.,u_r=0.,p_r=1.,t=0.4):    \n",
    "    q_l = Euler.primitive_to_conservative(rho_l,u_l,p_l)\n",
    "    q_r = Euler.primitive_to_conservative(rho_r,u_r,p_r)\n",
    "    \n",
    "    from matplotlib.mlab import find\n",
    "    \n",
    "    x = np.linspace(-1.,1.,1000)\n",
    "    states, speeds, reval, wave_types = Euler.exact_riemann_solution(q_l, q_r, gamma=gamma)\n",
    "    q = reval(x/t)\n",
    "    primitive = Euler.conservative_to_primitive(q[0],q[1],q[2])\n",
    "    \n",
    "    # compute particle trajectories:\n",
    "    def reval_rho_u(x): \n",
    "        q = reval(x)\n",
    "        rho = q[0]\n",
    "        u = q[1]/q[0]\n",
    "        rho_u = np.vstack((rho,u))\n",
    "        return rho_u\n",
    "    \n",
    "    # Specify density of trajectories to left and right:\n",
    "    num_left = 10\n",
    "    num_right = 10\n",
    "    rho_left = q_l[0] / 10.\n",
    "    rho_right = q_r[0] / 10.\n",
    "    x_traj, t_traj, xmax = riemann_tools.compute_riemann_trajectories(states, speeds, reval_rho_u, wave_types,\n",
    "                                  i_vel=1, xmax=1, rho_left=rho_left, rho_right=rho_right)\n",
    "                                                                          \n",
    "    fig = plt.figure(figsize=(18,6))\n",
    "    names = ['Density','Velocity','Pressure']\n",
    "    axes = [0]*3\n",
    "    for i in range(3):\n",
    "        axes[i] = fig.add_subplot(1,3,i+1)\n",
    "        q = primitive[i]\n",
    "        plt.plot(x,q,linewidth=3)\n",
    "        plt.title(names[i])\n",
    "        qmax = max(q)\n",
    "        qmin = min(q)\n",
    "        qdiff = qmax - qmin\n",
    "        axes[i].set_ylim((qmin-0.1*qdiff,qmax+0.1*qdiff))\n",
    "        axes[i].set_xlim(-xmax,xmax)\n",
    "                \n",
    "        if i==0:\n",
    "            # plot stripes only on density plot\n",
    "            n = find(t > t_traj)\n",
    "            if len(n)==0:\n",
    "                n = 0\n",
    "            else:\n",
    "                n = min(n.max(), len(t_traj)-1)\n",
    "\n",
    "            for i in range(1, x_traj.shape[1]-1):\n",
    "                j1 = find(x_traj[n,i] > x)\n",
    "                if len(j1)==0:\n",
    "                    j1 = 0\n",
    "                else:\n",
    "                    j1 = min(j1.max(), len(x)-1)\n",
    "                j2 = find(x_traj[n,i+1] > x)\n",
    "                if len(j2)==0:\n",
    "                    j2 = 0\n",
    "                else:\n",
    "                    j2 = min(j2.max(), len(x)-1)\n",
    "\n",
    "                # set advected color for density plot:\n",
    "                if x_traj[0,i]<0: \n",
    "                    # shades of red for fluid starting from x<0\n",
    "                    if np.mod(i,2)==0:\n",
    "                        c = [1,0,0]\n",
    "                    else:\n",
    "                        c = [1,0.8,0.8]\n",
    "                else:\n",
    "                    # shades of blue for fluid starting from x<0\n",
    "                    if np.mod(i,2)==0:\n",
    "                        c = [0,0,1]\n",
    "                    else:\n",
    "                        c = [0.8,0.8,1]\n",
    "                plt.fill_between(x[j1:j2],q[j1:j2],0,color=c)\n",
    "    plt.show()\n",
    " "
   ]
  },
  {
   "cell_type": "markdown",
   "metadata": {},
   "source": [
    "Make a plot with only a time slider to illustrate this viewpoint with the Sod shock tube data:"
   ]
  },
  {
   "cell_type": "code",
   "execution_count": null,
   "metadata": {},
   "outputs": [],
   "source": [
    "def plot_exact_riemann_solution_stripes_t_slider(t):\n",
    "    plot_exact_riemann_solution_stripes(rho_l=3.,u_l=0.,p_l=3.,rho_r=1.,u_r=0.,p_r=1.,t=t)\n",
    "    \n",
    "interact(plot_exact_riemann_solution_stripes_t_slider, \n",
    "         t=widgets.FloatSlider(min=0.1,max=1.,step=0.1,value=0.5));"
   ]
  },
  {
   "cell_type": "markdown",
   "metadata": {},
   "source": [
    "Note the following in the figure above:\n",
    "\n",
    " - The edges of each stripe are being advected with the fluid velocity, so you can visualize how the fluid is moving.\n",
    " - The width of each stripe initially is inversely proportional to the density of the fluid, so that the total mass of gas within each stripe is the same.\n",
    " - The total mass within each stripe remains constant as the flow evolves, and the width of each stripe remains inversely proportional to the local density.\n",
    " - The interface between the red and blue gas moves with the contact discontinuity.  The velocity and pressure are constant but the density can vary across this wave."
   ]
  },
  {
   "cell_type": "markdown",
   "metadata": {},
   "source": [
    "## Interactive Riemann solver\n",
    "\n",
    "Here you can set up your own Riemann problem and immediately see the solution.  If you don't want to download and run the notebook, an online interactive version is [here](http://sagecell.sagemath.org/?z=eJytWNtu47YWfQ-Qf2BnHiLJsmzFGeAgqIsCnfaxOCgGpw-DwJAtOiaOLgwviTJf30VSlKjYSgdog8FEIdfeXPvKLbGat0KRRtf8lRSSNPz6irm1ulC8alXF9hl_NU9mn1fq-uoo2prIA-OvWcsVq9k3Snqho2yrZ3p9dX1V0iOhXXFQO8FoXTTNDltasbaJnnZV-rQTabf9vW1oqtyvx6Kui22e3cX311cEPx8-fPiDKi0aok7U6SJeB1GtXf3D6SZctPuK1uSFqRNhDVOsqIhUhaKSmOPwn8icWvx8geSgiUlyaGuuFS1JoQjsoQS2NiXhLWuUJB2JXk5UUDzUxSvZU1KQ_LP3mRDFazyqnpzBGqglz_SgWiEBpZbzoW0kFc847kkXjQJXkNwDaDZbrSDjwF_FqU11yh-ywSHuAeu7imyNZV_XD25NDyv5wyrc-HXYuO1XRiXC7ohAiV-xSkSgxG8YJW7tI_nF-Y1U9Og8JtjjSTm_IyRUSo3_HJpbGpGN8jLP4iQyxJZknX1KrD0JLEiS29jDxRlcBHABuHDw72IjW40VySkte0IHS6jhmXwSyh2UgOTKkok9RlzACIsRcejNouKnYsJ4Fd1mif2rB-6pGhELixjAgRUnevg_ObaCHIpnBu7IUbfHjjbISxulBblNIpiwAMVQEfmRrO-HJEQQkMLk5pdBFSmpQj7S8gcEtUPuNY_ZzYgXruBMQYbWfSSf6ZE1Ln-hkT4K1NdBI4uldfVJP7YNQ4-o2gPr6fawnYXtcixtSVXU-7IgnNxbW4wVMGIVxjnPlhFfIRJxkkQX3RnHF0_YnJ9gMsacIC6eIP72BG_WDmZpCRtmLfA5cus0JKPamCQkivKls2kA5guTD4lbvXzcZt6c7ztOXDxOxPE0ti7l0OMQXWFDnC9fimdqWmNB5KnFLvJRoCcd0YSHhDQtnp_Yrop4fO8zaMwl5Cv_aQvz7n1avXUn5EY4rSQdkG-TZ0D-W5yF4XzOVcxx3Xw31ymy72YnNo2ld9vSczlvYzUry4r6ZpoSTfavBEVYomRd6dmThaSBeTxlzbFNCaMiJbV8xKnuSo5wUEoiRGNh8-I2S4-6qnbuvtl-EZqmnWorXMB0md_Fns1vcKJUosWZgS9lioZaU3NXyv4A0pjWSk604kO7AosftnnYjv4JPXN2K7brLA-YrgNff8Sli_Aj-LoqSYNudCo4p800zj2pIFGDRvlnIRr4994bVTKnCHf2MxWPNOyVoxgs8fHTMMkH168NvkTwpmEtaSPt_R_c6zts2btvaIJ5tnJtCaVtIcEFPkGLS2jxNhk_-nnHlo0tmvBefJHuyvtGRSujT_Eg9cXNLsrOYUbg3gtgKICMvmCtK0R7GY_ZMznOVp5tEiNPaFwbjdEwGKDxjc5JNHq1m4HC5XiiIDcKrCK3bEt2RBxGR7-53ldzGi0lx-XgYxAept2GlfSh760Tb6y7G6yzc0xvhphaN12ectn01t3NWSfes25Wo154yXO6buowE9EQ5POm1bfE56LSJqnHbt220szNdrreFxLDb9tczj-4rDNd3Mwg93i0JlSskbw40AhXXGr-rde-8oFXI14Bv87-k9RFF0Gu2Muoi-NV8OeLnN5_nbSuTBR4_mnIoOHbUUmeF47L6eHNAcVb0klmHwsv1pmO361U3xbM6BDMGomfHcwMh4eOxX6KW9hx0AptzoTcBBAd7MNFIcQ3H0vHjwc6XwKNeXk1Trpx3y2C2WFQsRnz06vo2FJvpirErApuOOCMxCjJ-5m6V9UjNhYhLGLTT9QTxNjlcAsYPt2P286UYexeGOC2qPupX-k3c7eZD3v5uHfrBV1peMTtiNj0CDFFbEbEnUNshr07L-JfoAxXMmWr57nqWaZ6jqCe46WnrLTnxC9x4vOc-CwnPseJz3HiU07cc-r7RB_c1PktdVSB8Algp7WqxTuyyRLAUjMJdX5yOzIzQfBKZXjCq2aEX5J9o9soX6d3Qy4KVuOSRWVvx1dqt9UUZoDB8s1nexO_3qQ3_6PmHcY-_rd_hb3p4UXn0OuHZNMzwHjE0AjQBJpHGm3CmdKgvzLTOkErK8pyJ_XeWBPl6SZlizxowE_GDs8TQsHIBOusUJc-pWiD9IWV6rTdxFMIXFTRyNoD8VAzWh-Umwb4NFkGaSyzZrpcsuPRvOkbqaVFnRmUSap2rxWro8jsLzGQJVYuNVKL4U_vf_u5CAMyxqKD9B-KcGHUv9mgOdD4twni0KBtOwCfPLszt8n11c925kW3HZNjN_OZydb6Vlbo0QIu_5SayRFCha4U_JfqcXf56c32Ok75u8K25uf2c6NcvK_8PWFAxs9g7vsNn7wlo6jefjcJv9PwyQtvAPZfTcIG-2T1f7W6UjKoTM3BDx4iPEQ4iFVkIGLyTenvb-uhjIF85_OgORKFnhI0BfdhMPySEtQE9A2LQ59Agadd_BeW1ABm&lang=python)."
   ]
  },
  {
   "cell_type": "code",
   "execution_count": null,
   "metadata": {},
   "outputs": [],
   "source": [
    "interact(plot_exact_riemann_solution_stripes,\n",
    "         rho_l=widgets.FloatSlider(min=1.,max=10.,step=0.1,value=3.,description=r'$\\rho_l$'),\n",
    "         u_l=widgets.FloatSlider(min=-10.,max=10.,step=0.1,value=0.,description=r'$u_l$'),\n",
    "         p_l=widgets.FloatSlider(min=1.,max=10.,step=0.1,value=3.,description=r'$p_l$'),\n",
    "         rho_r=widgets.FloatSlider(min=1.,max=10.,step=0.1,value=1.,description=r'$\\rho_r$'),\n",
    "         u_r=widgets.FloatSlider(min=-10.,max=10.,step=0.1,value=0.,description=r'$u_r$'),\n",
    "         p_r=widgets.FloatSlider(min=1.,max=10.,step=0.1,value=1.,description=r'$p_r$'),\n",
    "         t=widgets.FloatSlider(min=0.1,max=1.,step=0.1,value=0.5));"
   ]
  },
  {
   "cell_type": "markdown",
   "metadata": {},
   "source": [
    "## Riemann problems with vacuum\n",
    "A vacuum state (with zero pressure and density) can arise in the solution of the Riemann problem in two ways:\n",
    "\n",
    "1. An initial left or right vacuum state: in this case the Riemann solution consists of a single rarefaction, connecting the non-vacuum state to vacuum.\n",
    "2. A problem where the left and right states are not vacuum but middle states are vacuum.  Since this means the middle pressure is smaller than that to the left or right, this can occur only if the 1- and 3-waves are both rarefactions.  These rarefactions are precisely those required to connect the left and right states to the middle vacuum state. "
   ]
  },
  {
   "cell_type": "markdown",
   "metadata": {},
   "source": [
    "### Initial vacuum state\n",
    "The velocity plot looks a bit strange, but note that the velocity is undefined in vacuum."
   ]
  },
  {
   "cell_type": "code",
   "execution_count": null,
   "metadata": {},
   "outputs": [],
   "source": [
    "left_state  = Primitive_State(Density =0.,\n",
    "                              Velocity = 0.,\n",
    "                              Pressure = 0.)\n",
    "right_state = Primitive_State(Density = 1.,\n",
    "                              Velocity = -3.,\n",
    "                              Pressure = 1.)\n",
    "\n",
    "riemann_solution(left_state,right_state)"
   ]
  },
  {
   "cell_type": "code",
   "execution_count": null,
   "metadata": {},
   "outputs": [],
   "source": [
    "Euler.phase_plane_plot(left_state, right_state)"
   ]
  },
  {
   "cell_type": "markdown",
   "metadata": {},
   "source": [
    "### Middle vacuum state"
   ]
  },
  {
   "cell_type": "code",
   "execution_count": null,
   "metadata": {},
   "outputs": [],
   "source": [
    "left_state  = Primitive_State(Density =1.,\n",
    "                              Velocity = -10.,\n",
    "                              Pressure = 1.)\n",
    "right_state = Primitive_State(Density = 1.,\n",
    "                              Velocity = 10.,\n",
    "                              Pressure = 1.)\n",
    "\n",
    "riemann_solution(left_state,right_state)"
   ]
  },
  {
   "cell_type": "code",
   "execution_count": null,
   "metadata": {},
   "outputs": [],
   "source": [
    "Euler.phase_plane_plot(left_state, right_state)"
   ]
  },
  {
   "cell_type": "code",
   "execution_count": null,
   "metadata": {
    "collapsed": false
   },
   "outputs": [],
   "source": []
  }
 ],
 "metadata": {
  "kernelspec": {
   "display_name": "Python 2",
   "language": "python",
   "name": "python2"
  },
  "language_info": {
   "codemirror_mode": {
    "name": "ipython",
    "version": 2
   },
   "file_extension": ".py",
   "mimetype": "text/x-python",
   "name": "python",
   "nbconvert_exporter": "python",
   "pygments_lexer": "ipython2",
   "version": "2.7.12"
  }
 },
 "nbformat": 4,
 "nbformat_minor": 1
}
