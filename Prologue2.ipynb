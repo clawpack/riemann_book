{
 "cells": [
  {
   "cell_type": "markdown",
   "metadata": {
    "deletable": true,
    "editable": true
   },
   "source": [
    "# Introduction\n",
    "\n",
    "## What is a Riemann Problem?\n",
    "\n",
    "Bernhard Riemann studied [many problems](https://en.wikipedia.org/wiki/List_of_things_named_after_Bernhard_Riemann) in diverse mathematical fields, but for our purposes the term **Riemann problem** refers to a hyperbolic partial differential equation (PDE) together with special initial data:  a piecewise constant function with a single jump discontinuity separating two states.  For a hyperbolic system of $m$ PDEs, each of these states would be a vector with $m$ components, say $q_l$ for $x<0$ and $q_r$ for $x \\geq 0$.  \n",
    "\n",
    "We will formally define what we mean by a hyperbolic system of PDEs shortly, but for now it suffices to know that these are the PDEs that naturally arise whenever we model wave propagation.  If we study small amplitude waves then the equations may be linear (e.g. acoustics or linear elasticity, modeling seismic waves for example).  These PDEs arise from linearizing nonlinear hyperbolic systems that must be used when we consider larger amplitude waves (e.g. the Euler equations of compressible gas dynamics, or nonlinear elastic wave equations)."
   ]
  },
  {
   "cell_type": "markdown",
   "metadata": {
    "deletable": true,
    "editable": true
   },
   "source": [
    "## An example: the dam break problem\n",
    "\n",
    "To get a feel for what a Riemann problem and it's solution looks like, consider a *dam break* problem in which a dam initially separates water with constant depth $h_l$ to the left of the dam from water with depth $h_r$ to the right of the dam.  Suppose the water is initially stationary, with velocity 0 on both sides of the dam.   Now suppose we remove the dam at time $t=0$.  What happens for $t>0$?\n",
    "\n",
    "If the water to the left of the dam is deeper than the water to the right (i.e. $h_l > h_r$) then we expect water to flow from left to right in some manner.  In reality we might expect the flow to be somewhat turbulent and multidimensional, but suppose that we could idealize this with a one-dimensional model in which the velocity is purely horizontal and is constant throughout the depth of the fluid, so for $t>0$ the velocity varies only with $x$ and $t$, given by some function $u(x,t)$, and the depth is given by $h(x,t)$.  \n",
    "\n",
    "In the notebook [Shallow_water.ipynb](Shallow_water.ipynb) we will discuss the one-dimensional **shallow water equations** that can be used to model this idealized situation.  \n",
    "\n",
    "The animation below shows the solution to the shallow water equations in the situation just described.  The water is colored red for water that is initially to the left of the dam and blue for water that is initially to the right.  The stripes with different shading are to help you visualize the flow.  Think of the color as a dye that is simply carried along with the water as it flows.  In the notebook [Shallow_water_tracer.ipynb](Shallow_water_tracer.ipynb) we will see that we can in fact model this by adding another equation to the shallow water equations."
   ]
  },
  {
   "cell_type": "code",
   "execution_count": null,
   "metadata": {
    "collapsed": false,
    "deletable": true,
    "editable": true
   },
   "outputs": [],
   "source": [
    "# show animation"
   ]
  },
  {
   "cell_type": "markdown",
   "metadata": {
    "deletable": true,
    "editable": true
   },
   "source": [
    "### Things to note about this animation\n",
    "\n",
    " - Initially the fluid velocity $u(x,0) \\equiv 0$ at $t=0$.  For $t>0$, the water remain stationary far from away from the dam.  The region where the water is not stationary grows linearly outward from $x=0$ as $t$ increases.\n",
    " - The fluid is accelerated to the right everywhere as water starts to flow.\n",
    " - Water upstream from the dam (for $x<0$) starts to accelerate slowly as the depth of the water starts to fall, and both the depth and the velocity remain continuous functions of $x$ in this region for all time. The depth and velocity vary through a **rarefaction wave** that moves upstream.\n",
    " - The water downstream from the dam is stationary until a **shock wave** passes by, which instantaneously accelerates the fluid from $u_r=0$ to some constant velocity $u_m >0$.  At the same time the depth increases from $h_r$ to $h_m$. This *middle state* depth and velocity is the same as the depth and velocity that the red water upstream from the dam also reaches once it has passed through the rarefaction wave and been fully accelerated.\n",
    " - The shock wave moves at some constant velocity $s_r > u_m$.\n",
    " - The rarefaction wave spreads out as time evolves and the left and right edges move at constant velocities $\\lambda_{l1}$ and $\\lambda_{m1}$. We will see later that these speeds are eigenvalues of a certain Jacobian matrices.\n"
   ]
  },
  {
   "cell_type": "markdown",
   "metadata": {
    "deletable": true,
    "editable": true
   },
   "source": [
    "A **shock wave** is a type of wave often seen when solving nonlinear hyperbolic equations.  The solution is discontinuous across a shock wave, which means that special mathematical techniques must be used to make sense of functions like this as solutions of a differential equation.  It also means that special algorithmic techniques must be used to compute accurate numerical solutions to such equations.  Simply replacing derivatives by finite differences typically does not work well. \n",
    "\n",
    "In the context of water waves, this shock wave is often called a **hydraulic jump**.  In a real dam break problem the solution would not be discontinuous, but there might be turbulent bore that from far enough away looks like a discontinuity.  The nonlinear shallow water equations can be used to model such flows in the sense that the jump in depth and velocity and the propagation speed of the shock wave closely approximate the hydraulic jump and speed of the bore."
   ]
  },
  {
   "cell_type": "markdown",
   "metadata": {
    "deletable": true,
    "editable": true
   },
   "source": [
    "## Why is the Riemann problem important?\n",
    "\n",
    "Why study the simple case of piecewise constant initial data?  Here are some motivations:\n",
    "\n",
    " - As we have just seen, even this simple initial data can lead to complicated solutions.  \n",
    " \n",
    " - However, the solution is simple enough that there is some hope we can determine it exactly, even for nonlinear systems of PDEs.\n",
    " \n",
    " - In the animation above we noted that the shock wave and the two edges of the rarefaction wave are all moving at *constant speeds*.  In fact if we plot contours of the depth (or the velocity) in the $x$-$t$ plane, we find that value of each variable is constant along any ray $x = at$ from the origin.  In other words $h(x,t) = H(x/t)$ and $u(x,t) = U(x/t)$ for some functions $H$ and $U$ of a single variable.  The solution is said to be a **similarity solution** and this structure greatly facilitates solving the Riemann problem.  This is true even for nonlinear hyperbolic problems provided certain conditions are satisfied.\n",
    "\n",
    " - Developing an understanding of how the Riemann solution behaves for all possible choices of left and right states for a hyperbolic problem is essential for understanding the behavior of more complicated solutions.\n",
    " \n",
    " - The development of mathematical theory of hyperbolic problems has relied extensively on the understanding that comes from studying Riemann problems.\n",
    " \n",
    " - Many robust numerical methods for approximating the solution with more general initial data use the Riemann solution as an essential building block.  The most basic method of this type is **Godunov's method**, described below.\n",
    " "
   ]
  },
  {
   "cell_type": "markdown",
   "metadata": {
    "deletable": true,
    "editable": true
   },
   "source": [
    "## The general Riemann problem for shallow water equations\n",
    "\n",
    "The more general Riemann problem for the shallow water equations has arbitrary depths $h_l, h_r \\geq 0$ and also arbitrary velocities $u_l$ and $u_r$ to the left and right of $x=0$.  The dam break problem considered above is a special case where the $u_l = u_r = 0$.  \n",
    "\n",
    "In the dam break problem considered above with $h_l > h_r$, the solution consists of a left-going rarefaction wave and a right-going shock wave.  If we instead have $h_l < h_r$ with $u_l=u_r=0$, then the water would flow to the left and the Riemann solution would have a left-going shock wave and a right-going rarefaction wave."
   ]
  },
  {
   "cell_type": "code",
   "execution_count": null,
   "metadata": {
    "collapsed": false,
    "deletable": true,
    "editable": true
   },
   "outputs": [],
   "source": [
    "# show animation"
   ]
  },
  {
   "cell_type": "markdown",
   "metadata": {
    "deletable": true,
    "editable": true
   },
   "source": [
    "By choosing non-zero velocities in the initial data, we can also obtain other combinations of shock and rarefaction waves. For example, if $u_l>0$ and $u_r<0$ (modeling two opposing streams of water colliding at $x=0$) then the Riemann solution consists of two shock waves:"
   ]
  },
  {
   "cell_type": "code",
   "execution_count": null,
   "metadata": {
    "collapsed": false,
    "deletable": true,
    "editable": true
   },
   "outputs": [],
   "source": [
    "# show animation"
   ]
  },
  {
   "cell_type": "markdown",
   "metadata": {
    "deletable": true,
    "editable": true
   },
   "source": [
    "On the other hand, if $u_l<0$ and $u_r>0$ (so that the water is moving away from $x=0$ on both sides) then the solution consists of two rarefaction waves:"
   ]
  },
  {
   "cell_type": "code",
   "execution_count": null,
   "metadata": {
    "collapsed": false,
    "deletable": true,
    "editable": true
   },
   "outputs": [],
   "source": [
    "# show animation"
   ]
  },
  {
   "cell_type": "markdown",
   "metadata": {
    "deletable": true,
    "editable": true
   },
   "source": [
    "In the notebook [Shallow_water.ipynb](Shallow_water.ipynb) we will show how to solve the Riemann problem for arbitrary left and right states and in particular how to determine whether each wave is a shock or rarefaction wave."
   ]
  },
  {
   "cell_type": "markdown",
   "metadata": {
    "deletable": true,
    "editable": true
   },
   "source": [
    "**Add a link to an $h$-$u$ phase plane plot where the states can be dragged, but that only shows the physical curves?**"
   ]
  },
  {
   "cell_type": "markdown",
   "metadata": {},
   "source": [
    "## Goals of this book\n",
    "\n",
    "The collection of Jupyter notebooks that make up this book will help you understand..."
   ]
  },
  {
   "cell_type": "markdown",
   "metadata": {
    "deletable": true,
    "editable": true
   },
   "source": [
    "## When is a PDE hyperbolic?\n",
    "\n",
    "In this book we consider only first-order hyperbolic equations, ..."
   ]
  },
  {
   "cell_type": "markdown",
   "metadata": {
    "deletable": true,
    "editable": true
   },
   "source": [
    "## Godunov's method"
   ]
  },
  {
   "cell_type": "code",
   "execution_count": null,
   "metadata": {
    "collapsed": false,
    "deletable": true,
    "editable": true
   },
   "outputs": [],
   "source": []
  }
 ],
 "metadata": {
  "kernelspec": {
   "display_name": "Python 2",
   "language": "python",
   "name": "python2"
  },
  "language_info": {
   "codemirror_mode": {
    "name": "ipython",
    "version": 2
   },
   "file_extension": ".py",
   "mimetype": "text/x-python",
   "name": "python",
   "nbconvert_exporter": "python",
   "pygments_lexer": "ipython2",
   "version": "2.7.12"
  }
 },
 "nbformat": 4,
 "nbformat_minor": 2
}
