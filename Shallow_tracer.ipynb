{
 "cells": [
  {
   "cell_type": "markdown",
   "metadata": {},
   "source": [
    "# Shallow water equations with a tracer\n",
    "\n",
    "We can augment the shallow water equations discussed in [Shallow_water.ipynb](Shallow_water.ipynb) with a quantity $\\phi(x,t)$ that measures the concentration of a tracer that is advected with the fluid motion (but has no influence on the fluid dynamics).  If $\\phi$ is measured in units of mass per unit volume (which is really per unit area of the vertical cross section in this one-dimensional example) then the mass per unit length along the $x$ axis is given by $h(x,t)\\phi(x,t)$.  The quantity $\\phi$ satisfies the variable coefficient advection equation in advective (non-conservative) form:\n",
    "$$\n",
    "\\phi_t(x,t) + u(x,t)\\phi_x(x,t) = 0.\n",
    "$$\n",
    "This is also called the \"color equation\", since we can think of $\\phi$ as measuring the concentration of a dye that changes the color of the water.  We will use this interpretation in the plots below.  By setting the intitial conditions $\\phi(x,0)$ to be piecewise constant with different values corresponding to different colors, we can visualize the motion of the fluid better.   We will use a dark shade of blue for the water that is initially to the left of a dam at $x=0$ and a lighter shade of blue for the water that is initially to the right.  \n",
    "\n",
    "The quantity $h\\phi$ satisfies the conservative form of the advection equation,\n",
    "$$\n",
    "(h\\phi)_t + (uh\\phi)_x = 0.\n",
    "$$\n",
    "This can be derived by combining the color equation with the conservation of mass equation $h_t +(hu)_x  = 0$.  Since $h\\phi$ measures the concentration of dye per unit length in $x$, and we assume molecules of dye are not created or destroyed, it makes sense that this is the conserved quantity.\n",
    "\n",
    "The full system of equations in conservation form,\n",
    "\\begin{align} \\label{SW-tracer}\n",
    "q_t(x,t) + f(q(x,t))_x = 0\n",
    "\\end{align}\n",
    "thus takes the form\n",
    "\\begin{align*}\n",
    "\\begin{split}\n",
    "h_t + (hu)_x &=0\\\\\n",
    "(hu)_t + \\left(hu^2 + \\frac 1 2 gh^2\\right)_x &=0\\\\\n",
    "(h\\phi)_t + (uh\\phi)_x &= 0\n",
    "\\end{split}\n",
    "\\end{align*}\n",
    "\n",
    "The Riemann solution for this system has 3 waves.  Two of these waves, with speeds $u\\pm c$ (where $c=\\sqrt{gh}$) are just the same waves we studied in the shallow water system.  We refer to these as the 1-wave and 2-wave, to maintain consistency with the last chapter.  The additional wave appearing in this system (the *tracer* wave) moves at the fluid velocity $u$ and carries only a jump in the tracer concentration $\\phi$.  It is our first example of what is known as a contact discontinuity or linearly degenerate wave.  Because the fluid velocity is constant across this wave, tracer characteristics travel parallel to the wave on either side.  Thus this family does not admit shock or rarefaction waves.  The 1- and 2-waves can of course each be either a shock wave or rarefaction wave depending on the initial data, as explained in [Shallow_water.ipynb](Shallow_water.ipynb).  Below we consider a dam break problem in which case there is one of each."
   ]
  },
  {
   "cell_type": "code",
   "execution_count": null,
   "metadata": {
    "tags": [
     "hide"
    ]
   },
   "outputs": [],
   "source": [
    "%matplotlib inline"
   ]
  },
  {
   "cell_type": "code",
   "execution_count": null,
   "metadata": {
    "tags": [
     "hide"
    ]
   },
   "outputs": [],
   "source": [
    "%config InlineBackend.figure_format = 'svg'\n",
    "from ipywidgets import widgets, fixed\n",
    "from ipywidgets import interact\n",
    "\n",
    "from exact_solvers import shallow_water\n",
    "demo_plot = shallow_water.make_demo_plot_function"
   ]
  },
  {
   "cell_type": "markdown",
   "metadata": {},
   "source": [
    "## Dam break problem\n",
    "\n",
    "Here we plot the solution to the dam break Riemann problem for the shallow water equations with the addition of a tracer.  The tracer is now also take to be piecewise constant, with light blue representing the value $\\phi_l$ taken in the water the left of the dam, while dark blue represents the value $\\phi_r$ in the water on the right side of the dam.\n",
    "\n",
    "The structure of the depth and velocity are exactly the same as seen and discussed in detail in [Shallow_water.ipynb](Shallow_water.ipynb), and the value of $\\phi$ is constant across the 1-rarefaction and 3-shock waves.    The discontinuity in $\\phi$ shows the propagation of the 2-wave in the Riemann solution, the contact discontinuity across which $\\phi$ is discontinuous while  $h$ and $u$ are continuous. "
   ]
  },
  {
   "cell_type": "code",
   "execution_count": null,
   "metadata": {
    "scrolled": false
   },
   "outputs": [],
   "source": [
    "shallow_water.plot_riemann_SW(h_l=3, h_r=1, u_l=0., u_r=0., tracer=True)"
   ]
  },
  {
   "cell_type": "markdown",
   "metadata": {},
   "source": [
    "*In the live notebook you can select which set of characteristics to plot. Note that the characteristics corresponding to the tracer are equivalent to the particle paths of the water that were shown in similar examples in [Shallow_water.ipynb](Shallow_water.ipynb). This is because the characteristic speed is equal to $u$, the fluid velocity.*"
   ]
  },
  {
   "cell_type": "markdown",
   "metadata": {},
   "source": [
    "## Hyperbolic structure\n",
    "The canonical form (\\ref{SW-tracer}) arises by defining \n",
    "\\begin{align}\n",
    "q & = \\begin{pmatrix} h \\\\ hu \\\\ h \\phi \\end{pmatrix} & f & = \\begin{pmatrix} hu \\\\ hu^2 + \\frac{1}{2}gh^2 \\\\ uh\\phi\\end{pmatrix}.\n",
    "\\end{align}  \n",
    "In terms of the conserved quantities, the flux is  \n",
    "\\begin{align}\n",
    "f(q) & = \\begin{pmatrix} q_2 \\\\ q_2^2/q_1 + \\frac{1}{2}g q_1^2 \\\\ q_3 q_2/q_1 \\end{pmatrix}\n",
    "\\end{align}  \n",
    "Thus the flux jacobian is  \n",
    "\\begin{align}\n",
    "f'(q) & = \\begin{pmatrix} 0 & 1 & 0  \\\\ -(q_2/q_1)^2 + g q_1 & 2 q_2/q_1 & 0 \\\\ -q_3 q_2/q_1^2 & q_3/q_1 & q_2/q_1 \\end{pmatrix} \n",
    "        = \\begin{pmatrix} 0 & 1 & 0 \\\\ -u^2 + g h & 2 u & 0 \\\\ -u\\phi & \\phi & u \\end{pmatrix}.\n",
    "\\end{align}  \n",
    "Its eigenvalues are  \n",
    "\\begin{align} \\label{SW:char-speeds}\n",
    "    \\lambda_1 & = u - \\sqrt{gh} & \\lambda_\\text{tracer} & = u & \\lambda_2 & = u + \\sqrt{gh},\n",
    "\\end{align}  \n",
    "with corresponding eigenvectors  \n",
    "\\begin{align} \\label{SW:fjac-evecs}\n",
    "    r_1 & = \\begin{bmatrix} 1 \\\\ u-\\sqrt{gh} \\\\ \\phi \\end{bmatrix} &\n",
    "    r_\\text{tracer} & = \\begin{bmatrix} 0 \\\\ 0 \\\\ 1 \\end{bmatrix} & \n",
    "    r_2 & = \\begin{bmatrix} 1 \\\\ u+\\sqrt{gh} \\\\ \\phi \\end{bmatrix}\n",
    "\\end{align}  \n",
    "We see immediately that the tracer wave carries only a jump in the tracer itself.  It may seem puzzling that the third entry of $r_1$ and $r_3$ is nonzero.  Notice that each of these waves carries a jump in $h$; since $\\phi$ is constant across each of these waves, there must be a corresponding jump in $q_3=\\phi h$."
   ]
  },
  {
   "cell_type": "markdown",
   "metadata": {},
   "source": [
    "## Linear degeneracy\n",
    "The speed of the tracer wave depends only on $u$, and $u$ is constant across the tracer wave.  This means that tracer characteristics can neither converge nor diverge due to a jump in $\\phi$, but rather run parallel to it.  Characteristic fields with this property are referred to as being **linearly degenerate** since the Riemann solution to the linear advection equation has this same property, that the characteristic speed is independent of changes in the variable that jumps across the wave.  \n",
    "\n",
    "If we compute the gradient of the eigenvalue $\\lambda_\\text{tracer}$ by differentiating $u = hu/h$ with respect to each of the component of $q=(h, hu, h\\phi)$, we obtain\n",
    "\\begin{align} \\label{SW:gradu}\n",
    "\\nabla \\lambda_\\text{tracer} = \\begin{bmatrix} -hu/h^2\\\\ 1/h \\\\ 0\\end{bmatrix}.\n",
    "\\end{align}\n",
    "Note that this vector is orthogonal to the corresponding eigenvector,\n",
    "\\begin{align} \\label{SW:lindeg}\n",
    "\\nabla \\lambda_\\text{tracer} \\cdot r_\\text{tracer} \\equiv 0\n",
    "\\end{align}\n",
    "for all values of $q$.  This is the general mathematical condition for a linearly degenerate field, since it shows that the eigenvalue is unchanged as we move along integral curves of the corresponding eigenvalue.\n",
    "\n",
    "We will see another example of a linearly degenerate family in the next chapter, [Euler.ipynb](Euler.ipynb), where we will see that the Riemann solution to the Euler equations has a very similar structure to that of the shallow water equations with a tracer.  In general it consists of two nonlinear acoustic waves that can be either shock or rarefaction waves, depending on the initial data, and an intermediate contact discontinuity that propagates with the intermediate fluid velocity, and across which the fluid velocity is constant."
   ]
  }
 ],
 "metadata": {
  "kernelspec": {
   "display_name": "Python 3",
   "language": "python",
   "name": "python3"
  },
  "language_info": {
   "codemirror_mode": {
    "name": "ipython",
    "version": 3
   },
   "file_extension": ".py",
   "mimetype": "text/x-python",
   "name": "python",
   "nbconvert_exporter": "python",
   "pygments_lexer": "ipython3",
   "version": "3.6.5"
  }
 },
 "nbformat": 4,
 "nbformat_minor": 1
}
