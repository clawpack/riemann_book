{
 "cells": [
  {
   "cell_type": "markdown",
   "metadata": {},
   "source": [
    "# Nonlinear elasticity\n",
    "In this chapter we investigate a nonlinear model of elastic strain in heterogeneous materials.  This system is equivalent to the $p$-system of gas dynamics, although the stress-strain relation we will use here is very different from the pressure-density relation typically used in gas dynamics.  The equations we consider have been investigated numerically in [<cite data-cite=\"leveque2002\"><a href=\"riemann.html#leveque2002\">(LeVeque, 2002)<a></cite>,<cite data-cite=\"leveque2003\"><a href=\"riemann.html#leveque2003\">(LeVeque & Yong, 2003)<a></cite>,<cite data-cite=\"2012_ketchesonleveque_periodic\"><a href=\"riemann.html#2012_ketchesonleveque_periodic\">(Ketcheson & LeVeque, 2012)<a></cite>].\n",
    "\n",
    "The equations are\n",
    "\\begin{align}\n",
    "\\epsilon_t(x,t) - u_x(x,t) & = 0 \\\\\n",
    "(\\rho(x)u(x,t))_t - \\sigma(\\epsilon(x,t),x)_x & = 0.\n",
    "\\end{align}\n",
    "\n",
    "The first equation is a kinematic relation, while the second represents Newton's second law.  This is a nonlinear conservation law with spatially varying flux function, in which\n",
    "\\begin{align}\n",
    "q & = \\begin{bmatrix} \\epsilon \\\\ \\rho u \\end{bmatrix}, & f(q,x) & = \\begin{bmatrix} -{\\mathcal M}/\\rho(x) \\\\ -\\sigma(\\epsilon,x) \\end{bmatrix}\n",
    "\\end{align}\n",
    "\n",
    "Here $\\epsilon$ is the strain, $u$ is the velocity, $\\rho$ is the material density, $\\sigma$ is the stress,\n",
    "and ${\\mathcal M}=\\rho u$ is the momentum.  If we take a linear stress strain relationship $\\sigma(\\epsilon,x)=K(x)\\epsilon$, then this system is equivalent to the acoustics equations that we have\n",
    "studied previously.  Here we consider instead a quadratic stress:\n",
    "\n",
    "\\begin{align}\n",
    "\\sigma(\\epsilon,x) = K_1(x) \\epsilon + K_2(x) \\epsilon^2.\n",
    "\\end{align}\n",
    "\n",
    "We assume that the spatially-varying functions $\\rho, K_1, K_2$ are piecewise constant, taking values\n",
    "$(\\rho_l, K_{1l}, K_{2l})$ for $x<0$ and values $(\\rho_r, K_{1r}, K_{2r})$ for $x>0$."
   ]
  },
  {
   "cell_type": "markdown",
   "metadata": {},
   "source": [
    "## Hyperbolic structure\n",
    "The flux jacobian is\n",
    "\\begin{align}\n",
    "f'(q) = \\begin{bmatrix} 0 & -1/\\rho(x) \\\\ -\\sigma_\\epsilon(\\epsilon,x) & 0 \\end{bmatrix},\n",
    "\\end{align}\n",
    "with eigenvalues (characteristic sound speeds)\n",
    "\\begin{align}\n",
    "\\lambda^\\pm(x) = \\pm \\sqrt{\\frac{\\sigma_\\epsilon(\\epsilon,x)}{\\rho(x)}} = \\pm c(\\epsilon, x).\n",
    "\\end{align}\n",
    "\n",
    "Here for the stress-strain relation we have chosen, $\\sigma_\\epsilon = K_1(x) + 2 K_2(x)\\epsilon$.\n",
    "\n",
    "It's also convenient to define the nonlinear impedance $Z(\\epsilon, x) = \\rho(x) c(\\epsilon,x)$.  Then the eigenvectors of the flux Jacobian are\n",
    "\\begin{align}\n",
    "R & = \\begin{bmatrix} 1 & 1 \\\\ Z & -Z \\end{bmatrix}.\n",
    "\\end{align}\n",
    "Both characteristic fields are genuinely nonlinear.  Furthermore, since the characteristic speeds each have a definite sign, this system does not admit transonic rarefactions."
   ]
  },
  {
   "cell_type": "markdown",
   "metadata": {},
   "source": [
    "### Structure of the Riemann solution\n",
    "Based on the eigenstructure of the flux jacobian above, the Riemann solution will always include a left-going and a right-going wave, each of which may be a shock or rarefaction.  Furthermore, we will see that the jump in $\\rho$ and $K$ at $x=0$ induces a stationary wave there.  Thus the overall structure of the Riemann solution is:\n",
    "\n",
    "![](./figures/nonlinear_elasticity_riemann.png)"
   ]
  },
  {
   "cell_type": "markdown",
   "metadata": {},
   "source": [
    "### Hugoniot loci\n",
    "From the Rankine-Hugoniot jump conditions for the system we obtain the 1-Hugoniot locus for a state $(\\epsilon^*_l, u^*_l)$ connected by a 1-shock to a state $(\\epsilon_l, u_l)$:\n",
    "\\begin{align}\n",
    "u^*_l & = u_l - \\left( \\frac{\\left(\\sigma_l(\\epsilon^*_l)-\\sigma_l(\\epsilon_l)\\right)(\\epsilon^*_l-\\epsilon_l)}{\\rho_l}  \\right)^{1/2}\n",
    "\\end{align}\n",
    "Here $\\sigma_l(\\epsilon)$ is shorthand for the stress relation in the left medium.\n",
    "Similarly, a state $(\\epsilon^*_r,u^*_r)$ that is connected by a 2-shock to a state $(\\epsilon_r, u_r)$ must satisfy\n",
    "\\begin{align}\n",
    "u^*_r & = u_r - \\left( \\frac{\\left(\\sigma_r(\\epsilon^*_r)-\\sigma_r(\\epsilon_r)\\right)(\\epsilon^*_r-\\epsilon_r)}{\\rho_r}  \\right)^{1/2}.\n",
    "\\end{align}"
   ]
  },
  {
   "cell_type": "markdown",
   "metadata": {},
   "source": [
    "### Integral curves\n",
    "The integral curves can be found by writing $\\tilde{q}'(\\xi) = r^{1,2}(\\tilde{q}(\\xi))$ and integrating.  This leads to\n",
    "\\begin{align}\n",
    "u^*_l  & = u_l + \\frac{1}{3 K_{2l} \\sqrt{\\rho_l}} \\left( \\sigma_{l,\\epsilon}(\\epsilon^*_l)^{3/2} - \\sigma_{l,\\epsilon}(\\epsilon)^{3/2} \\right) \\\\\n",
    "u^*_r  & = u_r - \\frac{1}{3 K_{2r} \\sqrt{\\rho_r}} \\left( \\sigma_{r,\\epsilon}(\\epsilon^*_r)^{3/2} - \\sigma_{r,\\epsilon}(\\epsilon)^{3/2} \\right)\n",
    "\\end{align}\n",
    "Here $\\sigma_{l,\\epsilon}$ is the derivative of the stress function w.r.t $\\epsilon$ in the left medium."
   ]
  },
  {
   "cell_type": "markdown",
   "metadata": {},
   "source": [
    "### The entropy condition\n",
    "For a 1-shock, we need that $\\lambda^-(\\epsilon_l,x<0) > \\lambda^-(\\epsilon^*_l,x<0$, which is equivalent to $\\epsilon^*_l>\\epsilon_l$.  Similarly, a 2-shock is entropy-satisfying if $\\epsilon^*_r > \\epsilon_r$."
   ]
  },
  {
   "cell_type": "markdown",
   "metadata": {},
   "source": [
    "### Interface conditions\n",
    "Because the flux depends explicitly on $x$, we do not necessarily have continuity of $q$ at $x=0$; i.e. in general $q^*_l \\ne q^*_r$.  Instead, the flux must be continuous: $f(q^*_l)=f(q^*_r)$.  For the present system, this means that the stress and velocity must be continuous, which makes sense from a physical point of view.  If the velocity were not continuous, the material would fracture (or overlap itself).  Continuity of the stress is required by Newton's laws."
   ]
  },
  {
   "cell_type": "markdown",
   "metadata": {},
   "source": [
    "### Structure of rarefaction waves\n",
    "For this system, the structure of a centered rarefaction wave can be determined very simply.  Since the characteristic velocity must be equal to $\\xi = x/t$ at each point along the wave, we have $\\xi = \\pm\\sqrt{\\sigma_\\epsilon/\\rho}$, or\n",
    "\\begin{align}\n",
    "\\xi^2 = \\frac{K_1 + 2K_2\\epsilon}{\\rho}\n",
    "\\end{align}\n",
    "which leads to $\\epsilon = (\\rho\\xi^2 - K_1)/(2K_2)$.  Once the value of $\\epsilon$ is known, $u$ can be determined using the integral curves above."
   ]
  },
  {
   "cell_type": "code",
   "execution_count": null,
   "metadata": {
    "collapsed": false
   },
   "outputs": [],
   "source": [
    "%matplotlib inline\n",
    "import numpy as np\n",
    "from scipy.optimize import fsolve\n",
    "import matplotlib.pyplot as plt\n",
    "from utils import riemann_tools\n",
    "from ipywidgets import widgets\n",
    "from ipywidgets import interact\n",
    "from clawpack import riemann\n",
    "from exact_solvers import nonlinear_elasticity"
   ]
  },
  {
   "cell_type": "code",
   "execution_count": null,
   "metadata": {
    "collapsed": false
   },
   "outputs": [],
   "source": [
    "# %load exact_solvers/nonlinear_elasticity.py"
   ]
  },
  {
   "cell_type": "code",
   "execution_count": null,
   "metadata": {
    "collapsed": false
   },
   "outputs": [],
   "source": [
    "def dsigma(eps, K1, K2):\n",
    "    \"Derivative of stress w.r.t. strain.\"\n",
    "    return K1 + 2*K2*eps\n",
    "\n",
    "def lambda1(q, xi, aux):\n",
    "    eps = q[0]\n",
    "    rho, K1, K2 = aux\n",
    "    return -np.sqrt(dsigma(eps, K1, K2)/rho)\n",
    "\n",
    "def lambda2(q, xi, aux):\n",
    "    return -lambda1(q,xi,aux)"
   ]
  },
  {
   "cell_type": "code",
   "execution_count": null,
   "metadata": {
    "collapsed": false
   },
   "outputs": [],
   "source": [
    "def riemann_solution(q_l, q_r, aux_l, aux_r):\n",
    "    ex_states, ex_speeds, ex_reval, wave_types = nonlinear_elasticity.exact_riemann_solution(q_l,q_r,aux_l,aux_r)\n",
    "    plot_function = riemann_tools.make_plot_function(ex_states, ex_speeds, ex_reval, wave_types,\n",
    "                                                     layout='vertical',\n",
    "                                                     variable_names=('Strain','Momentum'),\n",
    "                                                     plot_chars=[lambda1,lambda2],aux=(aux_l,aux_r))\n",
    "    interact(plot_function, t=widgets.FloatSlider(value=0.1,min=0,max=.9),\n",
    "             which_char=widgets.Dropdown(options=[None,1,2],description='Show characteristics'));"
   ]
  },
  {
   "cell_type": "code",
   "execution_count": null,
   "metadata": {
    "collapsed": false
   },
   "outputs": [],
   "source": [
    "aux_l = np.array((1., 5., 1.))\n",
    "aux_r = np.array((1., 2., 1.))\n",
    "q_l = np.array([2.1, 0.])\n",
    "q_r = np.array([0.0, 0.])\n",
    "\n",
    "riemann_solution(q_l, q_r, aux_l, aux_r)"
   ]
  },
  {
   "cell_type": "code",
   "execution_count": null,
   "metadata": {
    "collapsed": false
   },
   "outputs": [],
   "source": [
    "nonlinear_elasticity.phase_plane_plot(q_l, q_r, aux_l, aux_r)"
   ]
  },
  {
   "cell_type": "markdown",
   "metadata": {},
   "source": [
    "# Approximate solution of the Riemann problem using $f$-waves\n",
    "The exact solver above requires a nonlinear iterative solver and is relatively expensive.  A very cheap approximate Riemann solver for this system was developed in <cite data-cite=\"leveque2002\"><a href=\"riemann.html#leveque2002\">(LeVeque, 2002)<a></cite> using the $f$-wave approach.  One simply assumes that both nonlinear waves are shocks, with speeds equal to the characteristic speeds of the left and right states:\n",
    "\\begin{align}\n",
    "s^1 & = - \\sqrt{\\frac{\\sigma_{\\epsilon,l}(\\epsilon_l)}{\\rho_l}} \\\\\n",
    "s^2 & = + \\sqrt{\\frac{\\sigma_{\\epsilon,r}(\\epsilon_r)}{\\rho_r}}.\n",
    "\\end{align}\n",
    "Meanwhile, the waves are obtained by decomposing the jump in the flux $f(q_r,x>0) - f(q_l,x<0)$ in terms of the eigenvectors of the flux jacobian."
   ]
  },
  {
   "cell_type": "code",
   "execution_count": null,
   "metadata": {
    "collapsed": false
   },
   "outputs": [],
   "source": [
    "solver = riemann.nonlinear_elasticity_1D_py.nonlinear_elasticity_1D\n",
    "\n",
    "problem_data = {'stress_relation' : 'quadratic'}\n",
    "fwave_states, fwave_speeds, fwave_reval = riemann_tools.riemann_solution(solver,q_l,q_r,aux_l,aux_r,\n",
    "                                                             problem_data=problem_data,verbose=True,\n",
    "                                                             stationary_wave=True,fwave=True)"
   ]
  },
  {
   "cell_type": "code",
   "execution_count": null,
   "metadata": {
    "collapsed": false
   },
   "outputs": [],
   "source": [
    "plot_function = riemann_tools.make_plot_function(fwave_states,fwave_speeds, fwave_reval,\n",
    "                                                 layout='vertical', variable_names=('Strain','Momentum'))\n",
    "interact(plot_function, t=widgets.FloatSlider(value=0.1,min=0,max=.9,step=.1));"
   ]
  },
  {
   "cell_type": "markdown",
   "metadata": {},
   "source": [
    "# Comparison of exact and approximate solutions"
   ]
  },
  {
   "cell_type": "code",
   "execution_count": null,
   "metadata": {
    "collapsed": false
   },
   "outputs": [],
   "source": [
    "ex_states, ex_speeds, ex_reval, wave_types = nonlinear_elasticity.exact_riemann_solution(q_l,q_r,aux_l,aux_r)\n",
    "\n",
    "plot_function = riemann_tools.make_plot_function([ex_states,fwave_states],\n",
    "                                                 [ex_speeds,fwave_speeds],\n",
    "                                                 [ex_reval,fwave_reval],\n",
    "                                                 [wave_types,['contact']*3],\n",
    "                                                 ['Exact','$f$-wave'],\n",
    "                                                 layout='vertical',variable_names=nonlinear_elasticity.conserved_variables)\n",
    "interact(plot_function, t=widgets.FloatSlider(value=0.1,min=0, max=0.9, step=0.1));"
   ]
  }
 ],
 "metadata": {
  "kernelspec": {
   "display_name": "Python 2",
   "language": "python",
   "name": "python2"
  },
  "language_info": {
   "codemirror_mode": {
    "name": "ipython",
    "version": 2
   },
   "file_extension": ".py",
   "mimetype": "text/x-python",
   "name": "python",
   "nbconvert_exporter": "python",
   "pygments_lexer": "ipython2",
   "version": "2.7.12"
  }
 },
 "nbformat": 4,
 "nbformat_minor": 2
}
