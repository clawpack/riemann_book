{
 "cells": [
  {
   "cell_type": "markdown",
   "metadata": {},
   "source": [
    "\n",
    "# Riemann problem for acoustics\n",
    "\n",
    "This notebook illustrates some features of the exact solution to the 1-dimensional constant coefficient acoustics equations, as described in more detail in Chapter 3 of <cite data-cite=\"fvmhp\"><a href=\"riemann.html#fvmhp\">(LeVeque 2002)<a></cite>\n",
    "\n",
    "**Need to rewrite to use widgets**"
   ]
  },
  {
   "cell_type": "code",
   "execution_count": null,
   "metadata": {
    "collapsed": false
   },
   "outputs": [],
   "source": [
    "%matplotlib inline\n",
    "import matplotlib.pyplot as plt\n",
    "import numpy as np"
   ]
  },
  {
   "cell_type": "markdown",
   "metadata": {},
   "source": [
    "The next cell imports a module containing a function that takes a Riemann problem (left state, right state, and approximate solver), and computes the Riemann solution, as well as functions to plot the solution in various forms.  "
   ]
  },
  {
   "cell_type": "code",
   "execution_count": null,
   "metadata": {
    "collapsed": false
   },
   "outputs": [],
   "source": [
    "from utils import riemann_tools"
   ]
  },
  {
   "cell_type": "code",
   "execution_count": null,
   "metadata": {
    "collapsed": false
   },
   "outputs": [],
   "source": [
    "from utils import animation_tools\n",
    "\n",
    "#animation_style = 'ipywidgets'\n",
    "animation_style = 'JSAnimation'"
   ]
  },
  {
   "cell_type": "markdown",
   "metadata": {},
   "source": [
    "# Acoustics: exact solution\n",
    "We can use this to examine the exact solution of an acoustics Riemann problem.\n",
    "\n",
    "This is a linear hyperbolic system of two equations for $q = [p, u]^T$, where $p$ is the pressure perturbation and $u$ is the velocity.  The system is $q_t + Aq_x = 0$, where the coefficient matrix is\n",
    "\n",
    "$$\n",
    "A = \\left[\\begin{array}{cc}0&K\\\\1/\\rho&0\\end{array}\\right], \n",
    "$$\n",
    "\n",
    "where $\\rho$ is the density and $K$ the bulk modulus.  If we define the sound speed $c = \\sqrt{K/\\rho}$ and impedance $Z=\\sqrt{K\\rho}$, then the eigenvalues of the matrix are $s^1 = -c$ and $s^2 = +c$ and the corresponding eigenvectors are\n",
    "$$\n",
    "r^1 = \\left[\\begin{array}{c}-Z\\\\1\\end{array}\\right], \\qquad r^2 = \\left[\\begin{array}{c}Z\\\\1\\end{array}\\right].\n",
    "$$\n",
    "\n",
    "For arbitrary states $q_\\ell$ and $q_r$, the Riemann solution consists of two waves propagating with velocities $\\pm c$ with an intermediate state $q_m$ that is connected to $q_\\ell$ by a multiple of $r^1$ and to $q_r$ by a multiple of $r^2$.\n",
    "\n",
    "This Riemann solver can be solved by the PyClaw solver `riemann.acoustics_1D_py.acoustics_1D`:"
   ]
  },
  {
   "cell_type": "code",
   "execution_count": null,
   "metadata": {
    "collapsed": false
   },
   "outputs": [],
   "source": [
    "from clawpack.riemann.acoustics_1D_py import acoustics_1D\n",
    "solver = acoustics_1D"
   ]
  },
  {
   "cell_type": "markdown",
   "metadata": {},
   "source": [
    "### Set some problem data needed by the solver:"
   ]
  },
  {
   "cell_type": "code",
   "execution_count": null,
   "metadata": {
    "collapsed": false
   },
   "outputs": [],
   "source": [
    "problem_data = {}\n",
    "\n",
    "rho = 1.            # density\n",
    "K = 4.              # bulk modulus\n",
    "c = np.sqrt(K/rho)  # sound speed\n",
    "Z = np.sqrt(K*rho)  # impedance\n",
    "\n",
    "print(\"Density rho = %g, Bulk modulus K = %g\" % (rho,K))\n",
    "print(\"Sound speed = %g, Impedance = %g\" % (c,Z))\n",
    "\n",
    "problem_data['zz'] = Z \n",
    "problem_data['cc'] = c"
   ]
  },
  {
   "cell_type": "markdown",
   "metadata": {},
   "source": [
    "### Set the left and right states, and solve the Riemann problem"
   ]
  },
  {
   "cell_type": "code",
   "execution_count": null,
   "metadata": {
    "collapsed": false
   },
   "outputs": [],
   "source": [
    "q_l = np.array((1,4))  # Left state\n",
    "q_r = np.array((3,7))  # Right state\n",
    "\n",
    "states, s, riemann_eval = riemann_tools.riemann_solution(solver,q_l,q_r,\\\n",
    "                                            problem_data=problem_data, verbose=True)"
   ]
  },
  {
   "cell_type": "markdown",
   "metadata": {},
   "source": [
    "### Plot the states in the phase plane:"
   ]
  },
  {
   "cell_type": "code",
   "execution_count": null,
   "metadata": {
    "collapsed": false
   },
   "outputs": [],
   "source": [
    "fig = plt.figure(figsize=(4,3))\n",
    "ax = plt.axes()\n",
    "riemann_tools.plot_phase(states, ax=ax, label_h='pressure', label_v='velocity')"
   ]
  },
  {
   "cell_type": "markdown",
   "metadata": {},
   "source": [
    "### Plot the waves in the x-t plane, and the solution at one particular time:"
   ]
  },
  {
   "cell_type": "code",
   "execution_count": null,
   "metadata": {
    "collapsed": false
   },
   "outputs": [],
   "source": [
    "fig = riemann_tools.plot_riemann(states,s,riemann_eval,t=0.5)"
   ]
  },
  {
   "cell_type": "markdown",
   "metadata": {},
   "source": [
    "### Animate the Riemann solution:"
   ]
  },
  {
   "cell_type": "code",
   "execution_count": null,
   "metadata": {
    "collapsed": false
   },
   "outputs": [],
   "source": [
    "riemann_tools.JSAnimate_plot_riemann(states,s,riemann_eval)"
   ]
  },
  {
   "cell_type": "markdown",
   "metadata": {},
   "source": [
    "## Shock tube problem:\n",
    "\n",
    "If the velocity is 0 in both initial states (the shock tube problem) then the resulting Riemann solution consists of pressure jumps of equal magnitude propagating in each direction, with equal and opposite jumps in velocity."
   ]
  },
  {
   "cell_type": "code",
   "execution_count": null,
   "metadata": {
    "collapsed": false
   },
   "outputs": [],
   "source": [
    "q_l = np.array((5,0))  # Left state\n",
    "q_r = np.array((1,0))  # Right state\n",
    "\n",
    "states, s, riemann_eval = riemann_tools.riemann_solution(solver,q_l,q_r,\\\n",
    "                                        problem_data=problem_data, verbose=True)\n",
    "\n",
    "fig = plt.figure(figsize=(4,3))\n",
    "ax = plt.axes()\n",
    "riemann_tools.plot_phase(states, ax=ax, label_h='pressure', label_v='velocity')"
   ]
  },
  {
   "cell_type": "code",
   "execution_count": null,
   "metadata": {
    "collapsed": false
   },
   "outputs": [],
   "source": [
    "riemann_tools.JSAnimate_plot_riemann(states,s,riemann_eval)"
   ]
  },
  {
   "cell_type": "markdown",
   "metadata": {},
   "source": [
    "### Plot the particle trajectories\n",
    "\n",
    "For the acoustics equations, the second component of `q` is the velocity.  By integrating the velocities we can get particle positions.  The following utility function does this for us based on the Riemann solution, solving\n",
    "\n",
    "$$\n",
    "X'(t) = u(X(t), t),\\qquad \\text{for} \\quad t \\geq 0, \\qquad \\text{with initial data} ~ X(0) = x_0\n",
    "$$\n",
    "\n",
    "for a set of 20 initial particle locations $x_0$ evenly distributed along the x-axis at time $=0$.\n",
    "\n",
    "Note that the particles initially have velocity 0 and are accelerated to the right by either acoustic wave.  The velocity is constant between the two waves and positive because the pressure chosen was greater to be greater in the left state than in the right state.  If $p_\\ell < p_r$ the the fluid would be accelerated to the left instead."
   ]
  },
  {
   "cell_type": "code",
   "execution_count": null,
   "metadata": {
    "collapsed": false
   },
   "outputs": [],
   "source": [
    "wave_types = ['contact','contact'] # for a linear system of 2 equations\n",
    "\n",
    "# Specify number of trajectories to left and right:\n",
    "num_left = 10\n",
    "num_right = 10\n",
    "\n",
    "# compute trajectories:\n",
    "x_traj, t_traj, xmax = riemann_tools.compute_riemann_trajectories(states, s, riemann_eval, wave_types,\n",
    "                              i_vel=1, num_left=num_left, num_right=num_right)\n",
    "\n",
    "# plot trajectories along with waves in the x-t plane:\n",
    "riemann_tools.plot_riemann_trajectories(x_traj, t_traj, s, wave_types)"
   ]
  },
  {
   "cell_type": "markdown",
   "metadata": {},
   "source": [
    "## Flow into a wall:\n",
    "\n",
    "As another example, suppose the pressure is initially the same in the left and right states, while the velocities are non-zero with $u_r = -u_\\ell > 0$.  Particles are converging from both sides and if the initial states have this symmetry, then the result is a middle state $q_m$ in which the velocity is 0 (and the pressure is higher than on either side)."
   ]
  },
  {
   "cell_type": "code",
   "execution_count": null,
   "metadata": {
    "collapsed": false
   },
   "outputs": [],
   "source": [
    "q_l = np.array((3,2))  # Left state\n",
    "q_r = np.array((3,-2))  # Right state\n",
    "\n",
    "states, s, riemann_eval = riemann_tools.riemann_solution(solver,q_l,q_r,\\\n",
    "                                        problem_data=problem_data, verbose=True)\n",
    "\n",
    "fig = plt.figure(figsize=(4,3))\n",
    "ax = plt.axes()\n",
    "riemann_tools.plot_phase(states, ax=ax, label_h='pressure', label_v='velocity')"
   ]
  },
  {
   "cell_type": "code",
   "execution_count": null,
   "metadata": {
    "collapsed": false
   },
   "outputs": [],
   "source": [
    "riemann_tools.JSAnimate_plot_riemann(states,s,riemann_eval)"
   ]
  },
  {
   "cell_type": "markdown",
   "metadata": {},
   "source": [
    "Again we can plot particle trajectories:"
   ]
  },
  {
   "cell_type": "code",
   "execution_count": null,
   "metadata": {
    "collapsed": false
   },
   "outputs": [],
   "source": [
    "# compute trajectories:\n",
    "x_traj, t_traj, xmax = riemann_tools.compute_riemann_trajectories(states, s, riemann_eval, wave_types,\n",
    "                              i_vel=1, num_left=num_left, num_right=num_right)\n",
    "\n",
    "# plot trajectories along with waves in the x-t plane:\n",
    "riemann_tools.plot_riemann_trajectories(x_traj, t_traj, s, wave_types)"
   ]
  },
  {
   "cell_type": "markdown",
   "metadata": {},
   "source": [
    "If you discard half the solution (for $x>0$ or for $x<0$) then what you see can be viewed as the solution to a problem with fluid streaming at constant velocity toward a solid wall.  The result is an acoustic wave that moves away from the wall, and the fluid behind the shock has been decelerated to velocity 0, i.e. it is stationary at the wall.\n",
    "\n",
    "This type of Riemann solution is critical when imposing solid wall boundary conditions in a numerical method. If ghost cells are introduced outside the domain and the state in the ghost cell set by reflecting the interior solution with the symmetry seen here (equal pressure, negated velocity), then the solution to the Riemann problem at the cell interfaces yields a solution that satisfies the desired boundary conditions. "
   ]
  }
 ],
 "metadata": {
  "kernelspec": {
   "display_name": "Python 2",
   "language": "python",
   "name": "python2"
  },
  "language_info": {
   "codemirror_mode": {
    "name": "ipython",
    "version": 2
   },
   "file_extension": ".py",
   "mimetype": "text/x-python",
   "name": "python",
   "nbconvert_exporter": "python",
   "pygments_lexer": "ipython2",
   "version": "2.7.12"
  }
 },
 "nbformat": 4,
 "nbformat_minor": 1
}
