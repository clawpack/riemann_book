{
 "cells": [
  {
   "cell_type": "markdown",
   "metadata": {},
   "source": [
    "# Comparison of full discretizations using approximate Riemann solvers"
   ]
  },
  {
   "cell_type": "markdown",
   "metadata": {},
   "source": [
    "In [Euler_approximate_solvers.ipynb](Euler_approximate_solvers.ipynb) we introduced several approximate Riemann solvers for the Euler equations of compressible gas dynamics.  How do these solvers impact the solution accuracy when used within a finite volume discretization?  To investigate, we will use them within [PyClaw](http://www.clawpack.org/pyclaw/) to solve two standard test problems for one-dimensional compressible flow:\n",
    "\n",
    "  1. The Sod shocktube problem.  This is a Riemann problem, which we have considered previously.\n",
    "  2. The Woodward-Colella blast wave problem.  The initial data consists of two Riemann problems, with resulting shock waves of differing strengths.  These shock waves later interact with each other.\n",
    "  \n",
    "In this chapter, unlike previous chapters, we include extensive sections of code in the notebook.  This is meant to more easily allow the reader to use these as templates for setting up other problems.  For more information about the software and algorithms used here, see [this paper](https://peerj.com/articles/cs-68/) and references therein."
   ]
  },
  {
   "cell_type": "code",
   "execution_count": null,
   "metadata": {
    "tags": [
     "hide"
    ]
   },
   "outputs": [],
   "source": [
    "%matplotlib inline"
   ]
  },
  {
   "cell_type": "code",
   "execution_count": null,
   "metadata": {
    "tags": [
     "hide"
    ]
   },
   "outputs": [],
   "source": [
    "%config InlineBackend.figure_format = 'svg'\n",
    "import numpy as np\n",
    "from exact_solvers import euler\n",
    "from clawpack import riemann\n",
    "import matplotlib.pyplot as plt\n",
    "from ipywidgets import interact\n",
    "from ipywidgets import widgets"
   ]
  },
  {
   "cell_type": "code",
   "execution_count": null,
   "metadata": {},
   "outputs": [],
   "source": [
    "from clawpack.riemann.euler_with_efix_1D_constants \\\n",
    "    import density, momentum, energy, num_eqn\n",
    "\n",
    "def shocktube(q_l, q_r, N=50, riemann_solver='HLL', \n",
    "              solver_type='classic'):\n",
    "\n",
    "    from clawpack import pyclaw\n",
    "    from clawpack import riemann\n",
    "\n",
    "    if riemann_solver == 'Roe':\n",
    "        rs = riemann.euler_1D_py.euler_roe_1D\n",
    "    elif riemann_solver == 'HLL':\n",
    "        rs = riemann.euler_1D_py.euler_hll_1D\n",
    "\n",
    "    if solver_type == 'classic':\n",
    "        solver = pyclaw.ClawSolver1D(rs)        \n",
    "        solver.limiters = pyclaw.limiters.tvd.MC\n",
    "    else:\n",
    "        solver = pyclaw.SharpClawSolver1D(rs)\n",
    "\n",
    "    solver.kernel_language = 'Python'\n",
    "    \n",
    "    solver.bc_lower[0]=pyclaw.BC.extrap\n",
    "    solver.bc_upper[0]=pyclaw.BC.extrap\n",
    "\n",
    "    x = pyclaw.Dimension(-1.0,1.0,N,name='x')\n",
    "    domain = pyclaw.Domain([x])\n",
    "    state = pyclaw.State(domain,num_eqn)\n",
    "\n",
    "    gamma = 1.4\n",
    "    state.problem_data['gamma']= gamma\n",
    "    state.problem_data['gamma1']= gamma-1.\n",
    "\n",
    "    state.problem_data['efix'] = False\n",
    "\n",
    "    xc = state.grid.p_centers[0]\n",
    "    \n",
    "    velocity = (xc<=0)*q_l[1] + (xc>0)*q_r[1]\n",
    "    pressure = (xc<=0)*q_l[2] + (xc>0)*q_r[2]\n",
    "\n",
    "    state.q[density ,:] = (xc<=0)*q_l[0] + (xc>0)*q_r[0]\n",
    "    state.q[momentum,:] = velocity * state.q[density,:]\n",
    "    state.q[energy  ,:] = pressure/(gamma - 1.) + \\\n",
    "                          0.5 * state.q[density,:] * velocity**2\n",
    "\n",
    "    claw = pyclaw.Controller()\n",
    "    claw.tfinal = 0.5\n",
    "    claw.solution = pyclaw.Solution(state,domain)\n",
    "    claw.solver = solver\n",
    "    claw.num_output_times = 10\n",
    "    claw.keep_copy = True\n",
    "    claw.verbosity=0\n",
    "\n",
    "    return claw"
   ]
  },
  {
   "cell_type": "code",
   "execution_count": null,
   "metadata": {},
   "outputs": [],
   "source": [
    "from clawpack.riemann.euler_with_efix_1D_constants \\\n",
    "    import density, momentum, energy, num_eqn\n",
    "\n",
    "def blastwave(N=400, riemann_solver='HLL', solver_type='classic'):\n",
    "\n",
    "    from clawpack import pyclaw\n",
    "    from clawpack import riemann\n",
    "\n",
    "    if riemann_solver == 'Roe':\n",
    "        kernel_language = 'Fortran'\n",
    "        rs = riemann.euler_with_efix_1D\n",
    "    elif riemann_solver == 'HLL':\n",
    "        kernel_language = 'Python'\n",
    "        rs = riemann.euler_1D_py.euler_hll_1D\n",
    "\n",
    "    if solver_type == 'classic':\n",
    "        solver = pyclaw.ClawSolver1D(rs)\n",
    "        solver.limiters = pyclaw.limiters.tvd.MC\n",
    "    else:\n",
    "        solver = pyclaw.SharpClawSolver1D(rs)\n",
    "\n",
    "    solver.kernel_language = kernel_language\n",
    "    \n",
    "    solver.bc_lower[0]=pyclaw.BC.wall\n",
    "    solver.bc_upper[0]=pyclaw.BC.wall\n",
    "\n",
    "    x = pyclaw.Dimension(0.0,1.0,N,name='x')\n",
    "    domain = pyclaw.Domain([x])\n",
    "    state = pyclaw.State(domain,num_eqn)\n",
    "\n",
    "    gamma = 1.4\n",
    "    state.problem_data['gamma']= gamma\n",
    "    state.problem_data['gamma1']= gamma-1.\n",
    "\n",
    "    state.problem_data['efix'] = False\n",
    "\n",
    "    xc = state.grid.p_centers[0]\n",
    "\n",
    "    pressure = (xc<0.1)*1.e3 + (0.1<=xc)*(xc<0.9)*1.e-2 + (0.9<=xc)*1.e2\n",
    "    \n",
    "    state.q[density ,:] = 1.\n",
    "    state.q[momentum,:] = 0.\n",
    "    state.q[energy  ,:] = pressure / (gamma - 1.)\n",
    "\n",
    "    claw = pyclaw.Controller()\n",
    "    claw.tfinal = 0.038\n",
    "    claw.solution = pyclaw.Solution(state,domain)\n",
    "    claw.solver = solver\n",
    "    claw.num_output_times = 30\n",
    "    claw.keep_copy = True\n",
    "    claw.verbosity=0\n",
    "\n",
    "    return claw"
   ]
  },
  {
   "cell_type": "markdown",
   "metadata": {},
   "source": [
    "## Classic Clawpack algorithm with HLL versus Roe"
   ]
  },
  {
   "cell_type": "markdown",
   "metadata": {},
   "source": [
    "We compare results obtained with these two solvers within a second-order Lax-Wendroff based scheme (with limiters to avoid nonphysical oscillations).  This method is the basis of Clawpack.  "
   ]
  },
  {
   "cell_type": "markdown",
   "metadata": {},
   "source": [
    "### Sod shock tube problem"
   ]
  },
  {
   "cell_type": "markdown",
   "metadata": {},
   "source": [
    "We first consider the classic shocktube problem proposed by Sod and already discussed in [Euler.ipynb](Euler.ipynb).  This is a particular Riemann problem in which the initial velocity is zero on both sides of a discontinuity in pressure and/or density of a gas, and so the exact Riemann solver for the Euler equations would provide the exact solution for all time, consisting of a right-going shock, a left-going rarefaction, and an intermediate contact discontinuity.\n",
    "\n",
    "In the numerical experiments done in this notebook, we use this initial data for a more general finite volume method that could be used to approximate the solution for any initial data.  In the first time step there is a single cell interface with nontrivial Riemann data, but as the solution evolves on the grid the Riemann problems that arise in subsequent time steps are very different from the single problem we started with.  Depending on the accuracy of the numerical method, the resolution of the grid, and the choice of approximate Riemann solver to use at each grid cell every time step, the numerical solution may deviate significantly from the exact solution to the original shocktube problem.  This makes a good initial test problem for numerical methods because the exact solution can be computed for comparison purposes, and because it clearly shows whether the method introduces oscillations around discontinuities and/or smears them out.  "
   ]
  },
  {
   "cell_type": "code",
   "execution_count": null,
   "metadata": {},
   "outputs": [],
   "source": [
    "prim_l = [1.,0.,1.]\n",
    "prim_r = [1./8,0.,1./10]\n",
    "q_l = euler.conservative_to_primitive(*prim_l)\n",
    "q_r = euler.conservative_to_primitive(*prim_r)\n",
    "\n",
    "# Roe-based solution\n",
    "roe_st = shocktube(q_l,q_r,N=50,riemann_solver='Roe')\n",
    "roe_st.run()\n",
    "xc_st = roe_st.solution.state.grid.p_centers[0]\n",
    "\n",
    "# HLL-based solution\n",
    "hll_st = shocktube(q_l,q_r,N=50,riemann_solver='HLL')\n",
    "hll_st.run()\n",
    "\n",
    "# Exact solution\n",
    "xc_exact_st = np.linspace(-1,1,2000)\n",
    "states, speeds, reval, wave_types = euler.exact_riemann_solution(prim_l, prim_r)\n",
    "\n",
    "def plot_frame(i):\n",
    "    t = roe_st.frames[i].t\n",
    "    fig, ax = plt.subplots(figsize=(12,6))\n",
    "    ax.set_xlim((-1,1)); ax.set_ylim((0,1.1))\n",
    "    ax.plot(xc_exact_st,reval(xc_exact_st/(t+1.e-16))[0],'-k',lw=1)\n",
    "    ax.plot(xc_st,hll_st.frames[i].q[density,:],'-ob',lw=2)\n",
    "    ax.plot(xc_st,roe_st.frames[i].q[density,:],'-or',lw=2)\n",
    "    plt.legend(['Exact','HLL','Roe'],loc='best')\n",
    "    plt.title('Density at t={:.2f}'.format(t))\n",
    "    plt.show()\n",
    "    \n",
    "interact(plot_frame, i=widgets.IntSlider(min=0, max=10, description='Frame'));"
   ]
  },
  {
   "cell_type": "markdown",
   "metadata": {},
   "source": [
    "As you might expect, the HLL solver smears the middle wave (contact discontinuity) significantly more than the Roe solver does. Perhaps surprisingly, it captures the shock just as accurately as the Roe solver does."
   ]
  },
  {
   "cell_type": "markdown",
   "metadata": {},
   "source": [
    "### Woodward-Colella blast wave"
   ]
  },
  {
   "cell_type": "markdown",
   "metadata": {},
   "source": [
    "Next we consider the Woodward-Colella blast wave problem, which is discussed for example in <cite data-cite=\"fvmhp\"><a href=\"riemann.html#fvmhp\">(LeVeque 2002)</a></cite>.  Here the initial velocity is zero and the density is one everywhere.  The pressure is\n",
    "\\begin{align}\n",
    "    p_0(x) = \\begin{cases} 1000 & 0 \\le x \\le 0.1 \\\\\n",
    "                           0.01 & 0.1 \\le x \\le 0.9 \\\\\n",
    "                           100  & 0.9 \\le x \\le 1\n",
    "    \\end{cases}\n",
    "\\end{align}\n",
    "The boundaries at $x=0$ and $x=1$ are solid walls.  The solution involves a Riemann problem at $x=0.1$ and another at $x=0.9$.  Later, the waves resulting from these Riemann problems interact with each other."
   ]
  },
  {
   "cell_type": "code",
   "execution_count": null,
   "metadata": {},
   "outputs": [],
   "source": [
    "roe_bw = blastwave(riemann_solver='Roe')\n",
    "roe_bw.run()\n",
    "hll_bw = blastwave(riemann_solver='HLL')\n",
    "hll_bw.run()\n",
    "fine_bw = blastwave(N=4000,riemann_solver='Roe')\n",
    "fine_bw.run();\n",
    "xc_bw = roe_bw.solution.state.grid.p_centers[0]\n",
    "xc_fine_bw = fine_bw.solution.state.grid.p_centers[0]\n",
    "\n",
    "def plot_frame(i):\n",
    "    t = roe_bw.frames[i].t\n",
    "    fig, ax = plt.subplots(figsize=(12,6))\n",
    "    ax.set_xlim((0.,1)); ax.set_ylim((0,10))\n",
    "    ax.plot(xc_fine_bw,fine_bw.frames[i].q[density,:],'-k',lw=1)\n",
    "    ax.plot(xc_bw,hll_bw.frames[i].q[density,:],'-ob',lw=2)\n",
    "    ax.plot(xc_bw,roe_bw.frames[i].q[density,:],'-or',lw=2)\n",
    "    plt.legend(['Fine','HLL','Roe'],loc='best')\n",
    "    plt.title('Density at t={:.3f}'.format(t))\n",
    "    plt.show()\n",
    "    \n",
    "interact(plot_frame, i=widgets.IntSlider(min=0, max=30, description='Frame'));"
   ]
  },
  {
   "cell_type": "markdown",
   "metadata": {},
   "source": [
    "Here no exact solution is available, so we compare with a solution computed on a finer grid.\n",
    "Again the solutions are fairly similar, though the HLL solution is a bit more smeared.\n",
    "\n",
    "One should not conclude from these tests that, for instance, the Roe solver is *better* than the HLL solver.  Many factors besides accuracy should be considered, including cost and robustness.  As we have seen the HLL solver is more robust in the presence of near-vacuum states."
   ]
  },
  {
   "cell_type": "markdown",
   "metadata": {},
   "source": [
    "## High-order WENO + Runge-Kutta"
   ]
  },
  {
   "cell_type": "markdown",
   "metadata": {},
   "source": [
    "Next we look at the difference between the HLL and Roe solution when these solvers are employed within a higher-order method of lines discretization using fifth-order WENO and a 4th-order Runge-Kutta scheme."
   ]
  },
  {
   "cell_type": "code",
   "execution_count": null,
   "metadata": {},
   "outputs": [],
   "source": [
    "prim_l = [1.,0.,1.]\n",
    "prim_r = [1./8,0.,1./10]\n",
    "q_l = euler.conservative_to_primitive(*prim_l)\n",
    "q_r = euler.conservative_to_primitive(*prim_r)\n",
    "\n",
    "roe_weno = shocktube(q_l,q_r,N=50,riemann_solver='Roe',solver_type='sharpclaw')\n",
    "roe_weno.run()\n",
    "hll_weno = shocktube(q_l,q_r,N=50,riemann_solver='HLL',solver_type='sharpclaw')\n",
    "hll_weno.run()\n",
    "\n",
    "xc = roe_weno.solution.state.grid.p_centers[0]\n",
    "\n",
    "# Exact solution\n",
    "xc_exact = np.linspace(-1,1,2000)\n",
    "states, speeds, reval, wave_types = euler.exact_riemann_solution(prim_l, prim_r)\n",
    "\n",
    "def plot_frame(i):\n",
    "    t = roe_weno.frames[i].t\n",
    "    fig, ax = plt.subplots(figsize=(12,6))\n",
    "    ax.set_xlim((-1,1)); ax.set_ylim((0,1.1))\n",
    "    ax.plot(xc_exact,reval(xc_exact/(t+1.e-16))[0],'-k',lw=1)\n",
    "    ax.plot(xc,hll_weno.frames[i].q[density,:],'-ob',lw=2)\n",
    "    ax.plot(xc,roe_weno.frames[i].q[density,:],'-or',lw=2)\n",
    "    plt.legend(['Exact','HLL','Roe'],loc='best')\n",
    "    plt.title('Density at t={:.2f}'.format(t))\n",
    "    plt.show()\n",
    "    \n",
    "interact(plot_frame, i=widgets.IntSlider(min=0, max=10, description='Frame'));"
   ]
  },
  {
   "cell_type": "markdown",
   "metadata": {},
   "source": [
    "With higher-order discretizations, the difference in solutions due to using different Riemann solvers is less significant.  This is partly because these high-order schemes use more accurate values as inputs to the Riemann problem, so that in smooth regions the jump between most cells is very small."
   ]
  }
 ],
 "metadata": {
  "kernelspec": {
   "display_name": "Python 3",
   "language": "python",
   "name": "python3"
  },
  "language_info": {
   "codemirror_mode": {
    "name": "ipython",
    "version": 3
   },
   "file_extension": ".py",
   "mimetype": "text/x-python",
   "name": "python",
   "nbconvert_exporter": "python",
   "pygments_lexer": "ipython3",
   "version": "3.6.5"
  },
  "toc": {
   "base_numbering": 1,
   "nav_menu": {},
   "number_sections": true,
   "sideBar": true,
   "skip_h1_title": false,
   "title_cell": "Table of Contents",
   "title_sidebar": "Contents",
   "toc_cell": false,
   "toc_position": {},
   "toc_section_display": "block",
   "toc_window_display": false
  }
 },
 "nbformat": 4,
 "nbformat_minor": 1
}
