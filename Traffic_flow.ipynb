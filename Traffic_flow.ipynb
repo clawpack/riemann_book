{
 "cells": [
  {
   "cell_type": "markdown",
   "metadata": {},
   "source": [
    "# Traffic flow: the Lighthill-Whitham-Richards model"
   ]
  },
  {
   "cell_type": "code",
   "execution_count": null,
   "metadata": {
    "tags": [
     "hide"
    ]
   },
   "outputs": [],
   "source": [
    "%matplotlib inline\n",
    "%config InlineBackend.figure_format = 'svg'\n",
    "import matplotlib as mpl\n",
    "mpl.rcParams['font.size'] = 8\n",
    "figsize =(8,4)\n",
    "mpl.rcParams['figure.figsize'] = figsize\n",
    "import matplotlib.pyplot as plt\n",
    "import numpy as np\n",
    "from ipywidgets import interact\n",
    "from ipywidgets import widgets, FloatSlider\n",
    "from utils import riemann_tools\n",
    "from exact_solvers import traffic_LWR"
   ]
  },
  {
   "cell_type": "markdown",
   "metadata": {},
   "source": [
    "In this chapter we investigate a conservation law that models the flow of traffic.  This model is sometimes referred to as the Lighthill-Whitham-Richards (or LWR) traffic model (see <cite data-cite=\"lighthill1955kinematic\"><a href=\"riemann.html#lighthill1955kinematic\">(Lighthill, 1955)<a></cite> and <cite data-cite=\"richards1956shock\"><a href=\"riemann.html#richards1956shock\">(Richards, 1956)<a></cite>).  This model and the corresponding Riemann problem are discussed in many places; the discussion here is most closely related to that in Chapter 11 of <cite data-cite=\"fvmhp\"><a href=\"riemann.html#fvmhp\">(LeVeque, 2002)<a></cite>."
   ]
  },
  {
   "cell_type": "markdown",
   "metadata": {},
   "source": [
    "## The LWR model\n",
    "Recall the continuity equation:\n",
    "\n",
    "$$\\rho_t + (u\\rho)_x = 0.$$\n",
    "\n",
    "Now we will think of $\\rho$ as the density of cars on a road, traveling with velocity $u$.  Note that we're not keeping track of the individual cars, but just of the average number of cars per unit length of road.  Thus $\\rho=0$ represents an empty stretch of road, and we can choose the units so that $\\rho=1$ represents bumper-to-bumper traffic.\n",
    "\n",
    "We'll also choose units so that the speed limit is $u_\\text{max}=1$, and assume that drivers never go faster than this (yeah, right!)  If we assume that drivers always travel at a single uniform velocity, we obtain once again the advection equation.  But we all know that's not accurate in practice -- cars go faster in light traffic and slower when there is congestion.  The simplest way to incorporate this effect is to make the velocity a linearly decreasing function of the density:\n",
    "\n",
    "$$u(\\rho) = 1 - \\rho.$$\n",
    "\n",
    "Notice that $u$ goes to zero as $\\rho$ approaches the maximum density of 1, while $u$ goes to the maximum value of 1 as traffic density goes to zero.  Obviously, both $\\rho$ and $u$ should always stay in the interval $[0,1]$."
   ]
  },
  {
   "cell_type": "markdown",
   "metadata": {},
   "source": [
    "![Velocity as a function of density in the LWR traffic model.](./figures/LWR-Velocity.png)"
   ]
  },
  {
   "cell_type": "markdown",
   "metadata": {},
   "source": [
    "![](./figures/LWR-Velocity.png)"
   ]
  },
  {
   "cell_type": "markdown",
   "metadata": {},
   "source": [
    "Combining the two equations above, our conservation law says\n",
    "\n",
    "$$\\rho_t + (\\rho (1-\\rho))_x = 0.$$\n",
    "\n",
    "The function $\\rho(1-\\rho)$ is the flux, or the rate of flow of cars.  Notice how the flux is zero when there are no cars and also when the road is completely full.  The maximum flow of traffic actually occurs when the road is half full, as the plot below shows."
   ]
  },
  {
   "cell_type": "code",
   "execution_count": null,
   "metadata": {
    "collapsed": false
   },
   "outputs": [],
   "source": [
    "%matplotlib inline\n",
    "import matplotlib as mpl\n",
    "mpl.rcParams['font.size'] = 12\n",
    "import matplotlib.pyplot as plt\n",
    "import numpy as np\n",
    "from ipywidgets import interact\n",
    "from ipywidgets import widgets\n",
    "from utils import riemann_tools\n",
    "from exact_solvers import traffic_LWR"
   ]
  },
  {
   "cell_type": "code",
   "execution_count": null,
   "metadata": {},
   "outputs": [],
   "source": [
    "rho = np.linspace(0,1)\n",
    "f = rho*(1.-rho)\n",
    "plt.plot(rho,f,linewidth=2)\n",
    "plt.xlabel(r'$\\rho$'); plt.ylabel(r'flux $f(\\rho) = \\rho(1-\\rho)$');\n",
    "plt.ylim(0,0.3); plt.xlim(0,1); plt.grid(linestyle='--');"
   ]
  },
  {
   "cell_type": "markdown",
   "metadata": {},
   "source": [
    "This equation is fundamentally different from the advection equation because the flux is **nonlinear**.  This fact will have dramatic consequences for both the behavior of solutions and our numerical methods.  But we can superficially make this equation look like the advection equation by using the chain rule to write\n",
    "\n",
    "$$f(\\rho)_x = f'(\\rho) \\rho_x = (1-2\\rho)\\rho_x.$$\n",
    "\n",
    "Then we have\n",
    "\n",
    "$$\\rho_t + (1-2\\rho)\\rho_x = 0.$$\n",
    "\n",
    "This is like the advection equation, but with a velocity $1-2\\rho$ that depends on the density of cars.  The value $f'(\\rho)=1-2\\rho$ is referred to as the *characteristic speed*.  This characteristic speed is not the speed at which cars move (notice that it can even be negative, whereas cars only drive to the right in our model)  Rather, it is the speed at which *information* is transmitted along the road."
   ]
  },
  {
   "cell_type": "markdown",
   "metadata": {},
   "source": [
    "## Example: Traffic jam\n",
    "\n",
    "What does our model predict when traffic approaches a totally congested ($\\rho=1$) area?  This might be due to construction, an accident or a red light somewhere to the right; upstream of the obstruction, cars will be bumper-to-bumper, so we set $\\rho=1$ for $x>0$ (supposing that traffic has backed up to that point).  For $x<0$ we'll assume a lower density $\\rho_l<1$.  This is another example of a Riemann problem: two constant states separated by a discontinuity.  We have\n",
    "\n",
    "$$\n",
    "\\rho(x,t=0) = \\begin{cases} \\rho_l & x<0 \\\\\n",
    "                            1 & x>0. \\end{cases}\n",
    "$$\n",
    "\n",
    "What will happen as time goes forward?  Intuitively, we expect traffic to continue backing up to the left, so the region with $\\rho=1$ will extend further and further to the left.  This corresponds to the discontinuity (or shock wave) moving to the left.  How quickly will it move?  The example below shows the solution (on the left) and individual vehicle trajectories in the $x-t$ plane (on the right)."
   ]
  },
  {
   "cell_type": "code",
   "execution_count": null,
   "metadata": {},
   "outputs": [],
   "source": [
    "def jam(rho_l=0.4,t=0.1):\n",
    "    shock_speed = -rho_l\n",
    "    shock_location = t*shock_speed\n",
    "    fig, axes = plt.subplots(1,2,figsize=figsize)\n",
    "    \n",
    "    axes[0].plot([-1,shock_location],[rho_l,rho_l],'k',lw=2)\n",
    "    axes[0].plot([shock_location,shock_location],[rho_l,1.],'k',lw=2)\n",
    "    axes[0].plot([shock_location,1.],[1.,1.],'k',lw=2)\n",
    "    axes[0].set_xlabel('$x$'); axes[0].set_ylabel(r'$\\rho$'); \n",
    "    axes[0].set_xlim(-0.2,0.2); axes[0].set_ylim(0,1.1)\n",
    "    traffic_LWR.plot_car_trajectories(rho_l,1.,axes[1]); \n",
    "    axes[1].set_ylim(0,1); axes[0].set_title(r'$t= $'+str(t))\n",
    "    plt.xlabel('$x$'); plt.ylabel(r'$t$');\n",
    "    plt.show()\n",
    "    \n",
    "interact(jam,\n",
    "         rho_l=widgets.FloatSlider(min=0.1,max=0.9,value=0.2,description=r'$\\rho_l$'),\n",
    "         t=widgets.FloatSlider(min=0.,max=1.,step=0.1,value=0.5));"
   ]
  },
  {
   "cell_type": "markdown",
   "metadata": {},
   "source": [
    "## Speed of a shock wave: the Rankine-Hugoniot conditions\n",
    "\n",
    "In the plot above, you see a shock wave (i.e., a discontinuity) that moves to the left as more and more cars pile up behind the traffic jam.  How quickly does this discontinuity move to the left?\n",
    "\n",
    "We can figure it out by putting an imaginary line at the location of the shock.  Let $\\rho_l$ be the density of cars just to the left of the line, and let $\\rho_r$ be the density of cars just to the right.  Imagine for a moment that the line is stationary.  Then the rate of cars reaching the line from the left is $f(\\rho_l)$ and the rate of cars departing from the line to the right is $f(\\rho_r)$.  If the line really were stationary, we would need to have $f(\\rho_l)-f(\\rho_r)=0$ to avoid cars accumulating at the line.\n",
    "\n",
    "![Rate of cars entering and emerging from the shock.  If the shock is stationary, these will be unequal.](./figures/shock_diagram_traffic_a.png)\n",
    "\n",
    "However, the shock is not stationary, so the line is moving.  Let $s$ be the speed of the shock.  Then as the line moves to the left, some cars that were to the left are now to the right of the line.  The rate of cars removed from the left is $s \\rho_l$ and the rate of cars added on the right is $s \\rho_r$.  So in order to avoid an accumulation of cars at the shock, these two effects need to be balanced:\n",
    "\n",
    "$$f(\\rho_l) - f(\\rho_r) = s(\\rho_l - \\rho_r).$$\n",
    "\n",
    "This condition is known as the **Rankine-Hugoniot condition**, and it holds for any shock wave in the solution of any hyperbolic system!\n",
    "\n",
    "![The shock moves at just the necessary rate so that the same number of cars arrive from the left and emerge to the right.](./figures/shock_diagram_traffic_b.png)"
   ]
  },
  {
   "cell_type": "markdown",
   "metadata": {},
   "source": [
    "Returning to our traffic jam scenario, we set $\\rho_r=1$.  Then we find that\n",
    "\n",
    "$$s = \\frac{f(\\rho_l)-f(\\rho_r)}{\\rho_l-\\rho_r} = \\frac{f(\\rho_l)}{\\rho_l-1} =  -\\rho_l.$$\n",
    "\n",
    "This makes sense: the traffic jam propagates back along the road, and it does so more quickly if there is a greater density of approaching cars."
   ]
  },
  {
   "cell_type": "markdown",
   "metadata": {},
   "source": [
    "## Example: green light\n",
    "\n",
    "What about when a traffic light turns green?  At $t=0$, when the light changes, there will be a discontinuity with\n",
    "traffic backed up behind the light but little or no traffic after the light.  With the light at $x=0$, this takes the form of another Riemann problem:\n",
    "\n",
    "$$\n",
    "\\rho(x,t=0) = \\begin{cases} 1 & x<0 \\\\\n",
    "                            \\rho_r & x>0. \\end{cases}\n",
    "$$\n",
    "\n",
    "In this case we don't expect the same discontinuity to propagate.  Physically, the reason is clear: after the light turns green, the cars in front accelerate and spread out; then the cars behind them accelerate, and so forth.  This kind of expansion wave is referred to as a *rarefaction wave* because the drivers experience a decrease in density (a rarefaction) as they pass through this wave.   Initially, the solution is discontinuous, but after time zero it becomes continuous."
   ]
  },
  {
   "cell_type": "markdown",
   "metadata": {},
   "source": [
    "## Similarity solutions\n",
    "The exact form of the solution at a green light can be determined by assuming that the solution $\\rho(x,t)$ depends only on $x/t$.  A solution with this property is referred to as a *similarity solution*, because it is remains the same if we rescale both $x$ and $t$ by the same factor.  The solution of any Riemann problem is, in fact, a similarity solution.  Writing $\\rho(x,t) = \\tilde{\\rho}(x/t)$ we have (with $\\xi = x/t$):\n",
    "\n",
    "\\begin{align*}\n",
    "    \\rho_t & = -\\frac{x}{t^2}\\tilde{\\rho}'(\\xi) & \\rho_x & = \\frac{1}{t}\\tilde{\\rho}'(\\xi) f'(\\tilde{\\rho}(\\xi)).\n",
    "\\end{align*}\n",
    "Thus\n",
    "\\begin{align}\n",
    "    \\rho_t + f(\\rho)_x = -\\frac{x}{t^2}\\tilde{\\rho}'(\\xi) + \\frac{1}{t}\\tilde{\\rho}'(\\xi) f'(\\tilde{\\rho}(\\xi)) = 0.\n",
    "\\end{align}\n",
    "\n",
    "This can be solved to find\n",
    "\\begin{align}\n",
    "    f'(\\tilde{\\rho}(\\xi)) & = \\frac{x}{t}\n",
    "\\end{align}\n",
    "or, since $f'(\\tilde{\\rho}) = 1-2\\tilde{\\rho}$,\n",
    "\\begin{align}\n",
    "    \\tilde{\\rho}(\\xi) & = \\frac{1}{2}\\left(1 - \\frac{x}{t}\\right).\n",
    "\\end{align}\n",
    "We know that the solution far enough to the left is just $\\rho_l=1$, and far enough to the right it is $\\rho_r$.  The formula above gives the solution in the region between these constant states.  For instance, if $\\rho_r=0$ (i.e., the road beyond the light is empty at time zero), then\n",
    "\n",
    "\\begin{align}\n",
    "\\rho(x,t) & = \\begin{cases}\n",
    "                1 & x/t \\le -1 \\\\\n",
    "                \\frac{1}{2}\\left(1 - \\frac{x}{t}\\right) & -1 < x/t < 1 \\\\\n",
    "                0 & 1 \\le x/t.\n",
    "            \\end{cases}\n",
    "\\end{align}"
   ]
  },
  {
   "cell_type": "markdown",
   "metadata": {},
   "source": [
    "The plot below shows the solution density and vehicle trajectories for a green light at $x=0$."
   ]
  },
  {
   "cell_type": "code",
   "execution_count": null,
   "metadata": {},
   "outputs": [],
   "source": [
    "def green_light(rho_r=0.,t=0.1):\n",
    "    rho_l = 1.\n",
    "    left_edge = -t\n",
    "    right_edge = -t*(2*rho_r - 1)\n",
    "    fig, axes = plt.subplots(1,2,figsize=figsize)\n",
    "    axes[0].plot([-1,left_edge],[rho_l,rho_l],'k',lw=2)\n",
    "    axes[0].plot([left_edge,right_edge],[rho_l,rho_r],'k',lw=2)\n",
    "    axes[0].plot([right_edge,1.],[rho_r,rho_r],'k',lw=2)\n",
    "    axes[0].set_xlabel('$x$'); axes[0].set_ylabel(r'$\\rho$');\n",
    "    axes[0].set_xlim(-1,1);  axes[0].set_ylim(-0.1,1.1)\n",
    "    plt.xlabel('$x$'); plt.ylabel(r'$t$');\n",
    "   \n",
    "    traffic_LWR.plot_car_trajectories(1.,rho_r,axes[1],t=t,xmax=1.); \n",
    "    axes[1].set_ylim(0,1)\n",
    "    plt.show()    \n",
    "\n",
    "interact(green_light,\n",
    "         rho_r=widgets.FloatSlider(min=0.,max=0.9,value=0.,description=r'$\\rho_r$'),\n",
    "         t=widgets.FloatSlider(min=0.,max=1.,step=0.1,value=0.5));"
   ]
  },
  {
   "cell_type": "markdown",
   "metadata": {},
   "source": [
    "How can we determine whether an initial discontinuity will lead to a shock or a rarefaction?\n",
    "- Shocks appear in regions where characteristics overlap:\n",
    "\n",
    "![Shocks appear in regions where characteristics overlap.](./figures/entropy_condition_shock.png)\n",
    "\n",
    "- Rarefactions appear in regions where characteristics are spreading out:\n",
    "\n",
    "![Rarefactions appear in regions where characteristics are spreading out.](./figures/entropy_condition_rarefaction.png)\n",
    "\n",
    "More precisely, if the value to the left of a shock is $\\rho_l$ and the value to the right is $\\rho_r$, then it must be that $f'(\\rho_l)>f'(\\rho_r)$.  In fact the shock speed must lie between these characteristic speeds:\n",
    "\n",
    "$$f'(\\rho_l) > s > f'(\\rho_r).$$\n",
    "\n",
    "We say that the characteristics *impinge* on the shock.  This is known as the *entropy condition*, because in fluid dynamics such a shock obeys the 2nd law of thermodynamics.\n",
    "\n",
    "On the other hand, if $f'(\\rho_l)< f'(\\rho_r)$, then a rarefaction wave results."
   ]
  },
  {
   "cell_type": "markdown",
   "metadata": {},
   "source": [
    "## Interactive Riemann solution\n",
    "\n",
    "The code in the next cell solves the Riemann problem for any inputs $(\\rho_l,\\rho_r)$.  It returns a function `reval(xi)` that gives the value of the Riemann solution along any characteristic $\\xi=x/t$."
   ]
  },
  {
   "cell_type": "markdown",
   "metadata": {},
   "source": [
    "## Interactive Riemann solution\n",
    "\n",
    "The cell below generates a plot that shows the Riemann solution for any inputs $(\\rho_l,\\rho_r)$."
   ]
  },
  {
   "cell_type": "code",
   "execution_count": null,
   "metadata": {
    "collapsed": false
   },
   "outputs": [],
   "source": [
    "def riemann_traffic_exact(rho_l,rho_r):\n",
    "    r\"\"\"Exact solution to the Riemann problem for the LWR traffic model.\"\"\"\n",
    "    f = lambda rho: rho*(1-rho)\n",
    "    if rho_r > rho_l: # Shock wave\n",
    "        shock_speed = (f(rho_l)-f(rho_r))/(rho_l-rho_r)\n",
    "        def reval(xi):\n",
    "            if xi < shock_speed:\n",
    "                return rho_l\n",
    "            else:\n",
    "                return rho_r\n",
    "    else: # Rarefaction wave\n",
    "        c_l  = 1-2*rho_l\n",
    "        c_r = 1-2*rho_r\n",
    "\n",
    "        def reval(xi):\n",
    "            if xi < c_l:\n",
    "                return rho_l\n",
    "            elif xi > c_r:\n",
    "                return rho_r\n",
    "            else:\n",
    "                return (1.-xi)/2.      \n",
    "    return reval"
   ]
  },
  {
   "cell_type": "markdown",
   "metadata": {},
   "source": [
    "The cell below generates a plot that shows the Riemann solution, along with characteristics and vehicle trajectories, for any inputs $(\\rho_l,\\rho_r)$."
   ]
  },
  {
   "cell_type": "code",
   "execution_count": null,
   "metadata": {},
   "outputs": [],
   "source": [
    "def c(rho, xi):\n",
    "    \"Characteristic speed.\"\n",
    "    return 1.-2*rho\n",
    "\n",
    "def plot_riemann_traffic(rho_l,rho_r,t):\n",
    "    states, speeds, reval, wave_types = \\\n",
    "            traffic_LWR.riemann_traffic_exact(rho_l,rho_r)\n",
    "    ax = riemann_tools.plot_riemann(states,speeds,reval,\n",
    "                                    wave_types,t=t,\n",
    "                                    t_pointer=0,extra_axes=True,\n",
    "                                    variable_names=['Density']);\n",
    "    riemann_tools.plot_characteristics(reval,c,axes=ax[0])\n",
    "    traffic_LWR.plot_car_trajectories(rho_l,rho_r,ax[2],t=t,xmax=1.);\n",
    "    ax[1].set_ylim(-0.05,1.05); ax[2].set_ylim(0,1)\n",
    "    plt.show()    \n",
    "\n",
    "interact(plot_riemann_traffic,\n",
    "         rho_l=FloatSlider(min=0.,max=1.,value=0.5,description=r'$\\rho_l$'),\n",
    "         rho_r=FloatSlider(min=0.,max=1.,description=r'$\\rho_r$'),\n",
    "         t=FloatSlider(min=0.,max=1.,value=0.1));"
   ]
  },
  {
   "cell_type": "markdown",
   "metadata": {},
   "source": [
    "## Other resources\n",
    "Many other traffic flow models exist.  Some of them are *continuum models*, like the one presented here, that model traffic density and velocity as an aggregate.  Others are *particle* or *agent* models, that simulate individual vehicles.  You can see simulations of the latter kind at http://www.traffic-simulation.de/routing.html.  Shock waves and rarefaction waves naturally appear in such agent-based models too."
   ]
  }
 ],
 "metadata": {
  "kernelspec": {
   "display_name": "Python 2",
   "language": "python",
   "name": "python2"
  },
  "language_info": {
   "codemirror_mode": {
    "name": "ipython",
    "version": 2
   },
   "file_extension": ".py",
   "mimetype": "text/x-python",
   "name": "python",
   "nbconvert_exporter": "python",
   "pygments_lexer": "ipython2",
   "version": "2.7.12"
  }
 },
 "nbformat": 4,
 "nbformat_minor": 2
}
