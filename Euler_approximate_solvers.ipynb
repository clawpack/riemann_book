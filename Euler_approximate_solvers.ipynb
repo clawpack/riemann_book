{
 "cells": [
  {
   "cell_type": "markdown",
   "metadata": {},
   "source": [
    "# Approximate solvers for the Euler equations of gas dynamics"
   ]
  },
  {
   "cell_type": "markdown",
   "metadata": {},
   "source": [
    "In [Part I](Euler_equations.ipynb) we studied the Riemann problem for Euler equations of inviscid, compressible fluid flow .  As we saw, the exact solution of the Riemann problem is computationally expensive, since it requires solving a set of nonlinear algebraic equations.  In this chapter, we investigate approximate solvers for the Euler equations."
   ]
  },
  {
   "cell_type": "code",
   "execution_count": null,
   "metadata": {
    "collapsed": true,
    "tags": [
     "hide"
    ]
   },
   "outputs": [],
   "source": [
    "%matplotlib inline\n",
    "%config InlineBackend.figure_format = 'svg'\n",
    "import matplotlib as mpl\n",
    "mpl.rcParams['font.size'] = 8\n",
    "figsize =(8,4)\n",
    "mpl.rcParams['figure.figsize'] = figsize\n",
    "\n",
    "import numpy as np\n",
    "from exact_solvers import Euler\n",
    "from clawpack import riemann\n",
    "from utils import riemann_tools\n",
    "import matplotlib.pyplot as plt\n",
    "from collections import namedtuple\n",
    "from ipywidgets import interact\n",
    "from ipywidgets import widgets\n",
    "import matplotlib\n",
    "Primitive_State = namedtuple('State', Euler.primitive_variables)\n",
    "gamma = 1.4\n",
    "problem_data = {}\n",
    "problem_data['gamma'] = gamma\n",
    "problem_data['gamma1'] = gamma - 1.0"
   ]
  },
  {
   "cell_type": "markdown",
   "metadata": {},
   "source": [
    "## Roe solver\n",
    "To derive a Roe solver for the Euler equations, we proceed as we did for the shallow water equations, by linearizing about a specially chosen average state.  As in the shallow water case, the Roe linearization for the Euler equations is chosen so that if $(q_l, q_r)$ are related by a single shock, the Roe solver gives the exact solution."
   ]
  },
  {
   "cell_type": "markdown",
   "metadata": {},
   "source": [
    "First, recall the one-dimensional Euler eqations of inviscid, compressible flow:\n",
    "\n",
    "\\begin{align}\n",
    "    \\rho_t + (\\rho u)_x & = 0 \\\\\n",
    "    (\\rho u)_t + (\\rho u^2 + p)_x & = 0 \\\\\n",
    "    E_t + (u(E+p)) = 0.\n",
    "\\end{align}\n",
    "\n",
    "For an ideal gas, the total energy and pressure are related by the equation of state\n",
    "\n",
    "$$E = \\frac{p}{\\gamma-1} + \\frac{1}{2}\\rho u^2.$$"
   ]
  },
  {
   "cell_type": "markdown",
   "metadata": {},
   "source": [
    "Our linearization takes the form $q_t + f'(\\hat{q})q_x$, where the flux Jacobian is\n",
    "\n",
    "\\begin{align}\n",
    "    f'(\\hat{q}) = \\begin{bmatrix} 0 & 1 & 0 \\\\\n",
    "                                \\frac{1}{2}(\\gamma-3)u^2 & (3-\\gamma)u & \\gamma-1 \\\\\n",
    "                                \\frac{1}{2}(\\gamma-1)u^3-uH & H-(\\gamma-1)u^2 & \\gamma u \\end{bmatrix}.\n",
    "\\end{align}"
   ]
  },
  {
   "cell_type": "code",
   "execution_count": null,
   "metadata": {},
   "outputs": [],
   "source": [
    "solver = riemann.euler_1D_py.euler_roe_1D\n",
    "num_eqn = riemann.euler_1D_py.num_eqn\n",
    "\n",
    "problem_data['efix'] = False\n",
    "\n",
    "print(\"Roe solver solution to Euler equations:\")\n",
    "states, s, roe_eval = riemann_tools.riemann_solution(solver,\n",
    "                                    left_state,right_state,\n",
    "                                    problem_data=problem_data,verbose=True)"
   ]
  },
  {
   "cell_type": "markdown",
   "metadata": {},
   "source": [
    "#### Phase plane plots\n",
    "\n",
    "Need to improve the phase plane plots for Euler equations with 3 variables.  Below is a first attempt..."
   ]
  },
  {
   "cell_type": "code",
   "execution_count": null,
   "metadata": {},
   "outputs": [],
   "source": [
    "fig, ax = plt.subplots(1,2,figsize=figsize)\n",
    "riemann_tools.plot_phase(states,0,1,ax[0])\n",
    "riemann_tools.plot_phase(states,0,2,ax[1])\n",
    "riemann_tools.plot_phase_3d(states)"
   ]
  },
  {
   "cell_type": "code",
   "execution_count": null,
   "metadata": {},
   "outputs": [],
   "source": [
    "plot_function = riemann_tools.make_plot_function(states,s,roe_eval,\n",
    "                              variable_names=Euler.conserved_variables)\n",
    "interact(plot_function, \n",
    "         t=widgets.FloatSlider(min=0, max=0.9, step=0.1));"
   ]
  },
  {
   "cell_type": "markdown",
   "metadata": {},
   "source": [
    "## HLLE Solver\n",
    "\n",
    "The HLLE solver uses only two waves with a constant state between that is uniquely defined by conservation for any choice of the two wave speeds.  The left-going wave speed is chosen to be the minimum of the Roe speed for the 1-wave and the characterstic speed $\\lambda^1$ in the left state $q_\\ell$.  The right-going wave speed is chosen to be the maximum of the Roe speed for the 3-wave and the characterstic speed $\\lambda^3$ in the right state $q_r$."
   ]
  },
  {
   "cell_type": "code",
   "execution_count": null,
   "metadata": {},
   "outputs": [],
   "source": [
    "solver = riemann.euler_1D_py.euler_hll_1D\n",
    "\n",
    "# Sod shock tube\n",
    "left_state  = np.array(Primitive_State(Density = 3.,\n",
    "                                       Velocity = -0.5,\n",
    "                                       Pressure = 2.))\n",
    "right_state = np.array(Primitive_State(Density = 1.,\n",
    "                                       Velocity = 0.,\n",
    "                                       Pressure = 1.))\n",
    "\n",
    "print(\"HLL solver solution to Euler equations:\")\n",
    "states_hll, s_hll, hll_eval = riemann_tools.riemann_solution(solver,\n",
    "                                            left_state,right_state,\n",
    "                                            problem_data=problem_data,\n",
    "                                            verbose=True)\n"
   ]
  },
  {
   "cell_type": "markdown",
   "metadata": {},
   "source": [
    "#### Phase plane plots\n",
    "\n",
    "Need to improve the phase plane plots for Euler equations with 3 variables.  Below is a first attempt..."
   ]
  },
  {
   "cell_type": "code",
   "execution_count": null,
   "metadata": {},
   "outputs": [],
   "source": [
    "fig, ax = plt.subplots(1,3,figsize=figsize)\n",
    "riemann_tools.plot_phase(states_hll,0,1,ax[0])\n",
    "riemann_tools.plot_phase(states_hll,0,2,ax[1])\n",
    "riemann_tools.plot_phase(states_hll,1,2,ax[2])\n",
    "riemann_tools.plot_phase_3d(states_hll)"
   ]
  },
  {
   "cell_type": "code",
   "execution_count": null,
   "metadata": {},
   "outputs": [],
   "source": [
    "plot_function = riemann_tools.make_plot_function(states_hll,s_hll,\n",
    "                              hll_eval, layout='vertical', \n",
    "                              variable_names=Euler.conserved_variables)\n",
    "interact(plot_function, t=widgets.FloatSlider(min=0,max=.9,step=.1));"
   ]
  },
  {
   "cell_type": "markdown",
   "metadata": {},
   "source": [
    "## Comparison of two approximate solvers with the exact solution\n"
   ]
  },
  {
   "cell_type": "code",
   "execution_count": null,
   "metadata": {},
   "outputs": [],
   "source": [
    "ex_states, ex_speeds, reval, ex_wave_types = \\\n",
    "    Euler.exact_riemann_solution(left_state ,right_state, gamma)\n",
    "\n",
    "plot_function = \\\n",
    "    riemann_tools.make_plot_function([ex_states,states_hll,states],\n",
    "                                     [ex_speeds,s_hll,s],\n",
    "                                     [reval,hll_eval,roe_eval],\n",
    "                                     [ex_wave_types,['contact']*2,['contact']*3],\n",
    "                                     ['Exact','HLLE','Roe'],\n",
    "                                     layout='vertical',\n",
    "                                     variable_names=Euler.conserved_variables)\n",
    "    \n",
    "interact(plot_function, t=widgets.FloatSlider(min=0, max=0.9, step=0.1));"
   ]
  },
  {
   "cell_type": "markdown",
   "metadata": {},
   "source": [
    "Notice that the Roe solver significantly understimates the shock speed, and even propagates the contact discontinuity in the wrong direction.  Nevertheless, when used as an ingredient in a numerical method, it gives good results."
   ]
  }
 ],
 "metadata": {
  "kernelspec": {
   "display_name": "Python 3",
   "language": "python",
   "name": "python3"
  },
  "language_info": {
   "codemirror_mode": {
    "name": "ipython",
    "version": 3
   },
   "file_extension": ".py",
   "mimetype": "text/x-python",
   "name": "python",
   "nbconvert_exporter": "python",
   "pygments_lexer": "ipython3",
   "version": "3.5.2"
  },
  "toc": {
   "nav_menu": {},
   "number_sections": true,
   "sideBar": true,
   "skip_h1_title": false,
   "toc_cell": false,
   "toc_position": {},
   "toc_section_display": "block",
   "toc_window_display": false
  }
 },
 "nbformat": 4,
 "nbformat_minor": 1
}
