{
 "cells": [
  {
   "cell_type": "markdown",
   "metadata": {},
   "source": [
    "# Table of contents\n",
    "\n",
    "- [HLLE Solver](#HLLE-Solver)\n",
    "- [Roe Solver](#Roe-Solver)\n",
    "- [Comparison of solvers](#Comparison-of-two-approximate-solvers-with-the-exact-solution)"
   ]
  },
  {
   "cell_type": "markdown",
   "metadata": {},
   "source": [
    "In the [Part I](Euler_equations.ipynb) we studied the Riemann problem for Euler equations of inviscid, compressible fluid flow .  As we saw, the exact solution of the Riemann problem is computationally expensive, since it requires solving a set of nonlinear algebraic equations.  In the context of finite volume methods, the detailed structure of the Riemann solution is almost immediately discarded -- only its impact on the neighboring cell averages is used.  So it makes sense to consider whether we can approximate the solution with less computation.  In this chapter, we investigate approximate solvers for the Euler equations."
   ]
  },
  {
   "cell_type": "code",
   "execution_count": null,
   "metadata": {
    "collapsed": false
   },
   "outputs": [],
   "source": [
    "%matplotlib inline\n",
    "import numpy as np\n",
    "from exact_solvers import Euler\n",
    "from clawpack import riemann\n",
    "from utils import riemann_tools\n",
    "import matplotlib.pyplot as plt\n",
    "from collections import namedtuple\n",
    "from ipywidgets import widgets\n",
    "from ipywidgets import interact                   # for interactive widgets\n",
    "import matplotlib\n",
    "matplotlib.rcParams.update({'font.size': 12})\n",
    "Primitive_State = namedtuple('State', Euler.primitive_variables)\n",
    "gamma = 1.4\n",
    "problem_data = {}\n",
    "problem_data['gamma'] = gamma\n",
    "problem_data['gamma1'] = gamma - 1.0"
   ]
  },
  {
   "cell_type": "markdown",
   "metadata": {},
   "source": [
    "## HLLE Solver\n",
    "\n",
    "The HLLE solver uses only two waves with a constant state between that is uniquely defined by conservation for any choice of the two wave speeds.  The left-going wave speed is chosen to be the minimum of the Roe speed for the 1-wave and the characterstic speed $\\lambda^1$ in the left state $q_\\ell$.  The right-going wave speed is chosen to be the maximum of the Roe speed for the 3-wave and the characterstic speed $\\lambda^3$ in the right state $q_r$."
   ]
  },
  {
   "cell_type": "code",
   "execution_count": null,
   "metadata": {
    "collapsed": false
   },
   "outputs": [],
   "source": [
    "solver = riemann.euler_1D_py.euler_hll_1D\n",
    "\n",
    "# Sod shock tube\n",
    "left_state  = np.array(Primitive_State(Density = 3.,\n",
    "                                       Velocity = -0.5,\n",
    "                                       Pressure = 2.))\n",
    "right_state = np.array(Primitive_State(Density = 1.,\n",
    "                                       Velocity = 0.,\n",
    "                                       Pressure = 1.))\n",
    "\n",
    "print(\"HLL solver solution to Euler equations:\")\n",
    "states_hll, s_hll, hll_eval = riemann_tools.riemann_solution(solver,left_state,right_state,\n",
    "                                                             problem_data=problem_data,verbose=True)\n",
    "fig, ax = plt.subplots(1,3,figsize=(16,4))\n",
    "riemann_tools.plot_phase(states_hll,0,1,ax[0])\n",
    "riemann_tools.plot_phase(states_hll,0,2,ax[1])\n",
    "riemann_tools.plot_phase(states_hll,1,2,ax[2])\n",
    "riemann_tools.plot_phase_3d(states_hll)"
   ]
  },
  {
   "cell_type": "code",
   "execution_count": null,
   "metadata": {
    "collapsed": false
   },
   "outputs": [],
   "source": [
    "plot_function = riemann_tools.make_plot_function(states_hll,s_hll, hll_eval,\n",
    "                                                 layout='vertical', variable_names=Euler.conserved_variables)\n",
    "interact(plot_function, t=widgets.FloatSlider(min=0,max=.9,step=.1));"
   ]
  },
  {
   "cell_type": "markdown",
   "metadata": {},
   "source": [
    "## Roe solver\n",
    "The Roe solver is an example of a linearized Riemann solver.  It approximates the Riemann problem by considering an approximation of the flux Jacobian: $\\hat{A} \\approx f'(q)$ and exactly solving the Riemann problem for the linear hyperbolic system\n",
    "\n",
    "$$q_t + \\hat{A}q_x = 0.$$\n",
    "\n",
    "The Roe linearization is chosen so that in the case that $(q_l, q_r)$ are related by a single shock, the Roe solver gives the exact solution."
   ]
  },
  {
   "cell_type": "code",
   "execution_count": null,
   "metadata": {
    "collapsed": false
   },
   "outputs": [],
   "source": [
    "solver = riemann.euler_1D_py.euler_roe_1D\n",
    "num_eqn = riemann.euler_1D_py.num_eqn\n",
    "\n",
    "problem_data['efix'] = False\n",
    "\n",
    "print(\"Roe solver solution to Euler equations:\")\n",
    "states, s, roe_eval = riemann_tools.riemann_solution(solver,left_state,right_state,\n",
    "                                                     problem_data=problem_data,verbose=True)\n",
    "fig, ax = plt.subplots(1,2,figsize=(10,4))\n",
    "riemann_tools.plot_phase(states,0,1,ax[0])\n",
    "riemann_tools.plot_phase(states,0,2,ax[1])\n",
    "riemann_tools.plot_phase_3d(states)"
   ]
  },
  {
   "cell_type": "code",
   "execution_count": null,
   "metadata": {
    "collapsed": false
   },
   "outputs": [],
   "source": [
    "plot_function = riemann_tools.make_plot_function(states,s,roe_eval,variable_names=Euler.conserved_variables)\n",
    "interact(plot_function, t=widgets.FloatSlider(min=0, max=0.9, step=0.1));"
   ]
  },
  {
   "cell_type": "markdown",
   "metadata": {},
   "source": [
    "## Comparison of two approximate solvers with the exact solution\n"
   ]
  },
  {
   "cell_type": "code",
   "execution_count": null,
   "metadata": {
    "collapsed": false
   },
   "outputs": [],
   "source": [
    "ex_states, ex_speeds, reval, ex_wave_types = Euler.exact_riemann_solution(left_state ,right_state, gamma)\n",
    "\n",
    "plot_function = riemann_tools.make_plot_function([ex_states,states_hll,states],\n",
    "                                                 [ex_speeds,s_hll,s],\n",
    "                                                 [reval,hll_eval,roe_eval],\n",
    "                                                 [ex_wave_types,['contact']*2,['contact']*3],\n",
    "                                                 ['Exact','HLLE','Roe'],\n",
    "                                                 layout='vertical',variable_names=Euler.conserved_variables)\n",
    "interact(plot_function, t=widgets.FloatSlider(min=0, max=0.9, step=0.1));"
   ]
  },
  {
   "cell_type": "markdown",
   "metadata": {},
   "source": [
    "Notice that the Roe solver significantly understimates the shock speed, and even propagates the contact discontinuity in the wrong direction.  Nevertheless, when used as an ingredient in a numerical method, it gives good results."
   ]
  }
 ],
 "metadata": {
  "kernelspec": {
   "display_name": "Python 2",
   "language": "python",
   "name": "python2"
  },
  "language_info": {
   "codemirror_mode": {
    "name": "ipython",
    "version": 2
   },
   "file_extension": ".py",
   "mimetype": "text/x-python",
   "name": "python",
   "nbconvert_exporter": "python",
   "pygments_lexer": "ipython2",
   "version": "2.7.12"
  }
 },
 "nbformat": 4,
 "nbformat_minor": 1
}
