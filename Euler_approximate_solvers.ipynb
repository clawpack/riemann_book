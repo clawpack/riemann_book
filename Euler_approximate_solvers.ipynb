{
 "cells": [
  {
   "cell_type": "markdown",
   "metadata": {
    "deletable": true,
    "editable": true
   },
   "source": [
    "# Table of contents\n",
    "\n",
    "- [HLLE Solver](#HLLE-Solver)\n",
    "- [Roe Solver](#Roe-Solver)\n",
    "- [Comparison of solvers](#Comparison-of-two-approximate-solvers-with-the-exact-solution)"
   ]
  },
  {
   "cell_type": "markdown",
   "metadata": {
    "deletable": true,
    "editable": true
   },
   "source": [
    "In the [last notebook](Euler_equations.ipynb) we studied the Euler equations of inviscid, compressible fluid flow -- including the Riemann problem and its solution.  As we saw, the exact solution of the Riemann problem is computationally expensive, since it requires solving a set of nonlinear algebraic equations.  In the context of finite volume methods, the detailed structure of the Riemann solution is almost immediately discarded -- only its impact on the neighboring cell averages is used.  So it makes sense to consider whether we can approximate the solution with less computation.  In this notebook, we investigate approximate solvers for the Euler equations."
   ]
  },
  {
   "cell_type": "code",
   "execution_count": null,
   "metadata": {
    "collapsed": false,
    "deletable": true,
    "editable": true
   },
   "outputs": [],
   "source": [
    "%matplotlib inline\n",
    "import numpy as np\n",
    "from exact_solvers import Euler\n",
    "from clawpack import riemann\n",
    "from utils import riemann_tools\n",
    "import matplotlib.pyplot as plt\n",
    "from collections import namedtuple\n",
    "from ipywidgets import interact, widgets\n",
    "Primitive_State = namedtuple('State', Euler.primitive_variables)\n",
    "gamma = 1.4\n",
    "problem_data = {}\n",
    "problem_data['gamma'] = gamma\n",
    "problem_data['gamma1'] = gamma - 1.0"
   ]
  },
  {
   "cell_type": "markdown",
   "metadata": {
    "deletable": true,
    "editable": true
   },
   "source": [
    "## HLLE Solver\n",
    "\n",
    "The HLLE solver uses only two waves with a constant state between that is uniquely defined by conservation for any choice of the two wave speeds.  The left-going wave speed is chosen to be the minimum of the Roe speed for the 1-wave and the characterstic speed $\\lambda^1$ in the left state $q_\\ell$.  The right-going wave speed is chosen to be the maximum of the Roe speed for the 3-wave and the characterstic speed $\\lambda^3$ in the right state $q_r$."
   ]
  },
  {
   "cell_type": "code",
   "execution_count": null,
   "metadata": {
    "collapsed": false,
    "deletable": true,
    "editable": true
   },
   "outputs": [],
   "source": [
    "solver = riemann.euler_1D_py.euler_hll_1D\n",
    "\n",
    "# Shock tube\n",
    "left_state  = np.array(Primitive_State(Density = 3.,\n",
    "                                       Velocity = -0.5,\n",
    "                                       Pressure = 2.))\n",
    "right_state = np.array(Primitive_State(Density = 1.,\n",
    "                                       Velocity = 0.,\n",
    "                                       Pressure = 1.))\n",
    "\n",
    "print \"HLL solver solution to Euler equations:\"\n",
    "states_hll, s_hll, hll_eval = riemann_tools.riemann_solution(solver,left_state,right_state,\n",
    "                                                             problem_data=problem_data,verbose=True)\n",
    "fig, ax = plt.subplots(1,3,figsize=(16,4))\n",
    "riemann_tools.plot_phase(states_hll,0,1,ax[0])\n",
    "riemann_tools.plot_phase(states_hll,0,2,ax[1])\n",
    "riemann_tools.plot_phase(states_hll,1,2,ax[2])\n",
    "riemann_tools.plot_phase_3d(states_hll)"
   ]
  },
  {
   "cell_type": "code",
   "execution_count": null,
   "metadata": {
    "collapsed": false,
    "deletable": true,
    "editable": true
   },
   "outputs": [],
   "source": [
    "plot_function = riemann_tools.make_plot_function(states_hll,s_hll, hll_eval,\n",
    "                                                 layout='vertical', conserved_variables=Euler.conserved_variables)\n",
    "interact(plot_function, t=widgets.FloatSlider(min=0,max=.9,step=.1))"
   ]
  },
  {
   "cell_type": "markdown",
   "metadata": {
    "deletable": true,
    "editable": true
   },
   "source": [
    "## Roe solver\n",
    "The Roe solver is an example of a linearized Riemann solver.  It approximates the Riemann problem by considering an approximation of the flux Jacobian: $\\hat{A} \\approx f'(q)$ and exactly solving the Riemann problem for the linear hyperbolic system\n",
    "\n",
    "$$q_t + \\hat{A}q_x = 0.$$\n",
    "\n",
    "The Roe linearization is chosen so that in the case that $(q_l, q_r)$ are related by a single shock, the Roe solver gives the exact solution."
   ]
  },
  {
   "cell_type": "code",
   "execution_count": null,
   "metadata": {
    "collapsed": false,
    "deletable": true,
    "editable": true
   },
   "outputs": [],
   "source": [
    "solver = riemann.euler_1D_py.euler_roe_1D\n",
    "num_eqn = riemann.euler_1D_py.num_eqn\n",
    "\n",
    "problem_data['efix'] = False\n",
    "\n",
    "print \"Roe solver solution to Euler equations:\"\n",
    "states, s, roe_eval = riemann_tools.riemann_solution(solver,left_state,right_state,\n",
    "                                                     problem_data=problem_data,verbose=True)\n",
    "fig, ax = plt.subplots(1,2,figsize=(10,4))\n",
    "riemann_tools.plot_phase(states,0,1,ax[0])\n",
    "riemann_tools.plot_phase(states,0,2,ax[1])\n",
    "riemann_tools.plot_phase_3d(states)"
   ]
  },
  {
   "cell_type": "code",
   "execution_count": null,
   "metadata": {
    "collapsed": false,
    "deletable": true,
    "editable": true
   },
   "outputs": [],
   "source": [
    "plot_function = riemann_tools.make_plot_function(states,s,roe_eval)\n",
    "interact(plot_function, t=widgets.FloatSlider(min=0, max=0.9, step=0.1));"
   ]
  },
  {
   "cell_type": "markdown",
   "metadata": {
    "deletable": true,
    "editable": true
   },
   "source": [
    "## Comparison of two approximate solvers with the exact solution\n"
   ]
  },
  {
   "cell_type": "code",
   "execution_count": null,
   "metadata": {
    "collapsed": false,
    "deletable": true,
    "editable": true
   },
   "outputs": [],
   "source": [
    "ex_states, ex_speeds, reval = Euler.exact_riemann_solution(left_state ,right_state, gamma)\n",
    "\n",
    "plot_function = riemann_tools.make_plot_function([ex_states,states_hll,states],\n",
    "                                                 [ex_speeds,s_hll,s],\n",
    "                                                 [reval,hll_eval,roe_eval],\n",
    "                                                 ['Exact','HLLE','Roe'],\n",
    "                                                 layout='vertical',conserved_variables=Euler.conserved_variables)\n",
    "interact(plot_function, t=widgets.FloatSlider(min=0, max=0.9, step=0.1));"
   ]
  },
  {
   "cell_type": "markdown",
   "metadata": {
    "deletable": true,
    "editable": true
   },
   "source": [
    "Notice that the Roe solver significantly understimates the shock speed, and even propagates the contact discontinuity in the wrong direction.  Nevertheless, when used as an ingredient in a numerical method, it gives good results."
   ]
  },
  {
   "cell_type": "markdown",
   "metadata": {},
   "source": [
    "# Comparison of full discretizations\n",
    "\n",
    "How do these solvers impact the solution accuracy when used within a finite volume discretization?\n",
    "\n",
    "We'll test them on the same shock tube problem considered above."
   ]
  },
  {
   "cell_type": "code",
   "execution_count": null,
   "metadata": {
    "collapsed": false
   },
   "outputs": [],
   "source": [
    "from clawpack.riemann.euler_with_efix_1D_constants import density, momentum, energy, num_eqn\n",
    "\n",
    "def setup(q_l, q_r, N=50, riemann_solver='HLL', solver_type='classic'):\n",
    "\n",
    "    from clawpack import pyclaw\n",
    "    from clawpack import riemann\n",
    "\n",
    "    if riemann_solver == 'Roe':\n",
    "        rs = riemann.euler_1D_py.euler_roe_1D\n",
    "    elif riemann_solver == 'HLL':\n",
    "        rs = riemann.euler_1D_py.euler_hll_1D\n",
    "\n",
    "    if solver_type == 'classic':\n",
    "        solver = pyclaw.ClawSolver1D(rs)        \n",
    "    else:\n",
    "        solver = pyclaw.SharpClawSolver1D(rs)\n",
    "\n",
    "    solver.kernel_language = 'Python'\n",
    "    \n",
    "    solver.bc_lower[0]=pyclaw.BC.extrap\n",
    "    solver.bc_upper[0]=pyclaw.BC.extrap\n",
    "\n",
    "    x = pyclaw.Dimension(-1.0,1.0,N,name='x')\n",
    "    domain = pyclaw.Domain([x])\n",
    "    state = pyclaw.State(domain,num_eqn)\n",
    "\n",
    "    gamma = 1.4\n",
    "    state.problem_data['gamma']= gamma\n",
    "    state.problem_data['gamma1']= gamma-1.\n",
    "\n",
    "    state.problem_data['efix'] = False\n",
    "\n",
    "    xc = state.grid.p_centers[0]\n",
    "    \n",
    "    velocity = (xc<=0)*q_l[1] + (xc>0)*q_r[1]\n",
    "    pressure = (xc<=0)*q_l[2] + (xc>0)*q_r[2]\n",
    "\n",
    "    state.q[density ,:] = (xc<=0)*q_l[0] + (xc>0)*q_r[0]\n",
    "    state.q[momentum,:] = velocity * state.q[density,:]\n",
    "    state.q[energy  ,:] = pressure/(gamma - 1.) + 0.5 * state.q[density,:] * velocity**2\n",
    "\n",
    "    claw = pyclaw.Controller()\n",
    "    claw.tfinal = 0.5\n",
    "    claw.solution = pyclaw.Solution(state,domain)\n",
    "    claw.solver = solver\n",
    "    claw.num_output_times = 10\n",
    "    claw.keep_copy = True\n",
    "    claw.verbosity=0\n",
    "\n",
    "    return claw"
   ]
  },
  {
   "cell_type": "markdown",
   "metadata": {},
   "source": [
    "## Second-order modified Lax-Wendroff algorithm"
   ]
  },
  {
   "cell_type": "code",
   "execution_count": null,
   "metadata": {
    "collapsed": false
   },
   "outputs": [],
   "source": [
    "q_l = Euler.conservative_to_primitive(1.,0.,1.)\n",
    "q_r = Euler.conservative_to_primitive(1./8,0.,1./10)\n",
    "roe = setup(q_l,q_r,N=50,riemann_solver='Roe')\n",
    "roe.run()\n",
    "hll = setup(q_l,q_r,riemann_solver='HLL')\n",
    "hll.run()\n",
    "fine = setup(q_l,q_r,N=1000,riemann_solver='Roe')\n",
    "fine.run();\n",
    "xc = roe.solution.state.grid.p_centers[0]\n",
    "xc_fine = fine.solution.state.grid.p_centers[0]\n",
    "\n",
    "def plot_frame(i):\n",
    "    fig, ax = plt.subplots(figsize=(12,6))\n",
    "    ax.set_xlim((-1,1)); ax.set_ylim((0,1.1))\n",
    "    ax.plot(xc_fine,fine.frames[i].q[density,:],'-k',lw=1)\n",
    "    ax.plot(xc,hll.frames[i].q[density,:],'-ob',lw=2)\n",
    "    ax.plot(xc,roe.frames[i].q[density,:],'-or',lw=2)\n",
    "    plt.legend(['Fine','HLL','Roe'],loc='best')\n",
    "    \n",
    "interact(plot_frame, i=widgets.IntSlider(min=0, max=10, description='Frame'));"
   ]
  },
  {
   "cell_type": "markdown",
   "metadata": {},
   "source": [
    "As you might expect, the HLL solver smears the middle wave (contact discontinuity) significantly more than the Roe solver does. Perhaps surprisingly, it captures the shock just as accurately as the Roe solver does."
   ]
  },
  {
   "cell_type": "markdown",
   "metadata": {},
   "source": [
    "## High-order WENO + Runge-Kutta"
   ]
  },
  {
   "cell_type": "code",
   "execution_count": null,
   "metadata": {
    "collapsed": false
   },
   "outputs": [],
   "source": [
    "q_l = Euler.conservative_to_primitive(1.,0.,1.)\n",
    "q_r = Euler.conservative_to_primitive(1./8,0.,1./10)\n",
    "roe2 = setup(q_l,q_r,N=50,riemann_solver='Roe',solver_type='sharpclaw')\n",
    "roe2.run()\n",
    "hll2 = setup(q_l,q_r,riemann_solver='HLL',solver_type='sharpclaw')\n",
    "hll2.run()\n",
    "fine2 = setup(q_l,q_r,N=1000,riemann_solver='Roe',solver_type='sharpclaw')\n",
    "fine2.run();\n",
    "xc = roe.solution.state.grid.p_centers[0]\n",
    "xc_fine = fine.solution.state.grid.p_centers[0]\n",
    "\n",
    "def plot_frame(i):\n",
    "    fig, ax = plt.subplots(figsize=(12,6))\n",
    "    ax.set_xlim((-1,1)); ax.set_ylim((0,1.1))\n",
    "    ax.plot(xc_fine,fine2.frames[i].q[density,:],'-k',lw=1)\n",
    "    ax.plot(xc,hll2.frames[i].q[density,:],'-ob',lw=2)\n",
    "    ax.plot(xc,roe2.frames[i].q[density,:],'-or',lw=2)\n",
    "    plt.legend(['Fine','HLL','Roe'],loc='best')\n",
    "    \n",
    "interact(plot_frame, i=widgets.IntSlider(min=0, max=10, description='Frame'));"
   ]
  },
  {
   "cell_type": "markdown",
   "metadata": {},
   "source": [
    "With higher-order discretizations, the difference in the Riemann solvers is less significant."
   ]
  }
 ],
 "metadata": {
  "kernelspec": {
   "display_name": "Python 2",
   "language": "python",
   "name": "python2"
  },
  "language_info": {
   "codemirror_mode": {
    "name": "ipython",
    "version": 2
   },
   "file_extension": ".py",
   "mimetype": "text/x-python",
   "name": "python",
   "nbconvert_exporter": "python",
   "pygments_lexer": "ipython2",
   "version": "2.7.13"
  }
 },
 "nbformat": 4,
 "nbformat_minor": 0
}
