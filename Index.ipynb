{
 "cells": [
  {
   "cell_type": "markdown",
   "metadata": {},
   "source": [
    "# Riemann Problems and Jupyter Solutions\n",
    "\n",
    "### by David I. Ketcheson, Randall J. LeVeque, and Mauricio del Razo Sarmina\n",
    "\n",
    "The Github repository containing these notebooks is https://github.com/clawpack/riemann_book.\n",
    "\n",
    "You can view html versions of these notebooks at http://www.clawpack.org/riemann_book/html/Index.html.\n",
    "\n",
    "Parts I and II of these notebooks will also be published by SIAM as a paperback book, to appear with luck in late 2019.\n",
    "\n",
    "## Contents\n",
    "\n",
    " - [Preface](Preface.ipynb). Describes the aims and goals, and different ways to use the notebooks.\n",
    " \n",
    "## Part I: The Riemann problem and its solution\n",
    "\n",
    "  1. [Introduction](Introduction.ipynb). Introduces basic ideas with some sample solutions.\n",
    "  1. [Advection](Advection.ipynb) The scalar advection equation is the simplest hyperbolic problem.\n",
    "  2. [Acoustics](Acoustics.ipynb) This linear system of two equations illustrates how eigenstructure is used.\n",
    "  3. [Burgers' equation](Burgers.ipynb) The classic nonlinear scalar problem with a convex flux.\n",
    "  4. [Traffic flow](Traffic_flow.ipynb) A nonlinear scalar problem with a nice physical interpretation.\n",
    "  5. [Nonconvex_scalar](Nonconvex_scalar.ipynb) More interesting Riemann solutions arise when the flux is not convex.\n",
    "  6. [Shallow water waves](Shallow_water.ipynb) A classic nonlinear system of two equations\n",
    "  7. [Shallow water with a tracer](Shallow_tracer.ipynb) Adding a passively advected tracer and a linearly degenerate field.\n",
    "  8. [Euler equations of compressible gas dynamics](Euler.ipynb) The classic equations for an ideal gas.\n",
    "  \n",
    "## Part II: Approximate solvers\n",
    "\n",
    "  1. [Approximate_solvers](Approximate_solvers.ipynb). Introduction to two basic types of approximations.\n",
    "  1. [Burgers equation](Burgers_approximate.ipynb) \n",
    "  2. [Shallow water](Shallow_water_approximate.ipynb)\n",
    "  3. [Euler approximate solvers](Euler_approximate.ipynb).\n",
    "  4. [Numerical comparisons](Euler_compare.ipynb)"
   ]
  },
  {
   "cell_type": "markdown",
   "metadata": {},
   "source": [
    "Parts III - VI are still very much under development and updates may appear in the [Github repository](https://github.com/clawpack/riemann_book) in the future.\n",
    "\n",
    "\n",
    "## Part III: Riemann problems with spatially-varying flux\n",
    "  1. Advection\n",
    "  2. [Acoustics in heterogeneous media](Acoustics_heterogeneous.ipynb)\n",
    "  3. [Traffic with varying road conditions](Traffic_variable_speed.ipynb)\n",
    "  4. [Nonlinear elasticity in a heterogeneous medium](Nonlinear_elasticity.ipynb)\n",
    "  5. Ideal gas shock tube with different ratio of specific heats\n",
    "  6. [Euler equations with Tammann equation of state](Euler_equations_TammannEOS.ipynb)\n",
    "  \n",
    "## Part IV: Source terms\n",
    "  1. [Traffic with an on-ramp](Traffic_with_ramps.ipynb)\n",
    " \n",
    "## Part V: Non-classical problems\n",
    "  1. [Nonconvex flux for a scalar problem](Nonconvex_scalar.ipynb)\n",
    "  2. [Pressureless flow](Pressureless_flow.ipynb)\n",
    " \n",
    "## Part VI: Multidimensional systems\n",
    "  1. [Acoustics](http://nbviewer.jupyter.org/github/maojrs/ipynotebooks/blob/master/acoustics_riemann.ipynb) *[To be improved and incorporated into this project]*\n",
    "  2. [Elasticity](http://nbviewer.jupyter.org/github/maojrs/ipynotebooks/blob/master/elasticity_riemann.ipynb) *[To be improved and incorporated into this project]*\n",
    "  3. [The Kitchen Sink: shallow water in cylindrical coordinates](Kitchen_sink_problem.ipynb)"
   ]
  }
 ],
 "metadata": {
  "kernelspec": {
   "display_name": "Python 3",
   "language": "python",
   "name": "python3"
  },
  "language_info": {
   "codemirror_mode": {
    "name": "ipython",
    "version": 3
   },
   "file_extension": ".py",
   "mimetype": "text/x-python",
   "name": "python",
   "nbconvert_exporter": "python",
   "pygments_lexer": "ipython3",
   "version": "3.6.5"
  },
  "toc": {
   "base_numbering": 1,
   "nav_menu": {},
   "number_sections": true,
   "sideBar": true,
   "skip_h1_title": false,
   "title_cell": "Table of Contents",
   "title_sidebar": "Contents",
   "toc_cell": false,
   "toc_position": {},
   "toc_section_display": "block",
   "toc_window_display": false
  }
 },
 "nbformat": 4,
 "nbformat_minor": 1
}
