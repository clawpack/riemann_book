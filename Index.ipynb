{
 "cells": [
  {
   "cell_type": "markdown",
   "metadata": {},
   "source": [
    "# Contents\n",
    "\n",
    "The Github repository containing these notebooks is https://github.com/clawpack/riemann_book\n",
    "\n",
    "## Part I: The Riemann problem and its solution\n",
    "\n",
    "  0. [Introduction](Introduction.ipynb)\n",
    "  1. [Advection](Advection.ipynb)\n",
    "  2. [Acoustics](Acoustics.ipynb)\n",
    "  3. [Traffic flow](Traffic_flow.ipynb)\n",
    "  4. Burgers' equation\n",
    "  5. [Shallow water waves](Shallow_water.ipynb)\n",
    "  7. [Shallow water with a tracer](Shallow_tracer.ipynb)\n",
    "  8. [Ideal gas dynamics](Euler_equations.ipynb)\n",
    "  \n",
    "## Part II: Approximate solvers\n",
    "\n",
    "  1. [Euler approximate solvers](Euler_approximate_solvers.ipynb)\n",
    "\n",
    "## Part III: Riemann problems with spatially-varying flux\n",
    "  1. Advection\n",
    "  2. Acoustics\n",
    "  3. [Traffic with varying road conditions](Traffic_variable_speed.ipynb)\n",
    "  4. [Nonlinear elasticity in a heterogeneous medium](Nonlinear_elasticity.ipynb)\n",
    "  5. Ideal gas shock tube with different ratio of specific heats\n",
    "  6. [Euler equations with Tammann equation of state](Euler_equations_TammannEOS.ipynb)\n",
    "  \n",
    "## Part IV: Source terms\n",
    " \n",
    "## Part V: Non-classical problems\n",
    "  1. [Nonconvex flux for a scalar problem](Nonconvex_Scalar_Osher_Solution.ipynb)\n",
    "  2. [Pressureless flow](Pressureless_flow.ipynb)\n",
    " \n",
    "## Part VI: Multidimensional systems\n",
    "  1. [Acoustics](http://nbviewer.jupyter.org/github/maojrs/ipynotebooks/blob/master/acoustics_riemann.ipynb)\n",
    "  2. [Elasticity](http://nbviewer.jupyter.org/github/maojrs/ipynotebooks/blob/master/elasticity_riemann.ipynb)\n",
    "  3. [The Kitchen Sink: shallow water in cylindrical coordinates](Kitchen_sink_problem.ipynb)"
   ]
  },
  {
   "cell_type": "code",
   "execution_count": null,
   "metadata": {
    "collapsed": false
   },
   "outputs": [],
   "source": []
  }
 ],
 "metadata": {
  "kernelspec": {
   "display_name": "Python 2",
   "language": "python",
   "name": "python2"
  },
  "language_info": {
   "codemirror_mode": {
    "name": "ipython",
    "version": 2
   },
   "file_extension": ".py",
   "mimetype": "text/x-python",
   "name": "python",
   "nbconvert_exporter": "python",
   "pygments_lexer": "ipython2",
   "version": "2.7.12"
  }
 },
 "nbformat": 4,
 "nbformat_minor": 1
}
