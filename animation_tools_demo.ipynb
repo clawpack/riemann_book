{
 "cells": [
  {
   "cell_type": "markdown",
   "metadata": {},
   "source": [
    "# Demonstrate animation_tools module\n",
    "\n",
    "This notebook demonstrates the tools in the `animation_tools` module, which facilitates creating a list of figures or images and viewing them as an animation.  \n",
    "\n",
    "Currently two approaches are supported with complementary pros and cons:\n",
    "\n",
    " - Using the `ipywidgets.interact` allows generating an interactive widget for sweeping through the frames.  This may be easiest to work with when running a notebook interactively, including when using <http://mybinder.org>.\n",
    " \n",
    " - Using the `JSAnimation` package originally developed by Jake Vanderplas (and now incorporated in matplotlib) creates animations with controls that allow viewing as a movie more easily. You can also create a stand-alone html file of an animation to post on the web.  Moreover movies created with JSAnimation and saved with the notebook will operate properly when viewed via `nbviewer` or when viewing a notebook on GitHub.  However, do not try to run such a movie on a binder instance, or the JavaScript will go into an infinite loop.\n",
    " \n",
    " "
   ]
  },
  {
   "cell_type": "code",
   "execution_count": null,
   "metadata": {},
   "outputs": [],
   "source": [
    "%pylab inline"
   ]
  },
  {
   "cell_type": "code",
   "execution_count": null,
   "metadata": {},
   "outputs": [],
   "source": [
    "from ipywidgets import interact, interact_manual\n",
    "import ipywidgets\n",
    "import io\n",
    "from IPython.display import display, FileLink, FileLinks"
   ]
  },
  {
   "cell_type": "code",
   "execution_count": null,
   "metadata": {},
   "outputs": [],
   "source": [
    "from utils import animation_tools"
   ]
  },
  {
   "cell_type": "code",
   "execution_count": null,
   "metadata": {},
   "outputs": [],
   "source": [
    "import matplotlib as mpl\n",
    "mpl.rcParams['figure.dpi'] = 100"
   ]
  },
  {
   "cell_type": "markdown",
   "metadata": {},
   "source": [
    "## Generate a set of figures to use for demos\n",
    "\n",
    "You can make figures however you want.  As they are created, append to a list called `figs`:"
   ]
  },
  {
   "cell_type": "code",
   "execution_count": null,
   "metadata": {},
   "outputs": [],
   "source": [
    "figs = []\n",
    "x = linspace(0,1,1000)\n",
    "\n",
    "for k in range(11):\n",
    "    fig = figure()\n",
    "    plot(x, sin(2*pi*k*x), 'b')\n",
    "    ylim(-1.1,1.1)\n",
    "    title('$\\sin(2\\pi kx)$ for k = %s' % k)\n",
    "    figs.append(fig)\n",
    "    close(fig)"
   ]
  },
  {
   "cell_type": "markdown",
   "metadata": {},
   "source": [
    "## Animating a list of figures\n",
    "\n",
    "The tool `animation_tools.interact_animate_figs` can be used to create an interact that loops over all the frames contained in a list of figures."
   ]
  },
  {
   "cell_type": "code",
   "execution_count": null,
   "metadata": {},
   "outputs": [],
   "source": [
    "animation_tools.interact_animate_figs(figs)"
   ]
  },
  {
   "cell_type": "markdown",
   "metadata": {},
   "source": [
    "Passing in the argument `manual=True` will use the widget `interact_manual` instead of `interact`.  This refrains from updating the image as you move the slider bar.  Instead you move the slider as desired and then click on the `Run` button to re-display the image.  This is useful if there are many frames and you want to be able to jump to around without all the intermediate frames being displayed, which can slow down the response significantly."
   ]
  },
  {
   "cell_type": "code",
   "execution_count": null,
   "metadata": {},
   "outputs": [],
   "source": [
    "animation_tools.interact_animate_figs(figs, manual=True)"
   ]
  },
  {
   "cell_type": "markdown",
   "metadata": {},
   "source": [
    "The argument `TextInput=True` can be specified to produce a text input cell rather than a slider bar:"
   ]
  },
  {
   "cell_type": "code",
   "execution_count": null,
   "metadata": {},
   "outputs": [],
   "source": [
    "animation_tools.interact_animate_figs(figs, manual=True, TextInput=True)"
   ]
  },
  {
   "cell_type": "markdown",
   "metadata": {},
   "source": [
    "## Animating a list of images\n",
    "\n",
    "The tool `animation_tools.interact_animate_images` can be used to create an interact that loops over all the frames contained in a list of images rather than figures. The images can be generated from a list of figures, as illustrated in the next cell.  Or they can be read in from a directory of png files, for example, as illustrated later.\n",
    "\n",
    "This function also takes the arguments `manual` and `TextInput` as described above, with default values `False`."
   ]
  },
  {
   "cell_type": "code",
   "execution_count": null,
   "metadata": {},
   "outputs": [],
   "source": [
    "images = animation_tools.make_images(figs)\n",
    "animation_tools.interact_animate_images(images)"
   ]
  },
  {
   "cell_type": "markdown",
   "metadata": {},
   "source": [
    "## JSAnimation\n",
    "\n",
    "A list of images can also be turned into a JSAnimation inline plot:"
   ]
  },
  {
   "cell_type": "code",
   "execution_count": null,
   "metadata": {},
   "outputs": [],
   "source": [
    "animation_tools.JSAnimate_images(images, figsize=(8,4))"
   ]
  },
  {
   "cell_type": "markdown",
   "metadata": {},
   "source": [
    "Alternatively, a separate stand-alone html page can be created with the JSAnimation.  This can be posted on the web for others to view, for example."
   ]
  },
  {
   "cell_type": "code",
   "execution_count": null,
   "metadata": {},
   "outputs": [],
   "source": [
    "anim = animation_tools.JSAnimate_images(images, figsize=(8,4))"
   ]
  },
  {
   "cell_type": "code",
   "execution_count": null,
   "metadata": {},
   "outputs": [],
   "source": [
    "file_name = 'sine_functions.html'\n",
    "animation_tools.make_html(anim, file_name=file_name, title=\"Sine Functions\", \n",
    "                          raw_html=\"Illustration of html file created by <tt>make_html</tt>\")\n",
    "FileLink(file_name)"
   ]
  },
  {
   "cell_type": "markdown",
   "metadata": {},
   "source": [
    "## Create a directory of png files\n",
    "\n",
    "Sometimes it is useful to create a directory containing png files for each figure, or you might have such a directory generated by other means (e.g. from VisClaw).\n",
    "\n",
    "Here we create a directory named `_plots` to store png files for each frame:"
   ]
  },
  {
   "cell_type": "code",
   "execution_count": null,
   "metadata": {},
   "outputs": [],
   "source": [
    "plotdir = '_plots'\n",
    "animation_tools.make_plotdir(plotdir, clobber=True)"
   ]
  },
  {
   "cell_type": "markdown",
   "metadata": {},
   "source": [
    "You can create frames any way you wish and then use `animation_tools.save_frame` to save each one.  You can also explicitly call `savefig`, but then you should construct file names such that `glob.glob` can be used to return a list of filenames in the directory that are in the correct order for plotting as frames in an animation.  The `animation_tools.save_frame` creates names such as `frame00000.png` etc. as shown below.  The optional argument `fname_base` can be used to change `frame` to something else."
   ]
  },
  {
   "cell_type": "code",
   "execution_count": null,
   "metadata": {},
   "outputs": [],
   "source": [
    "x = linspace(0,1,1000)\n",
    "\n",
    "for k in range(5):\n",
    "    fig = figure()\n",
    "    plot(x, cos(2*pi*k*x), 'b')\n",
    "    ylim(-1.1,1.1)\n",
    "    title('$\\cos(2\\pi kx)$ for k = %s' % k)\n",
    "    animation_tools.save_frame(k, verbose=True)\n",
    "    close(fig)"
   ]
  },
  {
   "cell_type": "code",
   "execution_count": null,
   "metadata": {},
   "outputs": [],
   "source": [
    "FileLinks(plotdir)"
   ]
  },
  {
   "cell_type": "markdown",
   "metadata": {},
   "source": [
    "Given such a directory of png files, we can read them in using `animation_tools.read_images` to produce a list of images:"
   ]
  },
  {
   "cell_type": "code",
   "execution_count": null,
   "metadata": {},
   "outputs": [],
   "source": [
    "cosine_images = animation_tools.read_images(plotdir='_plots', fname_pattern='frame*.png')\n",
    "print(\"Found %i images\" % len(cosine_images))"
   ]
  },
  {
   "cell_type": "markdown",
   "metadata": {},
   "source": [
    "The resulting list of images `new_images` can now be animated using any of the tools illustrated earlier, e.g."
   ]
  },
  {
   "cell_type": "code",
   "execution_count": null,
   "metadata": {},
   "outputs": [],
   "source": [
    "animation_tools.interact_animate_images(cosine_images)"
   ]
  },
  {
   "cell_type": "markdown",
   "metadata": {},
   "source": [
    "## Saving a list of figures or images\n",
    "\n",
    "If you already have a list of figures or images and wish to create a directory containing them, the utilities `animation_tools.save_figs` or `animation_tools.save_images` can be used.  For example:"
   ]
  },
  {
   "cell_type": "code",
   "execution_count": null,
   "metadata": {},
   "outputs": [],
   "source": [
    "animation_tools.save_images(cosine_images, plotdir='cosine_images', fname_base='wavenumber', \n",
    "                            format='png', verbose=True, kwargs={'dpi':150})\n",
    "FileLinks('cosine_images')"
   ]
  },
  {
   "cell_type": "code",
   "execution_count": null,
   "metadata": {},
   "outputs": [],
   "source": [
    "reload_images = animation_tools.read_images(plotdir='cosine_images', fname_pattern='wavenumber*.png')\n",
    "animation_tools.interact_animate_images(reload_images, figsize=(12,7))"
   ]
  },
  {
   "cell_type": "code",
   "execution_count": null,
   "metadata": {},
   "outputs": [],
   "source": []
  }
 ],
 "metadata": {
  "kernelspec": {
   "display_name": "Python 3",
   "language": "python",
   "name": "python3"
  },
  "language_info": {
   "codemirror_mode": {
    "name": "ipython",
    "version": 3
   },
   "file_extension": ".py",
   "mimetype": "text/x-python",
   "name": "python",
   "nbconvert_exporter": "python",
   "pygments_lexer": "ipython3",
   "version": "3.6.5"
  }
 },
 "nbformat": 4,
 "nbformat_minor": 1
}
